{
  "cells": [
    {
      "attachments": {},
      "cell_type": "markdown",
      "metadata": {
        "id": "7RjB1ipC7KbS"
      },
      "source": [
        "# AMPL Capacitated p-Median Problem with GCG\n",
        "[![cpmp.ipynb](https://img.shields.io/badge/github-%23121011.svg?logo=github)](https://github.com/ampl/amplcolab/blob/master/lentz/gcg/cpmp.ipynb) [![Open In Colab](https://colab.research.google.com/assets/colab-badge.svg)](https://github.com/ampl/amplcolab/blob/master/lentz/gcg/cpmp.ipynb) [![Kaggle](https://kaggle.com/static/images/open-in-kaggle.svg)](https://kaggle.com/kernels/welcome?src=https://github.com/ampl/amplcolab/blob/master/lentz/gcg/cpmp.ipynb) [![Gradient](https://assets.paperspace.io/img/gradient-badge.svg)](https://console.paperspace.com/github/ampl/amplcolab/blob/master/lentz/gcg/cpmp.ipynb) [![Open In SageMaker Studio Lab](https://studiolab.sagemaker.aws/studiolab.svg)](https://studiolab.sagemaker.aws/import/github/ampl/amplcolab/blob/master/lentz/gcg/cpmp.ipynb) [![Hits](https://h.ampl.com/https://github.com/ampl/amplcolab/blob/master/lentz/gcg/cpmp.ipynb)](https://colab.ampl.com)\n",
        "\n",
        "Description: Dantzig-Wolfe decomposition for Capacitated p-Median Problem with GCG\n",
        "\n",
        "Tags: GCG, cpmp, amplpy, dantzig-wolfe decomposition, branch-price-and-cut, highlights\n",
        "\n",
        "Notebook author: Jurgen Lentz <<jurgenlentz26@gmail.com>>"
      ]
    },
    {
      "cell_type": "code",
      "execution_count": 1,
      "metadata": {
        "id": "rQ50dBwL7KbX"
      },
      "outputs": [
        {
          "name": "stdout",
          "output_type": "stream",
          "text": [
            "\u001b[33mWARNING: Skipping /opt/local/Library/Frameworks/Python.framework/Versions/3.11/lib/python3.11/site-packages/yapf-0.33.0-py3.11.egg/EGG-INFO due to invalid metadata entry 'name'\u001b[0m\u001b[33m\n",
            "\u001b[0m\u001b[33mWARNING: Skipping /opt/local/Library/Frameworks/Python.framework/Versions/3.11/lib/python3.11/site-packages/protobuf-4.23.1-py3.11.egg/EGG-INFO due to invalid metadata entry 'name'\u001b[0m\u001b[33m\n",
            "\u001b[0m\u001b[33mWARNING: Skipping /opt/local/Library/Frameworks/Python.framework/Versions/3.11/lib/python3.11/site-packages/absl_py-1.4.0-py3.11.egg/EGG-INFO due to invalid metadata entry 'name'\u001b[0m\u001b[33m\n",
            "\u001b[0m\u001b[33mWARNING: Skipping /opt/local/Library/Frameworks/Python.framework/Versions/3.11/lib/python3.11/site-packages/yapf-0.33.0-py3.11.egg/EGG-INFO due to invalid metadata entry 'name'\u001b[0m\u001b[33m\n",
            "\u001b[0m\u001b[33mWARNING: Skipping /opt/local/Library/Frameworks/Python.framework/Versions/3.11/lib/python3.11/site-packages/protobuf-4.23.1-py3.11.egg/EGG-INFO due to invalid metadata entry 'name'\u001b[0m\u001b[33m\n",
            "\u001b[0m\u001b[33mWARNING: Skipping /opt/local/Library/Frameworks/Python.framework/Versions/3.11/lib/python3.11/site-packages/absl_py-1.4.0-py3.11.egg/EGG-INFO due to invalid metadata entry 'name'\u001b[0m\u001b[33m\n",
            "\u001b[0m"
          ]
        }
      ],
      "source": [
        "# Install dependencies\n",
        "!pip install -q amplpy"
      ]
    },
    {
      "cell_type": "code",
      "execution_count": 2,
      "metadata": {
        "colab": {
          "base_uri": "https://localhost:8080/",
          "height": 101,
          "referenced_widgets": [
            "5c52a4f288924ca8bbf5182a951af6a8",
            "5a786f2dd2584199a4001c8bebefd757",
            "9a901424b8c04687b39b5e1251ee3919",
            "fcf080abd68144728d12fa81f879d5d5",
            "b2d8e84e2f6545bc98bbaf40294b9ad8",
            "de8c25d11df34ae2b86964266defdfdc",
            "a1e4bcf9de474b4f835419c6278d4e42",
            "45de4f35c7f04c37b87cad70c3e3b224",
            "59a30522756c4d668323600e0800a022",
            "4510b5e780f24d44ace00a42c38cf6dc",
            "5bec63a60fab4e628b18b6576859f23d",
            "4cfacef2f3e44067b81ac133fe17ae5b",
            "c9f8c186dbec4424895eb43630e458f2",
            "a0a3a52262a340debb5a29ce65170164"
          ]
        },
        "id": "s7DEaRp87KbY",
        "outputId": "7ccc087a-1af8-445e-c56d-31f3371b0c38"
      },
      "outputs": [
        {
          "name": "stdout",
          "output_type": "stream",
          "text": [
            "Licensed to Development License for Jurgen Lentz <jurgenlentz26@gmail.com>.\n"
          ]
        }
      ],
      "source": [
        "# Google Colab & Kaggle integration\n",
        "from amplpy import AMPL, tools\n",
        "ampl = tools.ampl_notebook(\n",
        "    modules=[\"gurobi\", \"scip\", \"gcg\"], # modules to install\n",
        "    license_uuid=\"04da0909-bbeb-4a38-98d2-ba75e4850f5c\") # license to use"
      ]
    },
    {
      "attachments": {},
      "cell_type": "markdown",
      "metadata": {
        "id": "twrd0pLo7KbZ"
      },
      "source": [
        "## Capacitated $p$-median problem"
      ]
    },
    {
      "attachments": {},
      "cell_type": "markdown",
      "metadata": {},
      "source": []
    },
    {
      "attachments": {},
      "cell_type": "markdown",
      "metadata": {},
      "source": []
    },
    {
      "cell_type": "code",
      "execution_count": 3,
      "metadata": {
        "id": "aEtyesqs7KbZ"
      },
      "outputs": [],
      "source": [
        "%%ampl_eval\n",
        "param n;\n",
        "param C;\n",
        "\n",
        "suffix master IN, binary;\n",
        "suffix block IN, integer;\n",
        "\n",
        "set I = 1..n ordered;\n",
        "param w {I} > 0;\n",
        "param maxVal := max {i in I} w[i];\n",
        "param maxbins := ceil(n / floor(C / maxVal));\n",
        "\n",
        "set J = 1..maxbins;\n",
        "\n",
        "var x {I,J} binary;\n",
        "var y {J} binary;\n",
        "\n",
        "minimize Cost:  sum {j in J} y[j];\n",
        "\n",
        "subject to b_Capacity {j in J}:\n",
        "   sum {i in I} w[i] * x[i,j] <= C * y[j] suffix block j;\n",
        "\n",
        "subject to m_Allocate {i in I}:\n",
        "   sum {j in J} x[i,j] >= 1 suffix master 1;\n"
      ]
    },
    {
      "attachments": {},
      "cell_type": "markdown",
      "metadata": {},
      "source": [
        "We generate a small instance with 5 locations and 2 locations as medians."
      ]
    },
    {
      "cell_type": "code",
      "execution_count": 4,
      "metadata": {
        "id": "jYDiBDD_7Kba"
      },
      "outputs": [],
      "source": [
        "ampl.param[\"n\"] = 180\n",
        "ampl.param[\"C\"] = 1000\n",
        "\n",
        "w = [1, 514, 515, 4, 523, 12, 526, 15, 16, 531, 20, 20, 21, 24, 24, 516, 26, 35, 36, 36, 550, 550, 555, 44, 557, 558, 51, 54, 58, 572, 61, 61, 574, 575, 67, 68, 69, 582, 585, 586, 587, 588, 78, 592, 83, 84, 598, 91, 698, 95, 97, 97, 610, 614, 102, 102, 105, 106, 109, 622, 622, 112, 117, 596, 617, 634, 639, 131, 645, 645, 647, 137, 139, 656, 147, 660, 152, 665, 667, 157, 670, 671, 671, 160, 162, 675, 164, 169, 170, 685, 686, 178, 694, 695, 696, 186, 189, 193, 195, 205, 209, 215, 216, 216, 218, 229, 240, 240, 243, 690, 251, 252, 256, 270, 274, 279, 283, 283, 291, 293, 294, 298, 305, 312, 320, 322, 325, 325, 327, 333, 339, 346, 351, 358, 359, 361, 367, 372, 373, 374, 377, 379, 385, 388, 389, 391, 399, 409, 413, 415, 416, 423, 433, 435, 435, 440, 446, 447, 672, 453, 465, 466, 466, 467, 468, 472, 475, 481, 485, 492, 495, 495, 496, 497, 497, 498, 681, 681, 505, 508]\n",
        "\n",
        "ampl.param[\"w\"] = {\n",
        "  i: w[i-1]\n",
        "  for i in range(1,len(w)+1)\n",
        "}\n",
        "\n",
        "ampl.param[\"n\"] = len(w)"
      ]
    },
    {
      "attachments": {},
      "cell_type": "markdown",
      "metadata": {
        "id": "uftSUdTh9eZY"
      },
      "source": [
        "## Automatic Mode in GCG with AMPL"
      ]
    },
    {
      "attachments": {},
      "cell_type": "markdown",
      "metadata": {},
      "source": [
        "We use AMPL to call the solver GCG to solve our CPMP instance automatically without providing any information about the Dantzig-Wolfe decomposition. Here, GCG detects different decompositions and chooses heuristically the best decomposition. Afterwards, the solver uses a branch-price-and-cut algorithm to solve it to optimality."
      ]
    },
    {
      "cell_type": "code",
      "execution_count": 5,
      "metadata": {},
      "outputs": [
        {
          "name": "stdout",
          "output_type": "stream",
          "text": [
            "Gurobi 10.0.1: Set parameter LogToConsole to value 1\n",
            "tech:outlev=1\n",
            "Set parameter InfUnbdInfo to value 1\n",
            "Gurobi Optimizer version 10.0.1 build v10.0.1rc0 (mac64[x86])\n",
            "\n",
            "CPU model: Intel(R) Core(TM) i5-5350U CPU @ 1.80GHz\n",
            "Thread count: 2 physical cores, 4 logical processors, using up to 4 threads\n",
            "\n",
            "Optimize a model with 360 rows, 32580 columns and 64980 nonzeros\n",
            "Model fingerprint: 0xc7d9e6d8\n",
            "Variable types: 0 continuous, 32580 integer (0 binary)\n",
            "Coefficient statistics:\n",
            "  Matrix range     [1e+00, 1e+03]\n",
            "  Objective range  [1e+00, 1e+00]\n",
            "  Bounds range     [1e+00, 1e+00]\n",
            "  RHS range        [1e+00, 1e+00]\n",
            "Found heuristic solution: objective 130.0000000\n",
            "Presolve time: 0.31s\n",
            "Presolved: 360 rows, 32580 columns, 64980 nonzeros\n",
            "Variable types: 0 continuous, 32580 integer (32580 binary)\n",
            "\n",
            "Root relaxation: objective 6.399300e+01, 1340 iterations, 0.18 seconds (0.12 work units)\n",
            "\n",
            "    Nodes    |    Current Node    |     Objective Bounds      |     Work\n",
            " Expl Unexpl |  Obj  Depth IntInf | Incumbent    BestBd   Gap | It/Node Time\n",
            "\n",
            "     0     0   63.99300    0   95  130.00000   63.99300  50.8%     -    1s\n",
            "H    0     0                      84.0000000   63.99300  23.8%     -    1s\n",
            "H    0     0                      79.0000000   63.99300  19.0%     -    1s\n",
            "H    0     0                      77.0000000   63.99300  16.9%     -    1s\n",
            "     0     0   63.99300    0  140   77.00000   63.99300  16.9%     -    1s\n",
            "H    0     0                      75.0000000   63.99300  14.7%     -    2s\n",
            "H    0     0                      67.0000000   63.99300  4.49%     -    3s\n",
            "     0     0   63.99300    0  140   67.00000   63.99300  4.49%     -    3s\n",
            "     0     0   63.99300    0  133   67.00000   63.99300  4.49%     -    4s\n",
            "     0     0   63.99300    0  127   67.00000   63.99300  4.49%     -    5s\n",
            "     0     2   63.99300    0  127   67.00000   63.99300  4.49%     -    8s\n",
            "    17     6 infeasible    6        67.00000   63.99300  4.49%   341   10s\n",
            "    27    10   63.99300    9  118   67.00000   63.99300  4.49%   480   19s\n",
            "H   28    10                      66.0000000   63.99300  3.04%   463   19s\n",
            "    29     9 infeasible   10        66.00000   63.99300  3.04%   470   20s\n",
            "    63    22   63.99300   18  109   66.00000   63.99300  3.04%   579   25s\n",
            "    92    36   63.99300   29  102   66.00000   63.99300  3.04%   518   33s\n",
            "   103    46 infeasible   33        66.00000   63.99300  3.04%   545   38s\n",
            "   115    75   63.99300   38  114   66.00000   63.99300  3.04%   491   41s\n",
            "   154   143   63.99300   48  114   66.00000   63.99300  3.04%   460   48s\n",
            "   226   263   63.99300   75  123   66.00000   63.99300  3.04%   385   55s\n",
            "   346   391   64.00000  122  123   66.00000   63.99300  3.04%   304   61s\n",
            "   480   485   65.00000  194   94   66.00000   63.99300  3.04%   232   68s\n",
            "   582   603   64.00000  169   94   66.00000   63.99300  3.04%   194   74s\n",
            "   706   708   64.00000  227   88   66.00000   63.99300  3.04%   162   86s\n",
            "   815   832   64.00000  280   93   66.00000   63.99300  3.04%   141   95s\n",
            "   941   953   64.00000  339   92   66.00000   63.99300  3.04%   124  104s\n",
            "  1066  1085   64.00000  397   90   66.00000   63.99300  3.04%   110  111s\n",
            "  1208  1212   64.00000  459   83   66.00000   63.99300  3.04%  98.6  119s\n",
            "  1345  1333   64.00000  524   84   66.00000   63.99300  3.04%  89.6  127s\n",
            "  1490  1457   64.00000  154  101   66.00000   63.99300  3.04%  82.9  135s\n",
            "  1638  1460   63.99300    3   88   66.00000   63.99300  3.04%  76.9  143s\n",
            "  1640  1461   63.99300   72  117   66.00000   63.99300  3.04%  76.8  146s\n",
            "  1646  1465   64.00000  413  100   66.00000   63.99300  3.04%  76.5  151s\n",
            "  1648  1467   64.00000  649   98   66.00000   63.99300  3.04%  76.4  158s\n",
            "  1651  1468   63.99300   12   90   66.00000   63.99300  3.04%   100  160s\n",
            "  1673  1460 infeasible   23        66.00000   63.99300  3.04%   107  165s\n",
            "  1687  1456   63.99300   30  102   66.00000   63.99300  3.04%   111  170s\n",
            "  1703  1450   63.99300   38  105   66.00000   63.99300  3.04%   119  175s\n",
            "  1724  1442   63.99300   48   96   66.00000   63.99300  3.04%   127  180s\n",
            "  1736  1438   63.99300   54  100   66.00000   63.99300  3.04%   132  185s\n",
            "  1756  1434 infeasible   65        66.00000   63.99300  3.04%   138  190s\n",
            "  1767  1435   63.99300   70  109   66.00000   63.99300  3.04%   139  195s\n",
            "  1785  1441   63.99300   74  111   66.00000   63.99300  3.04%   138  217s\n",
            "  1794  1445   64.00000   76  109   66.00000   63.99300  3.04%   138  223s\n",
            "  1808  1447 infeasible   79        66.00000   63.99300  3.04%   138  227s\n",
            "  1825  1445   64.00000   83  100   66.00000   63.99300  3.04%   137  236s\n",
            "  1862  1438   64.33000   88  100   66.00000   63.99300  3.04%   136  243s\n",
            "  1884  1433   64.36600   93  111   66.00000   63.99300  3.04%   135  255s\n",
            "  1904  1433 infeasible   99        66.00000   63.99300  3.04%   134  270s\n",
            "  1925  1430   64.58600  107  101   66.00000   63.99300  3.04%   133  279s\n",
            "  1972  1415 infeasible  115        66.00000   63.99300  3.04%   131  290s\n",
            "  2014  1405   64.00000  119  106   66.00000   63.99300  3.04%   129  314s\n",
            "  2038  1401   64.00000  123  105   66.00000   63.99300  3.04%   128  326s\n",
            "  2068  1393 infeasible  128        66.00000   63.99300  3.04%   127  339s\n",
            "  2107  1380 infeasible  134        66.00000   63.99300  3.04%   126  355s\n",
            "  2135  1376   64.00000  135  101   66.00000   63.99300  3.04%   125  368s\n",
            "  2167  1378   64.58200  143   87   66.00000   63.99300  3.04%   124  382s\n",
            "  2203  1370   64.00000  150  101   66.00000   63.99300  3.04%   122  406s\n",
            "  2222  1389   64.00000  153  101   66.00000   63.99300  3.04%   121  420s\n",
            "  2256  1412   64.00000  166  101   66.00000   63.99300  3.04%   120  435s\n",
            "  2298  1423   64.00000  185   97   66.00000   63.99300  3.04%   118  452s\n",
            "  2331  1441   64.00000  198   98   66.00000   63.99300  3.04%   116  470s\n",
            "  2372  1453   64.00000  213   95   66.00000   63.99300  3.04%   115  489s\n",
            "  2418  1468   64.00000  231   94   66.00000   63.99300  3.04%   113  507s\n",
            "  2468  1468   64.00000  247   93   66.00000   63.99300  3.04%   111  528s\n",
            "  2493  1485   64.00000  256   97   66.00000   63.99300  3.04%   110  552s\n",
            "  2534  1497   65.00000  275   57   66.00000   63.99300  3.04%   109  580s\n"
          ]
        }
      ],
      "source": [
        "ampl.option[\"solver\"] = \"gurobi\"\n",
        "ampl.option[\"gurobi_options\"] = \"outlev=1\"\n",
        "ampl.solve()"
      ]
    },
    {
      "cell_type": "code",
      "execution_count": 5,
      "metadata": {
        "colab": {
          "base_uri": "https://localhost:8080/"
        },
        "id": "j6pPuSOi8nPH",
        "outputId": "096f397f-7680-4a1e-f3f3-e5126edfc931"
      },
      "outputs": [
        {
          "name": "stdout",
          "output_type": "stream",
          "text": [
            "GCG 3.6.0: tech:outlev=1\n",
            " added complete decomp for original problem with 180 blocks and 180 masterconss, 0 linkingvars, 0 mastervars, and max white score of   0.497222 \n",
            "presolving:\n",
            "(round 1, exhaustive) 0 del vars, 0 del conss, 0 add conss, 0 chg bounds, 0 chg sides, 0 chg coeffs, 180 upgd conss, 0 impls, 3981 clqs\n",
            "(round 2, exhaustive) 0 del vars, 0 del conss, 0 add conss, 0 chg bounds, 0 chg sides, 0 chg coeffs, 360 upgd conss, 0 impls, 3981 clqs\n",
            "   (13.6s) probing: 1000/32580 (3.1%) - 0 fixings, 0 aggregations, 19850 implications, 0 bound changes\n",
            "   (13.6s) probing: 1001/32580 (3.1%) - 0 fixings, 0 aggregations, 19851 implications, 0 bound changes\n",
            "   (13.6s) probing aborted: 1000/1000 successive useless probings\n",
            "presolving (3 rounds: 3 fast, 3 medium, 3 exhaustive):\n",
            " 0 deleted vars, 0 deleted constraints, 0 added constraints, 0 tightened bounds, 0 added holes, 0 changed sides, 0 changed coefficients\n",
            " 0 implications, 3982 cliques\n",
            "presolved problem has 32580 variables (32580 bin, 0 int, 0 impl, 0 cont) and 360 constraints\n",
            "    180 constraints of type <knapsack>\n",
            "    180 constraints of type <logicor>\n",
            "transformed objective value is always integral (scale: 1)\n",
            "Presolving Time: 13.61\n",
            " calculated translation; number of missing constraints: 0; number of other partialdecs: 1 \n",
            "Preexisting decomposition found. Solution process started...\n",
            "\n",
            "A Dantzig-Wolfe reformulation is applied to solve the original problem.\n",
            "Chosen structure has 180 blocks and 180 linking constraints.\n",
            "This decomposition has a maxwhite score of 0.497222.\n",
            "Master problem is a set covering problem.\n",
            "Matrix has 180 blocks, using 1 aggregated pricing problem.\n",
            "\n",
            "  time | node  | left  |SLP iter|MLP iter|LP it/n| mem |mdpt |ovars|mvars|ocons|mcons|mcuts|  dualbound   | primalbound  |  deg   |  gap   \n",
            "p 19.4s|     1 |     0 |      0 |      0 |     - | 253M|   0 |  32k|   0 | 360 |   0 |   0 | 0.000000e+00 | 1.470000e+02 |   --   |    Inf \n",
            "i 19.7s|     1 |     0 |      0 |      0 |     - | 252M|   0 |  32k|   0 | 360 |   0 |   0 | 0.000000e+00 | 7.500000e+01 |   --   |    Inf \n",
            "  21.1s|     1 |     0 |      0 |      0 |     - | 252M|   0 |  32k|   0 | 360 |   0 |   0 | 6.399300e+01 | 7.500000e+01 |   --   |  17.20%\n",
            "\n",
            "     \n",
            "  21.3s|     1 |     0 |      0 |      0 |     - | 257M|   0 |  32k| 180 | 361 | 182 |   0 | 6.399300e+01 | 7.500000e+01 |   0.00%|  17.20%\n",
            "  21.3s|     1 |     0 |      0 |      0 |     - | 257M|   0 |  32k| 360 | 361 | 182 |   0 | 6.399300e+01 | 7.500000e+01 |   0.00%|  17.20%\n",
            "Starting reduced cost pricing...\n",
            "*r21.5s|     1 |     0 |    136 |    136 |     - | 259M|   0 |  32k| 400 | 361 | 182 |   0 | 6.399300e+01 | 7.400000e+01 |  57.97%|  15.64%\n",
            "  21.5s|     1 |     0 |    136 |    136 |     - | 259M|   0 |  32k| 400 | 361 | 182 |   0 | 6.399300e+01 | 7.400000e+01 |  57.97%|  15.64%\n",
            "  21.7s|     1 |     0 |    407 |    407 |     - | 259M|   0 |  32k| 450 | 361 | 182 |   0 | 6.399300e+01 | 7.400000e+01 |  44.97%|  15.64%\n",
            "  22.1s|     1 |     0 |   1132 |   1132 |     - | 260M|   0 |  32k| 525 | 361 | 182 |   0 | 6.399300e+01 | 7.400000e+01 |  36.18%|  15.64%\n"
          ]
        }
      ],
      "source": [
        "ampl.option[\"solver\"] = \"gcg\"\n",
        "ampl.option[\"gcg_options\"] = \"outlev=1\"\n",
        "ampl.solve()"
      ]
    },
    {
      "attachments": {},
      "cell_type": "markdown",
      "metadata": {
        "id": "6Xb28Bg7ODqV"
      },
      "source": [
        "## Using a custom decomposition in GCG with AMPL"
      ]
    },
    {
      "attachments": {},
      "cell_type": "markdown",
      "metadata": {},
      "source": [
        "AMPL allows the users to create their own decomposition and forwards it to GCG using suffixes. Here, we assign the allocation and pmedian constraints to the master/linking constraints and each capacity constraint to a different pricing problem."
      ]
    },
    {
      "cell_type": "code",
      "execution_count": null,
      "metadata": {
        "colab": {
          "base_uri": "https://localhost:8080/",
          "height": 300
        },
        "id": "CY0IJakEOG7u",
        "outputId": "e104ffdd-3030-4783-c13c-e7d926e546f2"
      },
      "outputs": [],
      "source": []
    },
    {
      "cell_type": "code",
      "execution_count": null,
      "metadata": {},
      "outputs": [],
      "source": [
        "ampl.solve()"
      ]
    },
    {
      "attachments": {},
      "cell_type": "markdown",
      "metadata": {},
      "source": [
        "Analogously, the user can fix constraints as pricing block or master constraint and variables as pricing block, master or linking variables. It is not needed to provide a complete decomposition. If the user provides a partial decomposition, GCG completes the decomposition by fixing only the left constraints and variables using its detection loop.\n",
        "\n",
        "**_NOTE:_**  The index of pricing block constraints/variables starts at 1."
      ]
    }
  ],
  "metadata": {
    "colab": {
      "provenance": []
    },
    "kernelspec": {
      "display_name": "Python 3.9.13 ('venv': venv)",
      "language": "python",
      "name": "python3"
    },
    "language_info": {
      "codemirror_mode": {
        "name": "ipython",
        "version": 3
      },
      "file_extension": ".py",
      "mimetype": "text/x-python",
      "name": "python",
      "nbconvert_exporter": "python",
      "pygments_lexer": "ipython3",
      "version": "3.11.3"
    },
    "vscode": {
      "interpreter": {
        "hash": "ee4198aac13dae9b6fccd443041680d99c2643c4956ef7c80ff6dcc0057cb523"
      }
    },
    "widgets": {
      "application/vnd.jupyter.widget-state+json": {
        "4510b5e780f24d44ace00a42c38cf6dc": {
          "model_module": "@jupyter-widgets/controls",
          "model_module_version": "1.5.0",
          "model_name": "ButtonStyleModel",
          "state": {
            "_model_module": "@jupyter-widgets/controls",
            "_model_module_version": "1.5.0",
            "_model_name": "ButtonStyleModel",
            "_view_count": null,
            "_view_module": "@jupyter-widgets/base",
            "_view_module_version": "1.2.0",
            "_view_name": "StyleView",
            "button_color": null,
            "font_weight": ""
          }
        },
        "45de4f35c7f04c37b87cad70c3e3b224": {
          "model_module": "@jupyter-widgets/base",
          "model_module_version": "1.2.0",
          "model_name": "LayoutModel",
          "state": {
            "_model_module": "@jupyter-widgets/base",
            "_model_module_version": "1.2.0",
            "_model_name": "LayoutModel",
            "_view_count": null,
            "_view_module": "@jupyter-widgets/base",
            "_view_module_version": "1.2.0",
            "_view_name": "LayoutView",
            "align_content": null,
            "align_items": null,
            "align_self": null,
            "border": null,
            "bottom": null,
            "display": null,
            "flex": null,
            "flex_flow": null,
            "grid_area": null,
            "grid_auto_columns": null,
            "grid_auto_flow": null,
            "grid_auto_rows": null,
            "grid_column": null,
            "grid_gap": null,
            "grid_row": null,
            "grid_template_areas": null,
            "grid_template_columns": null,
            "grid_template_rows": null,
            "height": null,
            "justify_content": null,
            "justify_items": null,
            "left": null,
            "margin": null,
            "max_height": null,
            "max_width": null,
            "min_height": null,
            "min_width": null,
            "object_fit": null,
            "object_position": null,
            "order": null,
            "overflow": null,
            "overflow_x": null,
            "overflow_y": null,
            "padding": null,
            "right": null,
            "top": null,
            "visibility": null,
            "width": null
          }
        },
        "4cfacef2f3e44067b81ac133fe17ae5b": {
          "model_module": "@jupyter-widgets/controls",
          "model_module_version": "1.5.0",
          "model_name": "DescriptionStyleModel",
          "state": {
            "_model_module": "@jupyter-widgets/controls",
            "_model_module_version": "1.5.0",
            "_model_name": "DescriptionStyleModel",
            "_view_count": null,
            "_view_module": "@jupyter-widgets/base",
            "_view_module_version": "1.2.0",
            "_view_name": "StyleView",
            "description_width": ""
          }
        },
        "59a30522756c4d668323600e0800a022": {
          "model_module": "@jupyter-widgets/base",
          "model_module_version": "1.2.0",
          "model_name": "LayoutModel",
          "state": {
            "_model_module": "@jupyter-widgets/base",
            "_model_module_version": "1.2.0",
            "_model_name": "LayoutModel",
            "_view_count": null,
            "_view_module": "@jupyter-widgets/base",
            "_view_module_version": "1.2.0",
            "_view_name": "LayoutView",
            "align_content": null,
            "align_items": null,
            "align_self": null,
            "border": null,
            "bottom": null,
            "display": null,
            "flex": null,
            "flex_flow": null,
            "grid_area": null,
            "grid_auto_columns": null,
            "grid_auto_flow": null,
            "grid_auto_rows": null,
            "grid_column": null,
            "grid_gap": null,
            "grid_row": null,
            "grid_template_areas": null,
            "grid_template_columns": null,
            "grid_template_rows": null,
            "height": null,
            "justify_content": null,
            "justify_items": null,
            "left": null,
            "margin": null,
            "max_height": null,
            "max_width": null,
            "min_height": null,
            "min_width": null,
            "object_fit": null,
            "object_position": null,
            "order": null,
            "overflow": null,
            "overflow_x": null,
            "overflow_y": null,
            "padding": null,
            "right": null,
            "top": null,
            "visibility": null,
            "width": null
          }
        },
        "5a786f2dd2584199a4001c8bebefd757": {
          "model_module": "@jupyter-widgets/controls",
          "model_module_version": "1.5.0",
          "model_name": "HBoxModel",
          "state": {
            "_dom_classes": [],
            "_model_module": "@jupyter-widgets/controls",
            "_model_module_version": "1.5.0",
            "_model_name": "HBoxModel",
            "_view_count": null,
            "_view_module": "@jupyter-widgets/controls",
            "_view_module_version": "1.5.0",
            "_view_name": "HBoxView",
            "box_style": "",
            "children": [
              "IPY_MODEL_de8c25d11df34ae2b86964266defdfdc",
              "IPY_MODEL_a1e4bcf9de474b4f835419c6278d4e42"
            ],
            "layout": "IPY_MODEL_45de4f35c7f04c37b87cad70c3e3b224"
          }
        },
        "5bec63a60fab4e628b18b6576859f23d": {
          "model_module": "@jupyter-widgets/base",
          "model_module_version": "1.2.0",
          "model_name": "LayoutModel",
          "state": {
            "_model_module": "@jupyter-widgets/base",
            "_model_module_version": "1.2.0",
            "_model_name": "LayoutModel",
            "_view_count": null,
            "_view_module": "@jupyter-widgets/base",
            "_view_module_version": "1.2.0",
            "_view_name": "LayoutView",
            "align_content": null,
            "align_items": null,
            "align_self": null,
            "border": null,
            "bottom": null,
            "display": null,
            "flex": null,
            "flex_flow": null,
            "grid_area": null,
            "grid_auto_columns": null,
            "grid_auto_flow": null,
            "grid_auto_rows": null,
            "grid_column": null,
            "grid_gap": null,
            "grid_row": null,
            "grid_template_areas": null,
            "grid_template_columns": null,
            "grid_template_rows": null,
            "height": null,
            "justify_content": null,
            "justify_items": null,
            "left": null,
            "margin": null,
            "max_height": null,
            "max_width": null,
            "min_height": null,
            "min_width": null,
            "object_fit": null,
            "object_position": null,
            "order": null,
            "overflow": null,
            "overflow_x": null,
            "overflow_y": null,
            "padding": null,
            "right": null,
            "top": null,
            "visibility": null,
            "width": null
          }
        },
        "5c52a4f288924ca8bbf5182a951af6a8": {
          "model_module": "@jupyter-widgets/controls",
          "model_module_version": "1.5.0",
          "model_name": "VBoxModel",
          "state": {
            "_dom_classes": [],
            "_model_module": "@jupyter-widgets/controls",
            "_model_module_version": "1.5.0",
            "_model_name": "VBoxModel",
            "_view_count": null,
            "_view_module": "@jupyter-widgets/controls",
            "_view_module_version": "1.5.0",
            "_view_name": "VBoxView",
            "box_style": "",
            "children": [
              "IPY_MODEL_5a786f2dd2584199a4001c8bebefd757",
              "IPY_MODEL_9a901424b8c04687b39b5e1251ee3919",
              "IPY_MODEL_fcf080abd68144728d12fa81f879d5d5"
            ],
            "layout": "IPY_MODEL_b2d8e84e2f6545bc98bbaf40294b9ad8"
          }
        },
        "9a901424b8c04687b39b5e1251ee3919": {
          "model_module": "@jupyter-widgets/output",
          "model_module_version": "1.0.0",
          "model_name": "OutputModel",
          "state": {
            "_dom_classes": [],
            "_model_module": "@jupyter-widgets/output",
            "_model_module_version": "1.0.0",
            "_model_name": "OutputModel",
            "_view_count": null,
            "_view_module": "@jupyter-widgets/output",
            "_view_module_version": "1.0.0",
            "_view_name": "OutputView",
            "layout": "IPY_MODEL_c9f8c186dbec4424895eb43630e458f2",
            "msg_id": "",
            "outputs": [
              {
                "name": "stdout",
                "output_type": "stream",
                "text": [
                  "Using existing license.\n"
                ]
              }
            ]
          }
        },
        "a0a3a52262a340debb5a29ce65170164": {
          "model_module": "@jupyter-widgets/base",
          "model_module_version": "1.2.0",
          "model_name": "LayoutModel",
          "state": {
            "_model_module": "@jupyter-widgets/base",
            "_model_module_version": "1.2.0",
            "_model_name": "LayoutModel",
            "_view_count": null,
            "_view_module": "@jupyter-widgets/base",
            "_view_module_version": "1.2.0",
            "_view_name": "LayoutView",
            "align_content": null,
            "align_items": null,
            "align_self": null,
            "border": null,
            "bottom": null,
            "display": null,
            "flex": null,
            "flex_flow": null,
            "grid_area": null,
            "grid_auto_columns": null,
            "grid_auto_flow": null,
            "grid_auto_rows": null,
            "grid_column": null,
            "grid_gap": null,
            "grid_row": null,
            "grid_template_areas": null,
            "grid_template_columns": null,
            "grid_template_rows": null,
            "height": null,
            "justify_content": null,
            "justify_items": null,
            "left": null,
            "margin": null,
            "max_height": null,
            "max_width": null,
            "min_height": null,
            "min_width": null,
            "object_fit": null,
            "object_position": null,
            "order": null,
            "overflow": null,
            "overflow_x": null,
            "overflow_y": null,
            "padding": null,
            "right": null,
            "top": null,
            "visibility": null,
            "width": null
          }
        },
        "a1e4bcf9de474b4f835419c6278d4e42": {
          "model_module": "@jupyter-widgets/controls",
          "model_module_version": "1.5.0",
          "model_name": "TextModel",
          "state": {
            "_dom_classes": [],
            "_model_module": "@jupyter-widgets/controls",
            "_model_module_version": "1.5.0",
            "_model_name": "TextModel",
            "_view_count": null,
            "_view_module": "@jupyter-widgets/controls",
            "_view_module_version": "1.5.0",
            "_view_name": "TextView",
            "continuous_update": true,
            "description": "UUID:",
            "description_tooltip": null,
            "disabled": false,
            "layout": "IPY_MODEL_5bec63a60fab4e628b18b6576859f23d",
            "placeholder": "​",
            "style": "IPY_MODEL_4cfacef2f3e44067b81ac133fe17ae5b",
            "value": ""
          }
        },
        "b2d8e84e2f6545bc98bbaf40294b9ad8": {
          "model_module": "@jupyter-widgets/base",
          "model_module_version": "1.2.0",
          "model_name": "LayoutModel",
          "state": {
            "_model_module": "@jupyter-widgets/base",
            "_model_module_version": "1.2.0",
            "_model_name": "LayoutModel",
            "_view_count": null,
            "_view_module": "@jupyter-widgets/base",
            "_view_module_version": "1.2.0",
            "_view_name": "LayoutView",
            "align_content": null,
            "align_items": null,
            "align_self": null,
            "border": null,
            "bottom": null,
            "display": null,
            "flex": null,
            "flex_flow": null,
            "grid_area": null,
            "grid_auto_columns": null,
            "grid_auto_flow": null,
            "grid_auto_rows": null,
            "grid_column": null,
            "grid_gap": null,
            "grid_row": null,
            "grid_template_areas": null,
            "grid_template_columns": null,
            "grid_template_rows": null,
            "height": null,
            "justify_content": null,
            "justify_items": null,
            "left": null,
            "margin": null,
            "max_height": null,
            "max_width": null,
            "min_height": null,
            "min_width": null,
            "object_fit": null,
            "object_position": null,
            "order": null,
            "overflow": null,
            "overflow_x": null,
            "overflow_y": null,
            "padding": null,
            "right": null,
            "top": null,
            "visibility": null,
            "width": null
          }
        },
        "c9f8c186dbec4424895eb43630e458f2": {
          "model_module": "@jupyter-widgets/base",
          "model_module_version": "1.2.0",
          "model_name": "LayoutModel",
          "state": {
            "_model_module": "@jupyter-widgets/base",
            "_model_module_version": "1.2.0",
            "_model_name": "LayoutModel",
            "_view_count": null,
            "_view_module": "@jupyter-widgets/base",
            "_view_module_version": "1.2.0",
            "_view_name": "LayoutView",
            "align_content": null,
            "align_items": null,
            "align_self": null,
            "border": null,
            "bottom": null,
            "display": null,
            "flex": null,
            "flex_flow": null,
            "grid_area": null,
            "grid_auto_columns": null,
            "grid_auto_flow": null,
            "grid_auto_rows": null,
            "grid_column": null,
            "grid_gap": null,
            "grid_row": null,
            "grid_template_areas": null,
            "grid_template_columns": null,
            "grid_template_rows": null,
            "height": null,
            "justify_content": null,
            "justify_items": null,
            "left": null,
            "margin": null,
            "max_height": null,
            "max_width": null,
            "min_height": null,
            "min_width": null,
            "object_fit": null,
            "object_position": null,
            "order": null,
            "overflow": null,
            "overflow_x": null,
            "overflow_y": null,
            "padding": null,
            "right": null,
            "top": null,
            "visibility": null,
            "width": null
          }
        },
        "de8c25d11df34ae2b86964266defdfdc": {
          "model_module": "@jupyter-widgets/controls",
          "model_module_version": "1.5.0",
          "model_name": "ButtonModel",
          "state": {
            "_dom_classes": [],
            "_model_module": "@jupyter-widgets/controls",
            "_model_module_version": "1.5.0",
            "_model_name": "ButtonModel",
            "_view_count": null,
            "_view_module": "@jupyter-widgets/controls",
            "_view_module_version": "1.5.0",
            "_view_name": "ButtonView",
            "button_style": "",
            "description": "Use existing license",
            "disabled": false,
            "icon": "",
            "layout": "IPY_MODEL_59a30522756c4d668323600e0800a022",
            "style": "IPY_MODEL_4510b5e780f24d44ace00a42c38cf6dc",
            "tooltip": ""
          }
        },
        "fcf080abd68144728d12fa81f879d5d5": {
          "model_module": "@jupyter-widgets/output",
          "model_module_version": "1.0.0",
          "model_name": "OutputModel",
          "state": {
            "_dom_classes": [],
            "_model_module": "@jupyter-widgets/output",
            "_model_module_version": "1.0.0",
            "_model_name": "OutputModel",
            "_view_count": null,
            "_view_module": "@jupyter-widgets/output",
            "_view_module_version": "1.0.0",
            "_view_name": "OutputView",
            "layout": "IPY_MODEL_a0a3a52262a340debb5a29ce65170164",
            "msg_id": "",
            "outputs": [
              {
                "name": "stdout",
                "output_type": "stream",
                "text": [
                  "Licensed to Default AMPL Community Edition License for the AMPL Model Colaboratory.\n"
                ]
              }
            ]
          }
        }
      }
    }
  },
  "nbformat": 4,
  "nbformat_minor": 0
}
