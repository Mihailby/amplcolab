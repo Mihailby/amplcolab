{
  "cells": [
    {
      "cell_type": "markdown",
      "metadata": {
        "id": "x2jebw6Fj7jd"
      },
      "source": [
        "# Simple sudoku solver using logical constraints (with GUI)\n",
        "[![sudoku.ipynb](https://img.shields.io/badge/github-%23121011.svg?logo=github)](https://github.com/ampl/amplcolab/blob/master/authors/mapgccv/miscellaneous/sudoku.ipynb) [![Open In Colab](https://colab.research.google.com/assets/colab-badge.svg)](https://colab.research.google.com/github/ampl/amplcolab/blob/master/authors/mapgccv/miscellaneous/sudoku.ipynb) [![Kaggle](https://kaggle.com/static/images/open-in-kaggle.svg)](https://kaggle.com/kernels/welcome?src=https://github.com/ampl/amplcolab/blob/master/authors/mapgccv/miscellaneous/sudoku.ipynb) [![Gradient](https://assets.paperspace.io/img/gradient-badge.svg)](https://console.paperspace.com/github/ampl/amplcolab/blob/master/authors/mapgccv/miscellaneous/sudoku.ipynb) [![Open In SageMaker Studio Lab](https://studiolab.sagemaker.aws/studiolab.svg)](https://studiolab.sagemaker.aws/import/github/ampl/amplcolab/blob/master/authors/mapgccv/miscellaneous/sudoku.ipynb)\n",
        "\n",
        "Description: Simple sudoku model with two formulations: as a Constraint Programming problem using the *alldiff* operator and as a MIP. Note that the CP formulation is more natural but it needs a solver supporting logical constraints or a MIP solver with automatic reformulation support (see [here](https://amplmp.readthedocs.io/) for more information).\n",
        "The two formulations will be differentiated using AMPL's handy `named problem` concept.\n",
        "A simple GUI implemented using ipywidgets helps with data visualization and specification.\n",
        "\n",
        "Tags: amplpy, constraint-programming, GUI\n",
        "\n",
        "Notebook author: Christian Valente <<christian.valente@gmail.com>>\n",
        "\n",
        "Model author: Christian Valente"
      ]
    },
    {
      "cell_type": "code",
      "execution_count": null,
      "metadata": {
        "id": "jxi-HR24j7jh"
      },
      "outputs": [],
      "source": [
        "# Install dependencies (using ipywidgets for the simple GUI)\n",
        "!pip install -q amplpy ipywidgets"
      ]
    },
    {
      "cell_type": "code",
      "execution_count": null,
      "metadata": {
        "id": "eG1Wv8Uej7ji"
      },
      "outputs": [],
      "source": [
        "# Google Colab & Kaggle integration\n",
        "MODULES=['ampl', 'highs'] # need a solver supporting the \"alldiff\" operator\n",
        "from amplpy import tools\n",
        "ampl = tools.ampl_notebook(modules=MODULES, globals_=globals()) # instantiate AMPL object and register magics"
      ]
    },
    {
      "cell_type": "markdown",
      "metadata": {
        "id": "FS5h7tJSj7jj"
      },
      "source": [
        "### Define the AMPL model of a sudoku game. \n",
        "\n",
        "In this example, we will show two models to solve a sudoku. \n",
        "\n",
        "1. **MIP formulation** where we will use a binary variable to indicate if a cell is occupied with any of the possible numbers.\n",
        "2. **Constraint Programming formulation** using the logical operator `alldiff` to avoid the explicit use of binary variables.\n",
        "\n",
        "That the model is parametric in terms of size: **BASE** defines the size of the (square) subgrids making up the game. For a normal sudoku game, where the numbers go from 1 to 9, this has to be set to 3."
      ]
    },
    {
      "cell_type": "markdown",
      "metadata": {
        "id": "dB9xZiSrz8V-"
      },
      "source": [
        "### Common infrastructure\n",
        "The entities defined in the next cell are shared by both the MIP and the CP formulations"
      ]
    },
    {
      "cell_type": "code",
      "execution_count": null,
      "metadata": {
        "id": "o7_6XRxaj7jj"
      },
      "outputs": [],
      "source": [
        "%%ampl_eval\n",
        "# The base number of this sudoku; 3 is the default (9 numbers game)\n",
        "param BASE default 3;\n",
        "# The line/column lenght, derived from BASE\n",
        "param L := BASE*BASE;\n",
        "\n",
        "# Set of all Rows\n",
        "set ROWS := {1..L};\n",
        "# Set of all columns\n",
        "set COLS := {1..L};\n",
        "# This indexed set memorizes the tuples of coordinates for each \n",
        "# sub-square making up the grid\n",
        "set SUBSQUARES{sr in 1..BASE, sc in 1..BASE} within {ROWS, COLS}\n",
        "\t            = {(sr-1)*BASE+1..sr*BASE, (sc-1)*BASE+1..sc*BASE};\n",
        "\n",
        "# The variables representing the numbers at all positions\n",
        "var x{ROWS, COLS} >=1, <=L integer;\n",
        "\n",
        "# Set this parameter to non-zero to force a position to have\n",
        "# that value\n",
        "param givenData{ROWS, COLS} default 0;\n",
        "\n",
        "# Dummy objective, just to \"encourage\" the solver to get the same\n",
        "# objective function in case of a degenerate sudoku\n",
        "maximize z: x[1,1];\n",
        "\n",
        "subject to\n",
        "# Fix input data (forces the variable at the corresponding location to have\n",
        "# the same value as the parameter)\n",
        "fixGivenData{r in ROWS, c in COLS : givenData[r,c] > 0}: x[r,c] = givenData[r,c];\n"
      ]
    },
    {
      "cell_type": "markdown",
      "metadata": {
        "id": "1SNd7kTm0Yj8"
      },
      "source": [
        "### MIP formulation\n",
        "In the MIP formulation, we will use the binary variable `IsN`, defined for all the cells and all the possible numbers, to indicate if a specific number is present in the related cell.\n",
        "A set of constraints will then be needed to ensure that:\n",
        "\n",
        "1. `MIPOnlyOneNumber` each cell contains only one number\n",
        "2. `MIPEachRowOneNumber` each row contains all the possible numbers\n",
        "3. `MIPEachColOneNumber` each column contains all the possible numbers\n",
        "4. `MIPEachSquareOneNumber` each sub-grid contains all the possible numbers\n",
        "5. `MIPLinkToX` the variable `IsN` is linked to the variable `x` above. Note that this is not strictly necessary for the model itself, but it is useful when sharing the same base entities with the CP model."
      ]
    },
    {
      "cell_type": "code",
      "execution_count": null,
      "metadata": {
        "id": "P8hlEey41dG2"
      },
      "outputs": [],
      "source": [
        "%%ampl_eval\n",
        "# Definition of MIP model\n",
        "var IsN{1..L, COLS, ROWS} binary;\n",
        "\n",
        "# Each position only one number\n",
        "MIPOnlyOneNumber{r in ROWS, c in COLS}: sum{n in 1..L} IsN[n,c,r] = 1;\n",
        "# Each number must be present in each row once\n",
        "MIPEachRowOneNumber{r in ROWS, n in 1..L}: sum{c in COLS} IsN[n,c,r] = 1;\n",
        "# Each number must be present in each col once\n",
        "MIPEachColOneNumber{r in COLS, n in 1..L}: sum{c in ROWS} IsN[n,c,r] = 1;\n",
        "# Each number must be present in each subsquare once\n",
        "MIPEachSquareOneNumber{n in 1..L, sr in 1..BASE, sc in 1..BASE}: \n",
        "\tsum{(r, c) in SUBSQUARES[sr, sc]} IsN[n, c, r] = 1;\n",
        "# Link to the logical model variable\n",
        "MIPLinkToX{r in ROWS, c in COLS}: sum{n in 1..L} IsN[n,c,r]*n =x[r,c];\n",
        "# Define a named problem to quickly switch between formulations\n",
        "problem sudokuMIP: x, IsN, z, fixGivenData, MIPOnlyOneNumber, MIPEachRowOneNumber, MIPEachColOneNumber, MIPEachSquareOneNumber, MIPLinkToX;"
      ]
    },
    {
      "cell_type": "markdown",
      "metadata": {
        "id": "Hd7rFNjc1hjD"
      },
      "source": [
        "### CP formulation\n",
        "The Constraint Programming formulation is much more readable and compact, and it follows the human intuitive understanding of the game.\n",
        "Using the operator `alldiff`, which forces all variables passed as operands to assume different values, we simply need the following constraints:\n",
        "\n",
        "1. `rowsAllDiff` each `x` in a row must contain a different number\n",
        "2. `colsAllDiff` each `x` in a column must contain a different number\n",
        "3. `squaresAllDiff` each `x` in a subsquare must contain a different number"
      ]
    },
    {
      "cell_type": "code",
      "execution_count": null,
      "metadata": {
        "id": "kkIXbBif2Gcg"
      },
      "outputs": [],
      "source": [
        "%%ampl_eval\n",
        "# Definition of logical constrained model\n",
        "# All numbers in one row have to be different\n",
        "rowsAllDiff{r in ROWS}:   alldiff{c in COLS} x[r,c];\n",
        "# All numbers in one column have to be different\n",
        "colsAllDiff{c in COLS}:   alldiff{r in ROWS} x[r,c];\n",
        "# All numbers for each subsquare must be different\n",
        "squaresAllDiff{sr in 1..BASE, sc in 1..BASE}: alldiff{(c,r) in SUBSQUARES[sr,sc]} x[r,c];\n",
        "# Define a named problem to quickly switch between formulations\n",
        "problem sudokuCP: x, z, fixGivenData, rowsAllDiff, colsAllDiff, squaresAllDiff;"
      ]
    },
    {
      "cell_type": "code",
      "execution_count": null,
      "metadata": {
        "id": "2Tj-R6pK5bia"
      },
      "outputs": [],
      "source": []
    },
    {
      "cell_type": "markdown",
      "metadata": {
        "id": "qcvCg2Dg2zJe"
      },
      "source": [
        "### Data definition\n",
        "This is an example used to populate the sudoku below. It has the standard size (9x9), so we specify a `BASE` of 3; please note that since the parameter had a default of 3, this step wasn't needed."
      ]
    },
    {
      "cell_type": "code",
      "execution_count": null,
      "metadata": {
        "id": "dU47NyUs22TS"
      },
      "outputs": [],
      "source": [
        "%%ampl_eval\n",
        "data;\n",
        "param BASE := 3;\n",
        "param givenData :=\n",
        "1 1 2    1 5 6 \n",
        "2 2 9    2 6 1    2 8 3\n",
        "3 5 4    \n",
        "4 6 4    4 8 7    4 9 8\n",
        "5 2 8    5 5 3    5 7 5\n",
        "6 2 7    6 3 2    6 9 1\n",
        "7 2 2    7 6 5    7 8 1    7 9 3\n",
        "8 3 1    8 4 7    8 7 9\n",
        "9 1 6    9 4 3    9 7 2; "
      ]
    },
    {
      "cell_type": "markdown",
      "metadata": {
        "id": "vx8BBvXHj7jk"
      },
      "source": [
        "### GUI-related code\n",
        "The following code creates the Class **SudokuSchema**, a convenient wrapper around ipywidgets to create and display a grid that resembles the game board. It provides functions to get and set the values in the schema itself."
      ]
    },
    {
      "cell_type": "code",
      "execution_count": null,
      "metadata": {
        "id": "cpTbYwr8j7jk"
      },
      "outputs": [],
      "source": [
        "import ipywidgets as widgets\n",
        "from IPython.display import display\n",
        "\n",
        "class SudokuSchema:\n",
        "\n",
        "    def _createOneGrid(self, startRow : int, startCol : int):\n",
        "      gridItems = [widgets.VBox([self.items[row, col] for row in range(startRow, startRow+self.BASE)]) for col in range(startCol, startCol+self.BASE)]\n",
        "      return widgets.HBox(gridItems,layout=widgets.Layout(border=\"solid 2px\", width=\"140px\"))\n",
        "    \n",
        "    def __init__(self, base):\n",
        "      '''Initializes a sudoku schema with base dimension BASE'''\n",
        "      self.BASE = base\n",
        "      self.BSQUARED = base**2\n",
        "\n",
        "      # Create all widgets\n",
        "      self.items = {(r,c): widgets.BoundedIntText(\n",
        "                          value=0,\n",
        "                          min=0,\n",
        "                          max=self.BASE**4,\n",
        "                          step=1,\n",
        "                          description='',\n",
        "                          layout = widgets.Layout(width='40px', height='40px')) \n",
        "                      for r in range(self.BSQUARED) for c in range(self.BSQUARED)}\n",
        "\n",
        "      self.sudoku = widgets.HBox([widgets.VBox([self._createOneGrid(r, c) for r in range(0,self.BSQUARED, self.BASE)]) for c in range(0,self.BSQUARED,self.BASE)])\n",
        "      self.createSelectionButton()\n",
        "      self.createSolveButton()\n",
        "\n",
        "    def display(self):\n",
        "      '''Display the current schema on the notebook'''\n",
        "      display(self.sudoku)\n",
        "      display(self.selector)\n",
        "      display(self.doSolveButton)\n",
        "\n",
        "    def getValues(self):\n",
        "      '''Get the current non zero values as a (r,c) : value dictionary'''\n",
        "      return {(r+1,c+1) : self.items[r,c].value \n",
        "            for r in range(self.BSQUARED) for c in range(self.BSQUARED) if self.items[r,c].value != 0}\n",
        "\n",
        "    def setValues(self, values : dict):\n",
        "      '''Set the values in the schema from the specified (r,c) : value dictionary'''\n",
        "      for (r,c), v in values.items():\n",
        "        self.items[r-1, c-1].value = round(v)\n",
        "\n",
        "    def createSelectionButton(self):\n",
        "      self.selector = widgets.RadioButtons(\n",
        "      options=['Constraint Programming', 'MIP'],\n",
        "      value='Constraint Programming',\n",
        "      layout={'width': 'max-content'}, \n",
        "      description='Formulation:',\n",
        "      disabled=False)\n",
        "    def getSelectedFormulation(self):\n",
        "      return self.selector.value\n",
        "\n",
        "    def createSolveButton(self):\n",
        "      self.doSolveButton = widgets.Button(\n",
        "        description='Solve',\n",
        "        disabled=False,\n",
        "        button_style='success', \n",
        "        tooltip='Solve model',\n",
        "        icon='bolt'\n",
        "      )\n",
        "      self.doSolveButton.on_click(solveAndDisplay)"
      ]
    },
    {
      "cell_type": "markdown",
      "metadata": {
        "id": "fRfYdBe0j7jm"
      },
      "source": [
        "### Solve and display\n",
        "Pressing the *Solve model* button below the schema the sudoku will be solver by means of the function below. At first, we get which formulation is selected, translate it into the appopriate problem name, then use the AMPL statemnent `solve problemname;` to solve the instance."
      ]
    },
    {
      "cell_type": "code",
      "execution_count": null,
      "metadata": {
        "id": "5CRFkWkij7jn"
      },
      "outputs": [],
      "source": [
        "# Solve and display the solution\n",
        "def solveAndDisplay(button):\n",
        "    # Get the selected formulation from the radio button\n",
        "    if sudoku.getSelectedFormulation()==\"Constraint Programming\":\n",
        "      problemName = \"sudokuCP\";\n",
        "    else:\n",
        "      problemName = \"sudokuMIP\";\n",
        "\n",
        "    print(f\"Solving the {sudoku.getSelectedFormulation()} formulation!\")\n",
        "    # Solve the selected model\n",
        "    ampl.eval(f\"solve {problemName};\")\n",
        "\n",
        "    # Get the data from AMPL and assign them to the entities making up the \n",
        "    # grid above\n",
        "    values = ampl.get_data(\"x\").to_dict()\n",
        "    sudoku.setValues(values)\n",
        "    "
      ]
    },
    {
      "cell_type": "markdown",
      "metadata": {
        "id": "7F8uyalbj7jl"
      },
      "source": [
        "### Show the sudoku schema\n",
        "The following cell creates the sudoku schema - of the size specified in **BASE** and visualizes it. It also shows a radio button that allows you to choose between the two formulations and a button to begin the solution process. The button will call the function `SolveAndDisplay` defined above."
      ]
    },
    {
      "cell_type": "code",
      "execution_count": null,
      "metadata": {
        "id": "W_YRCZjHj7jm"
      },
      "outputs": [],
      "source": [
        "# Get the size of the grid from AMPL\n",
        "BASE = int(ampl.param[\"BASE\"].value())\n",
        "# Create and display the grid\n",
        "sudoku = SudokuSchema(BASE)\n",
        "sudoku.display()\n",
        "# Display existing values\n",
        "values = ampl.get_data(\"givenData\").to_dict()\n",
        "sudoku.setValues(values)\n"
      ]
    }
  ],
  "metadata": {
    "colab": {
      "provenance": []
    },
    "kernelspec": {
      "display_name": "Python 3.9.7 ('env')",
      "language": "python",
      "name": "python3"
    },
    "language_info": {
      "codemirror_mode": {
        "name": "ipython",
        "version": 3
      },
      "file_extension": ".py",
      "mimetype": "text/x-python",
      "name": "python",
      "nbconvert_exporter": "python",
      "pygments_lexer": "ipython3",
      "version": "3.9.7"
    },
    "vscode": {
      "interpreter": {
        "hash": "40a0ad7cb306d1ff1f36f948c6aabdacc27e8e3ab09d7ef14b15b0b86f140e4a"
      }
    }
  },
  "nbformat": 4,
  "nbformat_minor": 0
}