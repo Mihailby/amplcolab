{
  "cells": [
    {
      "cell_type": "markdown",
      "metadata": {},
      "source": [
        "# Simple sudoku solver using logical constraints (with GUI)\n",
        "[![sudoku.ipynb](https://img.shields.io/badge/github-%23121011.svg?logo=github)](https://github.com/ampl/amplcolab/blob/master/authors/mapgccv/miscellaneous/sudoku.ipynb) [![Open In Colab](https://colab.research.google.com/assets/colab-badge.svg)](https://colab.research.google.com/github/ampl/amplcolab/blob/master/authors/mapgccv/miscellaneous/sudoku.ipynb) [![Kaggle](https://kaggle.com/static/images/open-in-kaggle.svg)](https://kaggle.com/kernels/welcome?src=https://github.com/ampl/amplcolab/blob/master/authors/mapgccv/miscellaneous/sudoku.ipynb) [![Gradient](https://assets.paperspace.io/img/gradient-badge.svg)](https://console.paperspace.com/github/ampl/amplcolab/blob/master/authors/mapgccv/miscellaneous/sudoku.ipynb) [![Open In SageMaker Studio Lab](https://studiolab.sagemaker.aws/studiolab.svg)](https://studiolab.sagemaker.aws/import/github/ampl/amplcolab/blob/master/authors/mapgccv/miscellaneous/sudoku.ipynb)\n",
        "\n",
        "Description: Simple sudoku solver using the *alldiff* operator; needs a solver supporting constraints programming or a MIP solver with automatic reformulation support (see [here](https://amplmp.readthedocs.io/) for more information). A little GUI implemented using ipywidgets helps with data visualization and specification.\n",
        "\n",
        "Tags: amplpy, constraint-programming, GUI\n",
        "\n",
        "Notebook author: Christian Valente <<christian.valente@gmail.com>>\n",
        "\n",
        "Model author: Christian Valente"
      ]
    },
    {
      "cell_type": "code",
      "execution_count": null,
      "metadata": {},
      "outputs": [],
      "source": [
        "# Install dependencies (using ipywidgets for the simple GUI)\n",
        "!pip install -q amplpy ipywidgets"
      ]
    },
    {
      "cell_type": "code",
      "execution_count": null,
      "metadata": {},
      "outputs": [],
      "source": [
        "# Google Colab & Kaggle integration\n",
        "MODULES=['ampl', 'highs'] # need a solver supporting the \"alldiff\" operator\n",
        "from amplpy import tools\n",
        "ampl = tools.ampl_notebook(modules=MODULES, globals_=globals()) # instantiate AMPL object and register magics"
      ]
    },
    {
      "cell_type": "markdown",
      "metadata": {},
      "source": [
        "### Define the AMPL model of a sudoku game. \n",
        "In this example, we want to show how to use the logical operator \"alldiff\" to avoid the explicit use of binary variables. Note that the model is parametric: **BASE** defines the size of the (square) subgrids making up the game. For a normal sudoku game, where the numbers go from 1 to 9, this has to be set to 3."
      ]
    },
    {
      "cell_type": "code",
      "execution_count": null,
      "metadata": {},
      "outputs": [],
      "source": [
        "%%ampl_eval\n",
        "# The base number of this sudoku; 3 is the default (9 numbers game)\n",
        "param BASE default 3;\n",
        "# The line/column lenght, derived from BASE\n",
        "param L := BASE*BASE;\n",
        "\n",
        "# Set of all Rows\n",
        "set ROWS := {1..L};\n",
        "# Set of all columns\n",
        "set COLS := {1..L};\n",
        "# This indexed set memorizes the tuples of coordinates for each \n",
        "# sub-square making up the grid\n",
        "set SUBSQUARES{sr in 1..BASE, sc in 1..BASE} within {ROWS, COLS}\n",
        "\t= {(sr-1)*BASE+1..sr*BASE, (sc-1)*BASE+1..sc*BASE};\n",
        "\n",
        "# The variables representing the numbers at all positions\n",
        "var n{ROWS, COLS} >=1, <=L integer;\n",
        "\n",
        "# Set this parameter to non-zero to force a position to have\n",
        "# that value\n",
        "param givenData{ROWS, COLS} default 0;\n",
        "\n",
        "# Dummy objective\n",
        "maximize z: n[1,1];\n",
        "\n",
        "subject to\n",
        "\n",
        "# All numbers in one row have to be different\n",
        "rowsAllDiff{r in ROWS}:   alldiff{c in COLS} n[r,c];\n",
        "# All numbers in one column have to be different\n",
        "colsAllDiff{c in COLS}:   alldiff{r in ROWS} n[r,c];\n",
        "# All numbers for each subsquare must be different\n",
        "squaresAllDiff{sr in 1..BASE, sc in 1..BASE}: alldiff{(c,r) in SUBSQUARES[sr,sc]} n[r,c];\n",
        "# Fix input data (forces the variable at the corresponding location to have\n",
        "# the same value as the parameter)\n",
        "fixGivenData{r in ROWS, c in COLS : givenData[r,c] > 0}: n[r,c] = givenData[r,c];"
      ]
    },
    {
      "cell_type": "markdown",
      "metadata": {},
      "source": [
        "### GUI-related code\n",
        "The following code creates the Class **SudokuSchama**, a convenient wrapper around ipywidgets to create and display a grid that resembles the game board. It provides functions to get and set the values in the schema itself."
      ]
    },
    {
      "cell_type": "code",
      "execution_count": null,
      "metadata": {},
      "outputs": [],
      "source": [
        "import ipywidgets as widgets\n",
        "from IPython.display import display\n",
        "\n",
        "class SudokuSchema:\n",
        "\n",
        "    def _createOneGrid(self, startRow : int, startCol : int):\n",
        "      gridItems = [widgets.VBox([self.items[row, col] for row in range(startRow, startRow+self.BASE)]) for col in range(startCol, startCol+self.BASE)]\n",
        "      return widgets.HBox(gridItems,layout=widgets.Layout(border=\"solid 2px\", width=\"140px\"))\n",
        "    \n",
        "    def __init__(self, base):\n",
        "      '''Initializes a sudoku schema with base dimension BASE'''\n",
        "      self.BASE = base\n",
        "      self.BSQUARED = base**2\n",
        "\n",
        "      # Create all widgets\n",
        "      self.items = {(r,c): widgets.BoundedIntText(\n",
        "                          value=0,\n",
        "                          min=0,\n",
        "                          max=self.BASE**4,\n",
        "                          step=1,\n",
        "                          description='',\n",
        "                          layout = widgets.Layout(width='40px', height='40px')) \n",
        "                      for r in range(self.BSQUARED) for c in range(self.BSQUARED)}\n",
        "\n",
        "      self.sudoku = widgets.HBox([widgets.VBox([self._createOneGrid(r, c) for r in range(0,self.BSQUARED, self.BASE)]) for c in range(0,self.BSQUARED,self.BASE)])\n",
        "\n",
        "    def display(self):\n",
        "      '''Display the current schema on the notebook'''\n",
        "      display(self.sudoku)\n",
        "\n",
        "    def getValues(self):\n",
        "      '''Get the current non zero values as a (r,c) : value dictionary'''\n",
        "      return {(r+1,c+1) : self.items[r,c].value \n",
        "            for r in range(self.BSQUARED) for c in range(self.BSQUARED) if self.items[r,c].value != 0}\n",
        "\n",
        "    def setValues(self, values : dict):\n",
        "      '''Set the values in the schema from the specified (r,c) : value dictionary'''\n",
        "      for (r,c), v in values.items():\n",
        "        self.items[r-1, c-1].value = round(v)\n"
      ]
    },
    {
      "cell_type": "markdown",
      "metadata": {},
      "source": [
        "### Execute until this cell at first\n",
        "The following cell creates the sudoku schema - of the size specified in **BASE** and visualizes it. You should then:\n",
        "1. Fill the cells with the numbers you want then \n",
        "2. Execute the following code cell (**solve and display**)"
      ]
    },
    {
      "cell_type": "code",
      "execution_count": null,
      "metadata": {},
      "outputs": [],
      "source": [
        "# Size of a grid (number of items in a row/column = BASE^2)\n",
        "BASE = 3\n",
        "\n",
        "# Create and display the grid\n",
        "sudoku = SudokuSchema(BASE)\n",
        "sudoku.display()"
      ]
    },
    {
      "cell_type": "markdown",
      "metadata": {},
      "source": [
        "### Solve and display\n",
        "After filling the grid with the appropriate numbers, execute the next code cell and.. look up!"
      ]
    },
    {
      "cell_type": "code",
      "execution_count": null,
      "metadata": {},
      "outputs": [],
      "source": [
        "# get a dictionary (row, col) : value  of all the non-zeroes in the grid above\n",
        "setNumbers = sudoku.getValues()\n",
        "\n",
        "# If no number has been set don't execute anything, as we probably come from\n",
        "# an \"execute all cells\" called at startup\n",
        "if len(setNumbers) > 0:\n",
        "    # assign the base (size) and the numbers we got from the grid to the corresponding\n",
        "    # AMPL entities\n",
        "    ampl.param[\"BASE\"] = BASE\n",
        "    # Reset any pre-existing data, useful when redrawing the grid\n",
        "    ampl.eval(\"reset data givenData;\"); \n",
        "    ampl.param[\"givenData\"] = setNumbers\n",
        "\n",
        "    # Solve the model\n",
        "    ampl.option[\"solver\"]=\"highs\"\n",
        "    ampl.solve()\n",
        "\n",
        "    # Get the data from AMPL and assign them to the entities making up the \n",
        "    # grid above\n",
        "    values = ampl.get_data(\"n\").to_dict()\n",
        "    sudoku.setValues(values)\n",
        "    "
      ]
    }
  ],
  "metadata": {
    "kernelspec": {
      "display_name": "Python 3.9.7 ('env')",
      "language": "python",
      "name": "python3"
    },
    "language_info": {
      "codemirror_mode": {
        "name": "ipython",
        "version": 3
      },
      "file_extension": ".py",
      "mimetype": "text/x-python",
      "name": "python",
      "nbconvert_exporter": "python",
      "pygments_lexer": "ipython3",
      "version": "3.9.7"
    },
    "vscode": {
      "interpreter": {
        "hash": "40a0ad7cb306d1ff1f36f948c6aabdacc27e8e3ab09d7ef14b15b0b86f140e4a"
      }
    }
  },
  "nbformat": 4,
  "nbformat_minor": 2
}