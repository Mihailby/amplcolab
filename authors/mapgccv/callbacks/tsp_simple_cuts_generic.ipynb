{
  "cells": [
    {
      "cell_type": "markdown",
      "metadata": {
        "id": "ml63EYqsH1Wm"
      },
      "source": [
        "# Travelling Salesman Problem with subtour elimination\n",
        "[![tsp_simple_cuts_generic.ipynb](https://img.shields.io/badge/github-%23121011.svg?logo=github)](https://github.com/ampl/amplcolab/blob/master/authors/mapgccv/callbacks/tsp_simple_cuts_generic.ipynb) [![Open In Colab](https://colab.research.google.com/assets/colab-badge.svg)](https://colab.research.google.com/github/ampl/amplcolab/blob/master/authors/mapgccv/callbacks/tsp_simple_cuts_generic.ipynb) [![Kaggle](https://kaggle.com/static/images/open-in-kaggle.svg)](https://kaggle.com/kernels/welcome?src=https://github.com/ampl/amplcolab/blob/master/authors/mapgccv/callbacks/tsp_simple_cuts_generic.ipynb) [![Gradient](https://assets.paperspace.io/img/gradient-badge.svg)](https://console.paperspace.com/github/ampl/amplcolab/blob/master/authors/mapgccv/callbacks/tsp_simple_cuts_generic.ipynb) [![Open In SageMaker Studio Lab](https://studiolab.sagemaker.aws/studiolab.svg)](https://studiolab.sagemaker.aws/import/github/ampl/amplcolab/blob/master/authors/mapgccv/callbacks/tsp_simple_cuts_generic.ipynb) [![Hits](https://h.ampl.com/https://github.com/ampl/amplcolab/blob/master/authors/mapgccv/callbacks/tsp_simple_cuts_generic.ipynb)](https://colab.ampl.com)\n",
        "\n",
        "Description: this example shows how to solve a TSP  by eliminating subtours using amplpy and ampls\n",
        "\n",
        "Tags: callbacks, tsp\n",
        "\n",
        "Notebook author: Christian Valente <<christian.valente@gmail.com>>\n",
        "\n",
        "Model author: N/A"
      ]
    },
    {
      "cell_type": "code",
      "execution_count": null,
      "metadata": {},
      "outputs": [],
      "source": [
        "import os\n",
        "if not os.path.isdir('tsp_inputs'):\n",
        "    os.system('git clone https://github.com/ampl/amplcolab.git')\n",
        "    os.chdir('amplcolab/authors/mapgccv/callbacks')"
      ]
    },
    {
      "cell_type": "markdown",
      "metadata": {
        "id": "jBkE588kIrZT"
      },
      "source": [
        "### Setup and cloud integration"
      ]
    },
    {
      "cell_type": "code",
      "execution_count": null,
      "metadata": {},
      "outputs": [],
      "source": [
        "# Install dependencies\n",
        "!pip install -q amplpy amplpy-gurobi amplpy-cplex\n",
        "!pip install -q tsplib95 matplotlib"
      ]
    },
    {
      "cell_type": "code",
      "execution_count": null,
      "metadata": {
        "id": "TbzyEByrIkYj"
      },
      "outputs": [],
      "source": [
        "# Google Colab & Kaggle integration\n",
        "from amplpy import AMPL, tools\n",
        "ampl = tools.ampl_notebook(\n",
        "    modules=[\"coin\"], # modules to install\n",
        "    license_uuid=\"default\", # license to use\n",
        "    g=globals()) # instantiate AMPL object and register magics"
      ]
    },
    {
      "cell_type": "markdown",
      "metadata": {},
      "source": [
        "### Options"
      ]
    },
    {
      "cell_type": "code",
      "execution_count": null,
      "metadata": {},
      "outputs": [],
      "source": [
        "import os\n",
        "#if os.path.isdir('ampls-api'):\n",
        "#    os.chdir('ampls-api/python/examples/notebooks/')\n",
        "USE_CALLBACKS = True\n",
        "PLOTSUBTOURS = True\n",
        "TSP_FILE = \"./tsp_inputs/a280.tsp\""
      ]
    },
    {
      "cell_type": "markdown",
      "metadata": {},
      "source": [
        "### Imports"
      ]
    },
    {
      "cell_type": "code",
      "execution_count": null,
      "metadata": {},
      "outputs": [],
      "source": [
        "SOLVER = \"gurobi\"\n",
        "SOLVER_OPTIONS = ['outlev=1']\n",
        "# Import utilities\n",
        "from amplpy import AMPL, DataFrame  # pip install amplpy\n",
        "if SOLVER == \"gurobi\":\n",
        "    import amplpy_gurobi as ampls   # pip install amplpy-gurobi\n",
        "elif SOLVER == \"cplex\":\n",
        "    import amplpy_cplex as ampls    # pip install amplpy-cplex\n",
        "elif SOLVER == \"xpress\":\n",
        "    import amplpy_xpress as ampls   # pip install amplpy-gurobi\n",
        "import tsplib95 as tsp              # pip install tsplib95\n",
        "import matplotlib.pyplot as plt     # pip install matplotlib\n",
        "import matplotlib.colors as colors\n",
        "from time import time\n",
        "plt.rcParams['figure.dpi'] = 200"
      ]
    },
    {
      "cell_type": "markdown",
      "metadata": {
        "id": "ow4PJoZ1H1Wt"
      },
      "source": [
        "### Define TSP model in AMPL\n",
        "\n",
        "We are using amplpy to define the subtour elimination constraint in AMPL and instantiating it appropriately and ampls to add cuts directly from the solver callback."
      ]
    },
    {
      "cell_type": "code",
      "execution_count": null,
      "metadata": {
        "id": "b75aDn-GH1Wu"
      },
      "outputs": [],
      "source": [
        "%%ampl\n",
        "set NODES ordered;\n",
        "param hpos {NODES};\n",
        "param vpos {NODES};\n",
        "\n",
        "set PAIRS := {i in NODES, j in NODES: ord(i) < ord(j)};\n",
        "\n",
        "param distance {(i,j) in PAIRS}\n",
        "   := sqrt((hpos[j]-hpos[i])**2 + (vpos[j]-vpos[i])**2);\n",
        "\n",
        "var X {PAIRS} binary;\n",
        "\n",
        "minimize Tour_Length: sum {(i,j) in PAIRS} distance[i,j] * X[i,j];\n",
        "\n",
        "subject to Visit_All {i in NODES}:\n",
        "   sum {(i, j) in PAIRS} X[i,j] + sum {(j, i) in PAIRS} X[j,i] = 2;"
      ]
    },
    {
      "cell_type": "markdown",
      "metadata": {
        "id": "CbPNE25vH1Wu"
      },
      "source": [
        "Function to load TSP data files and return a dictionary of (nodeid : coordinate)"
      ]
    },
    {
      "cell_type": "code",
      "execution_count": null,
      "metadata": {
        "id": "5zqzrGnDH1Wv"
      },
      "outputs": [],
      "source": [
        "def getDictFromTspFile(tspFile):\n",
        "    p = tsp.load(tspFile)\n",
        "    if not p.is_depictable:\n",
        "        print(\"Problem is not depictable!\")\n",
        "\n",
        "    # Amendments as we need the nodes lexographically ordered\n",
        "    nnodes = len(list(p.get_nodes()))\n",
        "    i = 0\n",
        "    while nnodes>1:\n",
        "        nnodes = nnodes/10\n",
        "        i+=1\n",
        "    formatString = f\"{{:0{i}d}}\"\n",
        "    nodes = {formatString.format(value) : p.node_coords[index+1] for index, value in enumerate(p.get_nodes())}\n",
        "    return nodes"
      ]
    },
    {
      "cell_type": "markdown",
      "metadata": {
        "id": "TYs_8Q2FH1Wv"
      },
      "source": [
        "Create AMPL object with amplpy and load model and data"
      ]
    },
    {
      "cell_type": "code",
      "execution_count": null,
      "metadata": {
        "id": "WhP5vY6EH1Ww"
      },
      "outputs": [],
      "source": [
        "# Get the model from the cell above\n",
        "tsp_model = _ampl_cells[0]\n",
        "\n",
        "# Load model in AMPL\n",
        "ampl = AMPL()\n",
        "ampl.eval(tsp_model)\n",
        "ampl.option[\"solver\"] = SOLVER\n",
        "ampl.option[SOLVER + \"_options\"] = ' '.join(SOLVER_OPTIONS)\n",
        "\n",
        "# Set problem data from tsp file\n",
        "nodes = getDictFromTspFile(TSP_FILE)\n",
        "\n",
        "# Pass them to AMPL using a dataframe\n",
        "df = DataFrame(index=[('NODES')], columns=['hpos', 'vpos'])\n",
        "df.setValues(nodes)\n",
        "ampl.setData(df, \"NODES\")\n",
        "\n",
        "# Set some globals that never change during the execution of the problem\n",
        "NODES = set(nodes.keys())\n",
        "CPOINTS = {node : complex(coordinate[0], coordinate[1]) for (node, coordinate) in nodes.items()}"
      ]
    },
    {
      "cell_type": "markdown",
      "metadata": {
        "id": "gb2V0lEvH1Ww"
      },
      "source": [
        "Define some helpers functions to plot the tours"
      ]
    },
    {
      "cell_type": "code",
      "execution_count": null,
      "metadata": {
        "id": "oee5LJWtH1Ww"
      },
      "outputs": [],
      "source": [
        "def plotTours(tours: list, points_coordinate: dict):\n",
        "    # Plot all the tours in the list each with a different color\n",
        "    colors = ['b', 'g', 'c', 'm', 'y', 'k']\n",
        "    for i, tour in enumerate(tours):\n",
        "        tourCoordinates = [points_coordinate[point.strip(\"'\")] for point in tour]\n",
        "        color = colors[i % len(colors)]\n",
        "        plot_all(tourCoordinates, color = color)\n",
        "    plt.show()\n",
        "\n",
        "def plot_all(tour, alpha=1, color=None):\n",
        "    # Plot the tour as blue lines between blue circles\n",
        "    plotline(list(tour) + [tour[0]], alpha=alpha, color=color)\n",
        "    plotline([tour[0]], 's', alpha=alpha, color=color)\n",
        "    \n",
        "def plotline(points, style='o-', alpha=1, color=None):\n",
        "    \"Plot a list of points (complex numbers) in the 2-D plane.\"\n",
        "    X, Y = XY(points)\n",
        "    if color:\n",
        "        plt.plot(X, Y, style, alpha=alpha, color=color)\n",
        "    else:\n",
        "        plt.plot(X, Y, style, alpha=alpha)\n",
        "    \n",
        "def XY(points):\n",
        "    \"Given a list of points, return two lists: X coordinates, and Y coordinates.\"\n",
        "    return [p.real for p in points], [p.imag for p in points]"
      ]
    },
    {
      "cell_type": "markdown",
      "metadata": {
        "id": "9JyfIfqfH1Wx"
      },
      "source": [
        "Define some helper functions to help with the graphs (e.g. get the subtour given a set of arcs)"
      ]
    },
    {
      "cell_type": "code",
      "execution_count": null,
      "metadata": {
        "id": "1JmTrlTlH1Wx"
      },
      "outputs": [],
      "source": [
        "# Graphs helper routines\n",
        "def trasverse(node, arcs: set, allnodes: set, subtour = None) -> list:\n",
        "    # Trasverses all the arcs in the set arcs, starting from node\n",
        "    # and returns the tour\n",
        "    if not subtour:\n",
        "        subtour = list()\n",
        "    # Find arcs involving the current node\n",
        "    myarcs = [(i,j) for (i,j) in arcs if node == i or node == j]\n",
        "    if len(myarcs) == 0:\n",
        "        return \n",
        "    # Append the current node to the current subtour\n",
        "    subtour.append(node)\n",
        "\n",
        "    # Use the first arc found\n",
        "    myarc = myarcs[0]\n",
        "    # Find destination (or origin) node\n",
        "    destination = next(i for i in myarc if i != node)\n",
        "    # Remove from arcs and nodes to visit\n",
        "    arcs.remove(myarc)\n",
        "    if node in allnodes:\n",
        "        allnodes.remove(node)\n",
        "\n",
        "    trasverse(destination, arcs, allnodes, subtour)\n",
        "    return subtour\n",
        "\n",
        "\n",
        "def findSubTours(arcs: set, allnodes: set):\n",
        "    \"\"\"Find all the subtours defined by a set of arcs and\n",
        "       return them as a list of list\n",
        "    \"\"\"\n",
        "    subtours = list()\n",
        "    allnodes = allnodes.copy()\n",
        "    while len(allnodes) > 0:\n",
        "        l = trasverse(next(iter(allnodes)), arcs, allnodes)\n",
        "        subtours.append(l)\n",
        "    return subtours"
      ]
    },
    {
      "cell_type": "markdown",
      "metadata": {
        "id": "tSGchqffH1Wy"
      },
      "source": [
        "AMPLPY implementation of sub-tours elimination"
      ]
    },
    {
      "cell_type": "code",
      "execution_count": null,
      "metadata": {
        "id": "UEm5pZlpH1Wy"
      },
      "outputs": [],
      "source": [
        "def amplSubTourElimination(ampl: AMPL):\n",
        "    # Add the constraint and the needed parameters\n",
        "    subToursAMPL = \"\"\"param nSubtours >= 0 integer, default 0;\n",
        "    set SUB {1..nSubtours} within NODES;\n",
        "\n",
        "    subject to Subtour_Elimination {k in 1..nSubtours}:\n",
        "    sum {i in SUB[k], j in NODES diff SUB[k]} \n",
        "    if (i, j) in PAIRS then X[i, j] else X[j, i] >= 2;\"\"\"\n",
        "    ampl.eval(subToursAMPL)\n",
        "\n",
        "    nSubtoursParam = ampl.getParameter(\"nSubtours\")\n",
        "    SubtoursSet = ampl.getSet(\"SUB\")\n",
        "\n",
        "    allsubtours = list()\n",
        "    while True: # Repeat until the solution contains only one tour\n",
        "        ampl.solve()\n",
        "        # Get solution\n",
        "        ARCS = ampl.getData(\"{(i,j) in PAIRS : X[i,j] > 0} X[i,j];\")\n",
        "        ARCS = set([(i, j) for (i, j, k)in ARCS.toList()])\n",
        "        subtours = findSubTours(ARCS, NODES)\n",
        "        # If we have only one tour, the solution is valid\n",
        "        if len(subtours) <= 1:\n",
        "            break\n",
        "        print(f\"Found {len(subtours)} subtours, plotting them and adding cuts\")\n",
        "        if PLOTSUBTOURS:\n",
        "            plotTours(subtours, CPOINTS)\n",
        "        # Else add the current tours to the list of subtours\n",
        "        allsubtours.extend(subtours)\n",
        "        # And add those to the constraints by assigning the values to\n",
        "        # the parameter and the set\n",
        "        nSubtoursParam.set(len(allsubtours))\n",
        "        for (i, tour) in enumerate(allsubtours):\n",
        "            SubtoursSet[i+1].setValues(tour)"
      ]
    },
    {
      "cell_type": "markdown",
      "metadata": {
        "id": "YJcpQoYYH1Wy"
      },
      "source": [
        "ampls callbacks implementation of subtours elimination"
      ]
    },
    {
      "cell_type": "code",
      "execution_count": null,
      "metadata": {
        "id": "jGqP7dVbH1Wy"
      },
      "outputs": [],
      "source": [
        "# Callback class that actually add the cuts if subtours are found in a solution\n",
        "class MyCallback(ampls.GenericCallback):\n",
        "    def __init__(self): \n",
        "        # Constructor, simply sets the iteration number to 0\n",
        "        super().__init__()\n",
        "        self.iteration = 0 \n",
        "    def run(self):\n",
        "        try:\n",
        "            # For each solution\n",
        "            if self.getAMPLWhere() == ampls.Where.MIPSOL:\n",
        "                self.iteration += 1\n",
        "                print(f\"\\nIteration {self.iteration}: Finding subtours\")\n",
        "                sol = self.getSolutionVector()\n",
        "                arcs = [xvars[i] for i, value in enumerate(sol) if value > 0]\n",
        "                subTours = findSubTours(set(arcs), set(vertices))\n",
        "                if len(subTours) ==1:\n",
        "                    print(\"No subtours detected. Not adding any cut\")\n",
        "                    return 0\n",
        "                print(f\"Adding {len(subTours)} cuts\")\n",
        "                if PLOTSUBTOURS:\n",
        "                    plotTours(subTours, CPOINTS)\n",
        "                for subTour in subTours:\n",
        "                    st1 = set(subTour)\n",
        "                    nst1 = set(vertices) - st1\n",
        "                    externalArcs = [(i, j) if i < j else (j, i) for i in st1 for j in nst1]\n",
        "                    varsExternalArcs = [xinverse[i, j] for (i, j) in externalArcs]\n",
        "                    coeffs = [1 for i in range(len(varsExternalArcs))]\n",
        "                    if PLOTSUBTOURS:\n",
        "                        print(\"Adding cut for subtour:\", st1)\n",
        "                    self.addLazyIndices(varsExternalArcs, coeffs, ampls.CutDirection.GE, 2)\n",
        "                    if len(subTours) == 2:\n",
        "                        return 0\n",
        "                print(\"Continue solving\")\n",
        "            return 0\n",
        "        except Exception as e:\n",
        "            print('Error:', e)\n",
        "            return 1"
      ]
    },
    {
      "cell_type": "code",
      "execution_count": null,
      "metadata": {
        "id": "tf3Cb-kWH1Wz"
      },
      "outputs": [],
      "source": [
        "# Global variables to store entities needed by the callbacks\n",
        "# that never change\n",
        "xvars = None\n",
        "xinverse = None\n",
        "vertices = None\n",
        "def solverSubTourElimination(ampl: AMPL, solver, solver_options):\n",
        "    global xvars, xinverse, vertices\n",
        "    # Export the model using ampls\n",
        "    model = ampl.exportModel(solver, solver_options)\n",
        "    model.enableLazyConstraints()\n",
        "\n",
        "    # Get the global maps between solver vars and AMPL entities\n",
        "    varMap = model.getVarMapFiltered(\"X\")\n",
        "    #print(\"varMap:\", varMap)\n",
        "    inverse = model.getVarMapInverse()\n",
        "    xvars = {index: ampls.var2tuple(var)[1:] for var, index in varMap.items()}\n",
        "    xinverse = {ampls.var2tuple(var)[1:]: index for index, var in inverse.items()}\n",
        "    vertices = list(sorted(set([x[0] for x in xvars.values()] + [x[1] for x in xvars.values()])))\n",
        "\n",
        "    # Assign the callback\n",
        "    callback = MyCallback()\n",
        "    model.setCallback(callback)\n",
        "    print(\"Start optimization\")\n",
        "    # Start the optimization\n",
        "    model.optimize()\n",
        "    # Import the solution back to AMPL\n",
        "    ampl.importSolution(model)"
      ]
    },
    {
      "cell_type": "markdown",
      "metadata": {
        "id": "lM5SmkA_H1Wz"
      },
      "source": [
        "Script running the optimization"
      ]
    },
    {
      "cell_type": "code",
      "execution_count": null,
      "metadata": {
        "colab": {
          "base_uri": "https://localhost:8080/",
          "height": 1000
        },
        "id": "MEWiygtlH1Wz",
        "outputId": "34656414-8af0-4258-8132-3885e1311e60",
        "scrolled": false
      },
      "outputs": [],
      "source": [
        "t0 = time()\n",
        "if not USE_CALLBACKS:\n",
        "    amplSubTourElimination(ampl)\n",
        "else:\n",
        "    solverSubTourElimination(ampl, SOLVER, SOLVER_OPTIONS)"
      ]
    },
    {
      "cell_type": "markdown",
      "metadata": {
        "id": "-BYC4zqlH1Wz"
      },
      "source": [
        "Get the solution, print it and display it"
      ]
    },
    {
      "cell_type": "code",
      "execution_count": null,
      "metadata": {
        "colab": {
          "base_uri": "https://localhost:8080/",
          "height": 745
        },
        "id": "h9XdSvs4H1W0",
        "outputId": "828bbede-b703-4998-aba2-81479bc2258c",
        "scrolled": true
      },
      "outputs": [],
      "source": [
        "# Get the solution into ARCS\n",
        "ARCS = ampl.getData(\"{(i,j) in PAIRS : X[i,j] > 0} X[i,j];\")\n",
        "ARCS = set([(i,j) for (i,j,k) in ARCS.toList()])\n",
        "\n",
        "# Display it\n",
        "tours = findSubTours(ARCS, NODES)\n",
        "for st in tours:\n",
        "    print(st)\n",
        "plotTours(tours, CPOINTS)"
      ]
    },
    {
      "cell_type": "code",
      "execution_count": null,
      "metadata": {
        "colab": {
          "base_uri": "https://localhost:8080/"
        },
        "id": "VqhBM-MMH1W0",
        "outputId": "5085a957-e770-4365-8531-bc3a9cd506f4"
      },
      "outputs": [],
      "source": [
        "ampl.getValue('Tour_Length')"
      ]
    },
    {
      "cell_type": "code",
      "execution_count": null,
      "metadata": {
        "colab": {
          "base_uri": "https://localhost:8080/"
        },
        "id": "j3Bqcu0KH1W0",
        "outputId": "f9a6347c-1211-43ee-9148-1aa5941682e7"
      },
      "outputs": [],
      "source": [
        "time()-t0 # seconds"
      ]
    }
  ],
  "metadata": {
    "colab": {
      "name": "tsp_simple_cuts_generic.ipynb",
      "provenance": []
    },
    "kernelspec": {
      "display_name": "Python 3.9.13 ('venv': venv)",
      "language": "python",
      "name": "python3"
    },
    "language_info": {
      "codemirror_mode": {
        "name": "ipython",
        "version": 3
      },
      "file_extension": ".py",
      "mimetype": "text/x-python",
      "name": "python",
      "nbconvert_exporter": "python",
      "pygments_lexer": "ipython3",
      "version": "3.9.13"
    },
    "vscode": {
      "interpreter": {
        "hash": "ee4198aac13dae9b6fccd443041680d99c2643c4956ef7c80ff6dcc0057cb523"
      }
    }
  },
  "nbformat": 4,
  "nbformat_minor": 1
}
