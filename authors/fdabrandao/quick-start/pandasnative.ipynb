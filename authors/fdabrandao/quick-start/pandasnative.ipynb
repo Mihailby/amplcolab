{
  "cells": [
    {
      "cell_type": "markdown",
      "source": [
        "# Quick Start using lists and dictionaries\n",
        "[![pandasnative.ipynb](https://img.shields.io/badge/github-%23121011.svg?logo=github)](https://github.com/ampl/amplcolab/blob/master/authors/fdabrandao/quick-start/pandasnative.ipynb) [![Open In Colab](https://colab.research.google.com/assets/colab-badge.svg)](https://colab.research.google.com/github/ampl/amplcolab/blob/master/authors/fdabrandao/quick-start/pandasnative.ipynb) [![Kaggle](https://kaggle.com/static/images/open-in-kaggle.svg)](https://kaggle.com/kernels/welcome?src=https://github.com/ampl/amplcolab/blob/master/authors/fdabrandao/quick-start/pandasnative.ipynb) [![Gradient](https://assets.paperspace.io/img/gradient-badge.svg)](https://console.paperspace.com/github/ampl/amplcolab/blob/master/authors/fdabrandao/quick-start/pandasnative.ipynb) [![Open In SageMaker Studio Lab](https://studiolab.sagemaker.aws/studiolab.svg)](https://studiolab.sagemaker.aws/import/github/ampl/amplcolab/blob/master/authors/fdabrandao/quick-start/pandasnative.ipynb) [![Hits](https://h.ampl.com/https://github.com/ampl/amplcolab/blob/master/authors/fdabrandao/quick-start/pandasnative.ipynb)](https://colab.ampl.com)\n",
        "\n",
        "Description: Quick Start using lists and dictionaries to load and retrieve data\n",
        "\n",
        "Tags: amplpy, quick-start, highlights\n",
        "\n",
        "Notebook author: Filipe Brandão <<fdabrandao@gmail.com>>"
      ],
      "metadata": {
        "id": "gprACN0E2fRM"
      }
    },
    {
      "cell_type": "code",
      "source": [
        "# Install dependencies\n",
        "!pip install -q amplpy pandas numpy"
      ],
      "metadata": {
        "id": "N_yOBcbj3Ozx"
      },
      "execution_count": 19,
      "outputs": []
    },
    {
      "cell_type": "code",
      "source": [
        "# Google Colab & Kaggle integration\n",
        "MODULES, LICENSE_UUID = ['highs'], None\n",
        "from amplpy import tools\n",
        "ampl = tools.ampl_notebook(modules=MODULES, license_uuid=LICENSE_UUID, globals_=globals()) # instantiate AMPL object and register magics"
      ],
      "metadata": {
        "id": "YZotGiKU3RZY",
        "colab": {
          "base_uri": "https://localhost:8080/"
        },
        "outputId": "d3d702e4-1a99-4d4c-ee0b-5182bc7b5e70"
      },
      "execution_count": 20,
      "outputs": []
    },
    {
      "cell_type": "markdown",
      "source": [
        "# Diet Model\n",
        "\n",
        "Consider the problem of choosing prepared foods to meet certain nutritional requirements.\n",
        "\n",
        "Sets:\n",
        "- `NUTR`: set of nutrients to consider\n",
        "- `FOOD`: set of food to consider\n",
        "\n",
        "Parameters:\n",
        "- `cost {FOOD}`: cost of each food\n",
        "- `f_min {FOOD}`: minimum amount of food to buy\n",
        "- `f_max {FOOD}`: maximum amount of food to buy\n",
        "- `n_min {NUTR}`: minimum amount required of each nutrient\n",
        "- `n_max {NUTR}`: maximum amount allowed of each nutrient\n",
        "- `amt {NUTR, FOOD}`: amount of each nutrient in each food\n",
        "\n",
        "Variables:\n",
        "- `Buy {FOOD}`: amount of food to buy\n",
        "\n",
        "Objective:\n",
        "- `Total_Cost`: total cost of the diet\n",
        "\n",
        "Constraints:\n",
        "- `Diet {NUTR}`: ensure that the nutritional requirements are satisfied by the diet. \n",
        "\n",
        "The problem is then modeled as follows:"
      ],
      "metadata": {
        "id": "BZ5JZD0FzXAg"
      }
    },
    {
      "cell_type": "code",
      "execution_count": 21,
      "metadata": {
        "id": "4oBfIvMzbnvk"
      },
      "outputs": [],
      "source": [
        "%%ampl_eval\n",
        "reset;\n",
        "set NUTR;\n",
        "set FOOD;\n",
        "\n",
        "param cost {FOOD} > 0;\n",
        "param f_min {FOOD} >= 0;\n",
        "param f_max {j in FOOD} >= f_min[j];\n",
        "\n",
        "param n_min {NUTR} >= 0;\n",
        "param n_max {i in NUTR} >= n_min[i];\n",
        "\n",
        "param amt {NUTR,FOOD} >= 0;\n",
        "\n",
        "var Buy {j in FOOD} >= f_min[j], <= f_max[j];\n",
        "\n",
        "minimize Total_Cost:  sum {j in FOOD} cost[j] * Buy[j];\n",
        "\n",
        "subject to Diet {i in NUTR}:\n",
        "n_min[i] <= sum {j in FOOD} amt[i,j] * Buy[j] <= n_max[i];"
      ]
    },
    {
      "cell_type": "markdown",
      "source": [
        "## Load the data using lists and dictionaries"
      ],
      "metadata": {
        "id": "tYA-jeGUxujz"
      }
    },
    {
      "cell_type": "code",
      "source": [
        "foods = [\"BEEF\", \"CHK\", \"FISH\", \"HAM\", \"MCH\", \"MTL\", \"SPG\", \"TUR\"]\n",
        "nutrients = [\"A\", \"C\", \"B1\", \"B2\", \"NA\", \"CAL\"]\n",
        "ampl.set[\"FOOD\"] = foods\n",
        "ampl.param[\"cost\"] = [3.59, 2.59, 2.29, 2.89, 1.89, 1.99, 1.99, 2.49]\n",
        "ampl.param[\"f_min\"] = [2, 2, 2, 2, 2, 2, 2, 2]\n",
        "ampl.param[\"f_max\"] = [10, 10, 10, 10, 10, 10, 10, 10]\n",
        "ampl.set[\"NUTR\"] = nutrients\n",
        "ampl.param[\"n_min\"] = [700, 700, 700, 700, 0, 16000]\n",
        "ampl.param[\"n_max\"] = [20000, 20000, 20000, 20000, 50000, 24000]\n",
        "amounts = [\n",
        "    [60, 8, 8, 40, 15, 70, 25, 60],\n",
        "    [20, 0, 10, 40, 35, 30, 50, 20],\n",
        "    [10, 20, 15, 35, 15, 15, 25, 15],\n",
        "    [15, 20, 10, 10, 15, 15, 15, 10],\n",
        "    [928, 2180, 945, 278, 1182, 896, 1329, 1397],\n",
        "    [295, 770, 440, 430, 315, 400, 379, 450],\n",
        "]\n",
        "ampl.param[\"amt\"] = {\n",
        "    (nutrient, food): amounts[i][j]\n",
        "    for i, nutrient in enumerate(nutrients)\n",
        "    for j, food in enumerate(foods)\n",
        "}"
      ],
      "metadata": {
        "id": "6CPg9YzCxuTT"
      },
      "execution_count": 22,
      "outputs": []
    },
    {
      "cell_type": "markdown",
      "source": [
        "# Solve with HiGHS"
      ],
      "metadata": {
        "id": "6NnyUc2qxzIM"
      }
    },
    {
      "cell_type": "code",
      "source": [
        "# Specify the solver to use (e.g., HiGHS)\n",
        "ampl.option[\"solver\"] = \"highs\"\n",
        "# Solve\n",
        "ampl.solve()\n",
        "assert ampl.get_value(\"solve_result\") == \"solved\"\n",
        "# Get objective entity by AMPL name\n",
        "totalcost = ampl.get_objective('Total_Cost')\n",
        "# Print it\n",
        "print(\"Objective is:\", totalcost.value())"
      ],
      "metadata": {
        "id": "11ojqR5JyVqB",
        "outputId": "629b8eb0-1ffa-44d4-c923-f0d069752a39",
        "colab": {
          "base_uri": "https://localhost:8080/"
        }
      },
      "execution_count": 23,
      "outputs": [
        {
          "output_type": "stream",
          "name": "stdout",
          "text": [
            "HiGHS 1.4.0: \b\b\b\b\b\b\b\b\b\b\b\b\bHiGHS 1.4.0: optimal solution; objective 119.9897589\n",
            "4 simplex iterations\n",
            "0 barrier iterations\n",
            "absmipgap=119.99, relmipgap=inf\n",
            "Objective is: 119.98975893599335\n"
          ]
        }
      ]
    },
    {
      "cell_type": "markdown",
      "source": [
        "## Reassign data for specific instances and resolve"
      ],
      "metadata": {
        "id": "rrwelmdwygur"
      }
    },
    {
      "cell_type": "code",
      "execution_count": 24,
      "metadata": {
        "colab": {
          "base_uri": "https://localhost:8080/"
        },
        "id": "plPCDhdhjivI",
        "outputId": "d43fc08a-8108-4f7a-ab6e-25a988998112"
      },
      "outputs": [
        {
          "output_type": "stream",
          "name": "stdout",
          "text": [
            "Increased costs of beef and ham.\n",
            "HiGHS 1.4.0: \b\b\b\b\b\b\b\b\b\b\b\b\bHiGHS 1.4.0: optimal solution; objective 144.0120033\n",
            "0 simplex iterations\n",
            "0 barrier iterations\n",
            "absmipgap=144.012, relmipgap=inf\n",
            "New objective value: 144.01200332502077\n"
          ]
        }
      ],
      "source": [
        "# Reassign data - specific instances\n",
        "cost = ampl.get_parameter('cost')\n",
        "cost.set_values({'BEEF': 5.01, 'HAM': 4.55})\n",
        "print(\"Increased costs of beef and ham.\")\n",
        "\n",
        "# Resolve and display objective\n",
        "ampl.solve()\n",
        "assert ampl.get_value(\"solve_result\") == \"solved\"\n",
        "print(\"New objective value:\", totalcost.value())"
      ]
    },
    {
      "cell_type": "markdown",
      "source": [
        "### Reassign data for all instances and resolve"
      ],
      "metadata": {
        "id": "-Mj4AP9Qy60F"
      }
    },
    {
      "cell_type": "code",
      "source": [
        "# Reassign data - all instances\n",
        "cost.set_values([3, 5, 5, 6, 1, 2, 5.01, 4.55])\n",
        "print(\"Updated all costs.\")\n",
        "\n",
        "# Resolve and display objective\n",
        "ampl.solve()\n",
        "assert ampl.get_value(\"solve_result\") == \"solved\"\n",
        "print(\"New objective value:\", totalcost.value())"
      ],
      "metadata": {
        "id": "j3j84nkVy6SD",
        "outputId": "a0e7dd44-72cf-476b-9b7e-95bc30c1e86f",
        "colab": {
          "base_uri": "https://localhost:8080/"
        }
      },
      "execution_count": 25,
      "outputs": [
        {
          "output_type": "stream",
          "name": "stdout",
          "text": [
            "Updated all costs.\n",
            "HiGHS 1.4.0: \b\b\b\b\b\b\b\b\b\b\b\b\bHiGHS 1.4.0: optimal solution; objective 164.10625\n",
            "4 simplex iterations\n",
            "0 barrier iterations\n",
            "absmipgap=164.106, relmipgap=inf\n",
            "New objective value: 164.10625\n"
          ]
        }
      ]
    },
    {
      "cell_type": "markdown",
      "source": [
        "## Get the values of the variable Buy in a pandas.DataFrame object"
      ],
      "metadata": {
        "id": "zmmo0fWhzFPi"
      }
    },
    {
      "cell_type": "code",
      "source": [
        "df = ampl.get_variable('Buy').get_values().to_pandas()\n",
        "df"
      ],
      "metadata": {
        "id": "5BFTCHMyzEOg",
        "outputId": "dff4e71f-929c-4535-c74d-701cd3d7075a",
        "colab": {
          "base_uri": "https://localhost:8080/",
          "height": 300
        }
      },
      "execution_count": 26,
      "outputs": [
        {
          "output_type": "execute_result",
          "data": {
            "text/plain": [
              "        Buy.val\n",
              "BEEF  10.000000\n",
              "CHK    2.000000\n",
              "FISH   2.000000\n",
              "HAM    6.851974\n",
              "MCH   10.000000\n",
              "MTL   10.000000\n",
              "SPG    6.765351\n",
              "TUR    2.000000"
            ],
            "text/html": [
              "\n",
              "  <div id=\"df-8fb03488-47ec-4c09-a9ae-7b41a663cc9d\">\n",
              "    <div class=\"colab-df-container\">\n",
              "      <div>\n",
              "<style scoped>\n",
              "    .dataframe tbody tr th:only-of-type {\n",
              "        vertical-align: middle;\n",
              "    }\n",
              "\n",
              "    .dataframe tbody tr th {\n",
              "        vertical-align: top;\n",
              "    }\n",
              "\n",
              "    .dataframe thead th {\n",
              "        text-align: right;\n",
              "    }\n",
              "</style>\n",
              "<table border=\"1\" class=\"dataframe\">\n",
              "  <thead>\n",
              "    <tr style=\"text-align: right;\">\n",
              "      <th></th>\n",
              "      <th>Buy.val</th>\n",
              "    </tr>\n",
              "  </thead>\n",
              "  <tbody>\n",
              "    <tr>\n",
              "      <th>BEEF</th>\n",
              "      <td>10.000000</td>\n",
              "    </tr>\n",
              "    <tr>\n",
              "      <th>CHK</th>\n",
              "      <td>2.000000</td>\n",
              "    </tr>\n",
              "    <tr>\n",
              "      <th>FISH</th>\n",
              "      <td>2.000000</td>\n",
              "    </tr>\n",
              "    <tr>\n",
              "      <th>HAM</th>\n",
              "      <td>6.851974</td>\n",
              "    </tr>\n",
              "    <tr>\n",
              "      <th>MCH</th>\n",
              "      <td>10.000000</td>\n",
              "    </tr>\n",
              "    <tr>\n",
              "      <th>MTL</th>\n",
              "      <td>10.000000</td>\n",
              "    </tr>\n",
              "    <tr>\n",
              "      <th>SPG</th>\n",
              "      <td>6.765351</td>\n",
              "    </tr>\n",
              "    <tr>\n",
              "      <th>TUR</th>\n",
              "      <td>2.000000</td>\n",
              "    </tr>\n",
              "  </tbody>\n",
              "</table>\n",
              "</div>\n",
              "      <button class=\"colab-df-convert\" onclick=\"convertToInteractive('df-8fb03488-47ec-4c09-a9ae-7b41a663cc9d')\"\n",
              "              title=\"Convert this dataframe to an interactive table.\"\n",
              "              style=\"display:none;\">\n",
              "        \n",
              "  <svg xmlns=\"http://www.w3.org/2000/svg\" height=\"24px\"viewBox=\"0 0 24 24\"\n",
              "       width=\"24px\">\n",
              "    <path d=\"M0 0h24v24H0V0z\" fill=\"none\"/>\n",
              "    <path d=\"M18.56 5.44l.94 2.06.94-2.06 2.06-.94-2.06-.94-.94-2.06-.94 2.06-2.06.94zm-11 1L8.5 8.5l.94-2.06 2.06-.94-2.06-.94L8.5 2.5l-.94 2.06-2.06.94zm10 10l.94 2.06.94-2.06 2.06-.94-2.06-.94-.94-2.06-.94 2.06-2.06.94z\"/><path d=\"M17.41 7.96l-1.37-1.37c-.4-.4-.92-.59-1.43-.59-.52 0-1.04.2-1.43.59L10.3 9.45l-7.72 7.72c-.78.78-.78 2.05 0 2.83L4 21.41c.39.39.9.59 1.41.59.51 0 1.02-.2 1.41-.59l7.78-7.78 2.81-2.81c.8-.78.8-2.07 0-2.86zM5.41 20L4 18.59l7.72-7.72 1.47 1.35L5.41 20z\"/>\n",
              "  </svg>\n",
              "      </button>\n",
              "      \n",
              "  <style>\n",
              "    .colab-df-container {\n",
              "      display:flex;\n",
              "      flex-wrap:wrap;\n",
              "      gap: 12px;\n",
              "    }\n",
              "\n",
              "    .colab-df-convert {\n",
              "      background-color: #E8F0FE;\n",
              "      border: none;\n",
              "      border-radius: 50%;\n",
              "      cursor: pointer;\n",
              "      display: none;\n",
              "      fill: #1967D2;\n",
              "      height: 32px;\n",
              "      padding: 0 0 0 0;\n",
              "      width: 32px;\n",
              "    }\n",
              "\n",
              "    .colab-df-convert:hover {\n",
              "      background-color: #E2EBFA;\n",
              "      box-shadow: 0px 1px 2px rgba(60, 64, 67, 0.3), 0px 1px 3px 1px rgba(60, 64, 67, 0.15);\n",
              "      fill: #174EA6;\n",
              "    }\n",
              "\n",
              "    [theme=dark] .colab-df-convert {\n",
              "      background-color: #3B4455;\n",
              "      fill: #D2E3FC;\n",
              "    }\n",
              "\n",
              "    [theme=dark] .colab-df-convert:hover {\n",
              "      background-color: #434B5C;\n",
              "      box-shadow: 0px 1px 3px 1px rgba(0, 0, 0, 0.15);\n",
              "      filter: drop-shadow(0px 1px 2px rgba(0, 0, 0, 0.3));\n",
              "      fill: #FFFFFF;\n",
              "    }\n",
              "  </style>\n",
              "\n",
              "      <script>\n",
              "        const buttonEl =\n",
              "          document.querySelector('#df-8fb03488-47ec-4c09-a9ae-7b41a663cc9d button.colab-df-convert');\n",
              "        buttonEl.style.display =\n",
              "          google.colab.kernel.accessAllowed ? 'block' : 'none';\n",
              "\n",
              "        async function convertToInteractive(key) {\n",
              "          const element = document.querySelector('#df-8fb03488-47ec-4c09-a9ae-7b41a663cc9d');\n",
              "          const dataTable =\n",
              "            await google.colab.kernel.invokeFunction('convertToInteractive',\n",
              "                                                     [key], {});\n",
              "          if (!dataTable) return;\n",
              "\n",
              "          const docLinkHtml = 'Like what you see? Visit the ' +\n",
              "            '<a target=\"_blank\" href=https://colab.research.google.com/notebooks/data_table.ipynb>data table notebook</a>'\n",
              "            + ' to learn more about interactive tables.';\n",
              "          element.innerHTML = '';\n",
              "          dataTable['output_type'] = 'display_data';\n",
              "          await google.colab.output.renderOutput(dataTable, element);\n",
              "          const docLink = document.createElement('div');\n",
              "          docLink.innerHTML = docLinkHtml;\n",
              "          element.appendChild(docLink);\n",
              "        }\n",
              "      </script>\n",
              "    </div>\n",
              "  </div>\n",
              "  "
            ]
          },
          "metadata": {},
          "execution_count": 26
        }
      ]
    },
    {
      "cell_type": "markdown",
      "source": [
        "## Get the values of an expression into a pandas.DataFrame object"
      ],
      "metadata": {
        "id": "E9p--jVyzH7D"
      }
    },
    {
      "cell_type": "code",
      "source": [
        "df = ampl.get_data('{j in FOOD} 100*Buy[j]/Buy[j].ub').to_pandas()\n",
        "df"
      ],
      "metadata": {
        "id": "X-Zj8cWsyzOD",
        "outputId": "9461570f-ddcf-4135-ff71-910fddbb845d",
        "colab": {
          "base_uri": "https://localhost:8080/",
          "height": 300
        }
      },
      "execution_count": 27,
      "outputs": [
        {
          "output_type": "execute_result",
          "data": {
            "text/plain": [
              "      100*Buy[j]/(Buy[j].ub)\n",
              "BEEF              100.000000\n",
              "CHK                20.000000\n",
              "FISH               20.000000\n",
              "HAM                68.519737\n",
              "MCH               100.000000\n",
              "MTL               100.000000\n",
              "SPG                67.653509\n",
              "TUR                20.000000"
            ],
            "text/html": [
              "\n",
              "  <div id=\"df-dc42da81-5120-4a16-ad36-a017509a82c2\">\n",
              "    <div class=\"colab-df-container\">\n",
              "      <div>\n",
              "<style scoped>\n",
              "    .dataframe tbody tr th:only-of-type {\n",
              "        vertical-align: middle;\n",
              "    }\n",
              "\n",
              "    .dataframe tbody tr th {\n",
              "        vertical-align: top;\n",
              "    }\n",
              "\n",
              "    .dataframe thead th {\n",
              "        text-align: right;\n",
              "    }\n",
              "</style>\n",
              "<table border=\"1\" class=\"dataframe\">\n",
              "  <thead>\n",
              "    <tr style=\"text-align: right;\">\n",
              "      <th></th>\n",
              "      <th>100*Buy[j]/(Buy[j].ub)</th>\n",
              "    </tr>\n",
              "  </thead>\n",
              "  <tbody>\n",
              "    <tr>\n",
              "      <th>BEEF</th>\n",
              "      <td>100.000000</td>\n",
              "    </tr>\n",
              "    <tr>\n",
              "      <th>CHK</th>\n",
              "      <td>20.000000</td>\n",
              "    </tr>\n",
              "    <tr>\n",
              "      <th>FISH</th>\n",
              "      <td>20.000000</td>\n",
              "    </tr>\n",
              "    <tr>\n",
              "      <th>HAM</th>\n",
              "      <td>68.519737</td>\n",
              "    </tr>\n",
              "    <tr>\n",
              "      <th>MCH</th>\n",
              "      <td>100.000000</td>\n",
              "    </tr>\n",
              "    <tr>\n",
              "      <th>MTL</th>\n",
              "      <td>100.000000</td>\n",
              "    </tr>\n",
              "    <tr>\n",
              "      <th>SPG</th>\n",
              "      <td>67.653509</td>\n",
              "    </tr>\n",
              "    <tr>\n",
              "      <th>TUR</th>\n",
              "      <td>20.000000</td>\n",
              "    </tr>\n",
              "  </tbody>\n",
              "</table>\n",
              "</div>\n",
              "      <button class=\"colab-df-convert\" onclick=\"convertToInteractive('df-dc42da81-5120-4a16-ad36-a017509a82c2')\"\n",
              "              title=\"Convert this dataframe to an interactive table.\"\n",
              "              style=\"display:none;\">\n",
              "        \n",
              "  <svg xmlns=\"http://www.w3.org/2000/svg\" height=\"24px\"viewBox=\"0 0 24 24\"\n",
              "       width=\"24px\">\n",
              "    <path d=\"M0 0h24v24H0V0z\" fill=\"none\"/>\n",
              "    <path d=\"M18.56 5.44l.94 2.06.94-2.06 2.06-.94-2.06-.94-.94-2.06-.94 2.06-2.06.94zm-11 1L8.5 8.5l.94-2.06 2.06-.94-2.06-.94L8.5 2.5l-.94 2.06-2.06.94zm10 10l.94 2.06.94-2.06 2.06-.94-2.06-.94-.94-2.06-.94 2.06-2.06.94z\"/><path d=\"M17.41 7.96l-1.37-1.37c-.4-.4-.92-.59-1.43-.59-.52 0-1.04.2-1.43.59L10.3 9.45l-7.72 7.72c-.78.78-.78 2.05 0 2.83L4 21.41c.39.39.9.59 1.41.59.51 0 1.02-.2 1.41-.59l7.78-7.78 2.81-2.81c.8-.78.8-2.07 0-2.86zM5.41 20L4 18.59l7.72-7.72 1.47 1.35L5.41 20z\"/>\n",
              "  </svg>\n",
              "      </button>\n",
              "      \n",
              "  <style>\n",
              "    .colab-df-container {\n",
              "      display:flex;\n",
              "      flex-wrap:wrap;\n",
              "      gap: 12px;\n",
              "    }\n",
              "\n",
              "    .colab-df-convert {\n",
              "      background-color: #E8F0FE;\n",
              "      border: none;\n",
              "      border-radius: 50%;\n",
              "      cursor: pointer;\n",
              "      display: none;\n",
              "      fill: #1967D2;\n",
              "      height: 32px;\n",
              "      padding: 0 0 0 0;\n",
              "      width: 32px;\n",
              "    }\n",
              "\n",
              "    .colab-df-convert:hover {\n",
              "      background-color: #E2EBFA;\n",
              "      box-shadow: 0px 1px 2px rgba(60, 64, 67, 0.3), 0px 1px 3px 1px rgba(60, 64, 67, 0.15);\n",
              "      fill: #174EA6;\n",
              "    }\n",
              "\n",
              "    [theme=dark] .colab-df-convert {\n",
              "      background-color: #3B4455;\n",
              "      fill: #D2E3FC;\n",
              "    }\n",
              "\n",
              "    [theme=dark] .colab-df-convert:hover {\n",
              "      background-color: #434B5C;\n",
              "      box-shadow: 0px 1px 3px 1px rgba(0, 0, 0, 0.15);\n",
              "      filter: drop-shadow(0px 1px 2px rgba(0, 0, 0, 0.3));\n",
              "      fill: #FFFFFF;\n",
              "    }\n",
              "  </style>\n",
              "\n",
              "      <script>\n",
              "        const buttonEl =\n",
              "          document.querySelector('#df-dc42da81-5120-4a16-ad36-a017509a82c2 button.colab-df-convert');\n",
              "        buttonEl.style.display =\n",
              "          google.colab.kernel.accessAllowed ? 'block' : 'none';\n",
              "\n",
              "        async function convertToInteractive(key) {\n",
              "          const element = document.querySelector('#df-dc42da81-5120-4a16-ad36-a017509a82c2');\n",
              "          const dataTable =\n",
              "            await google.colab.kernel.invokeFunction('convertToInteractive',\n",
              "                                                     [key], {});\n",
              "          if (!dataTable) return;\n",
              "\n",
              "          const docLinkHtml = 'Like what you see? Visit the ' +\n",
              "            '<a target=\"_blank\" href=https://colab.research.google.com/notebooks/data_table.ipynb>data table notebook</a>'\n",
              "            + ' to learn more about interactive tables.';\n",
              "          element.innerHTML = '';\n",
              "          dataTable['output_type'] = 'display_data';\n",
              "          await google.colab.output.renderOutput(dataTable, element);\n",
              "          const docLink = document.createElement('div');\n",
              "          docLink.innerHTML = docLinkHtml;\n",
              "          element.appendChild(docLink);\n",
              "        }\n",
              "      </script>\n",
              "    </div>\n",
              "  </div>\n",
              "  "
            ]
          },
          "metadata": {},
          "execution_count": 27
        }
      ]
    }
  ],
  "metadata": {
    "colab": {
      "provenance": []
    },
    "kernelspec": {
      "display_name": "venv",
      "language": "python",
      "name": "python3"
    },
    "language_info": {
      "name": "python",
      "version": "3.9.13 (main, May 24 2022, 21:28:31) \n[Clang 13.1.6 (clang-1316.0.21.2)]"
    },
    "vscode": {
      "interpreter": {
        "hash": "ee4198aac13dae9b6fccd443041680d99c2643c4956ef7c80ff6dcc0057cb523"
      }
    }
  },
  "nbformat": 4,
  "nbformat_minor": 0
}
