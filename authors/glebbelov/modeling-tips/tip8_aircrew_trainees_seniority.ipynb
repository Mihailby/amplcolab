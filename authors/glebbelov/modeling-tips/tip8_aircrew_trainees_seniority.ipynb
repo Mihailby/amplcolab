{
  "cells": [
    {
      "attachments": {},
      "cell_type": "markdown",
      "metadata": {
        "id": "7RjB1ipC7KbS"
      },
      "source": [
        "# Aircrew trainee scheduling with seniority constraints and preferences\n",
        "[![tip8_aircrew_trainees_seniority.ipynb](https://img.shields.io/badge/github-%23121011.svg?logo=github)](https://github.com/ampl/colab.ampl.com/blob/master/authors/glebbelov/modeling-tips/tip8_aircrew_trainees_seniority.ipynb) [![Open In Colab](https://colab.research.google.com/assets/colab-badge.svg)](https://colab.research.google.com/github/ampl/colab.ampl.com/blob/master/authors/glebbelov/modeling-tips/tip8_aircrew_trainees_seniority.ipynb) [![Kaggle](https://kaggle.com/static/images/open-in-kaggle.svg)](https://kaggle.com/kernels/welcome?src=https://github.com/ampl/colab.ampl.com/blob/master/authors/glebbelov/modeling-tips/tip8_aircrew_trainees_seniority.ipynb) [![Gradient](https://assets.paperspace.io/img/gradient-badge.svg)](https://console.paperspace.com/github/ampl/colab.ampl.com/blob/master/authors/glebbelov/modeling-tips/tip8_aircrew_trainees_seniority.ipynb) [![Open In SageMaker Studio Lab](https://studiolab.sagemaker.aws/studiolab.svg)](https://studiolab.sagemaker.aws/import/github/ampl/colab.ampl.com/blob/master/authors/glebbelov/modeling-tips/tip8_aircrew_trainees_seniority.ipynb) [![Hits](https://h.ampl.com/https://github.com/ampl/colab.ampl.com/blob/master/authors/glebbelov/modeling-tips/tip8_aircrew_trainees_seniority.ipynb)](https://colab.ampl.com)\n",
        "\n",
        "Description: Aircrew trainee scheduling with seniority constraints and preferences\n",
        "\n",
        "Tags: trainee scheduling, aircrew scheduling, employee scheduling, seniority constraints, seniority ranking, amplpy\n",
        "\n",
        "Notebook author: Gleb Belov <<gleb@ampl.com>>\n",
        "\n",
        "References:\n",
        "1. G. Kozanidis (2017). Optimal assignment of aircrew trainees to simulator and classroom training sessions subject to seniority and preference restrictions. Journal of Air Transport Management 59, 143-154."
      ]
    },
    {
      "cell_type": "code",
      "execution_count": 1,
      "metadata": {
        "id": "rQ50dBwL7KbX"
      },
      "outputs": [],
      "source": [
        "# Install dependencies\n",
        "%pip install -q amplpy pandas"
      ]
    },
    {
      "cell_type": "code",
      "execution_count": 2,
      "metadata": {
        "colab": {
          "base_uri": "https://localhost:8080/",
          "height": 101,
          "referenced_widgets": [
            "5c52a4f288924ca8bbf5182a951af6a8",
            "5a786f2dd2584199a4001c8bebefd757",
            "9a901424b8c04687b39b5e1251ee3919",
            "fcf080abd68144728d12fa81f879d5d5",
            "b2d8e84e2f6545bc98bbaf40294b9ad8",
            "de8c25d11df34ae2b86964266defdfdc",
            "a1e4bcf9de474b4f835419c6278d4e42",
            "45de4f35c7f04c37b87cad70c3e3b224",
            "59a30522756c4d668323600e0800a022",
            "4510b5e780f24d44ace00a42c38cf6dc",
            "5bec63a60fab4e628b18b6576859f23d",
            "4cfacef2f3e44067b81ac133fe17ae5b",
            "c9f8c186dbec4424895eb43630e458f2",
            "a0a3a52262a340debb5a29ce65170164"
          ]
        },
        "id": "s7DEaRp87KbY",
        "outputId": "7ccc087a-1af8-445e-c56d-31f3371b0c38"
      },
      "outputs": [],
      "source": [
        "# Google Colab & Kaggle integration\n",
        "from amplpy import AMPL, ampl_notebook\n",
        "\n",
        "ampl = ampl_notebook(\n",
        "    modules=[\"gurobi\", \"xpress\"],  # modules to install\n",
        "    license_uuid=\"default\",  # license to use\n",
        ")  # instantiate AMPL object and register magics"
      ]
    },
    {
      "cell_type": "markdown",
      "metadata": {},
      "source": [
        "## Mathematical model"
      ]
    },
    {
      "cell_type": "markdown",
      "metadata": {},
      "source": [
        "This notebook considers a realistic trainee scheduling model from [1] involving classroom capacities, language and (reverse) seniority constraints, and seniority-ranked preferences. The (compulsory) seniority constraints are modeled by a Preferential Bidding System (PBS)-style secondary objective function.\n",
        "\n",
        "**Sets:**\n",
        "- $I$ - set of crew trainees,\n",
        "- $T$ - set of training sessions,\n",
        "- $V_i$ - set of valid sessions of trainee $i\\in I$,\n",
        "- $Pos$ - set of crew positions:  captain (CP), first officer (FO), purser (PU), or flight attendant (FA),\n",
        "- $Grp$ - set of trainee groups: all, cockpit (CK), cabin (CB).\n",
        "\n",
        "**Parameters:**\n",
        "- $P_i\\in Pos$ - position of trainee $i\\in I$,\n",
        "- $S_i$ - seniority. The smaller this number, the more senior the corresponding crew member,\n",
        "- $E_i$ - flight capability expiration. 0: end of the current month, 1: end of the next month, 2: end of the next to the following month,\n",
        "- $L_i$ - spoken language. 0: the trainee speaks both of the alternative languages, 1: only the first language, 2: only the second language,\n",
        "- $Pr_{it}$ - priority of trainee $i$ for valid session $t$. Priorities are non-negative integers. Higher priorities mean higher preference. Zero priority means that the trainee does not want to be assigned to this session. All positive priorities for the same trainee should be different, while zero priority can be expressed for multiple sessions,\n",
        "- $MAX_p$ - capacity of each training session for trainees of position $p\\in Pos$,\n",
        "- $MAX^+_g$ - capacity of each training session for trainees of group $g\\in Grp$.\n",
        "\n",
        "The aim is to find an optimal assignment of trainees to training sessions which minimizes the number of training slots that remain empty, while also satisfying a list of hard and soft requirements. The satisfaction of the hard restrictions is unnegotiable, whereas the soft ones must be satisfied to the greatest possible extent. The **hard restrictions** that must be satisfied are the following:\n",
        "- Capacity constraints for each training session,\n",
        "- One of the two alternative languages must be selected for each session,\n",
        "- Every crew member with expiration 0 must be assigned to one of his/her valid sessions,\n",
        "- Reverse expiration and reverse seniority restrictions. Suppose that there exists a slot in a training session, which is only valid to a specific subset of crew members, none of which has expressed positive preference for being assigned to this session. Since the minimization of the total number of empty slots is the model's primary objective, one of these crew members must eventually be assigned to this session. The reverse expiration restrictions, considered first, dictate that this should be the crew member with the lowest expiration (his/her flight capability should expire sooner) among them. Assume now, that two or more trainees have the lowest expiration. The reverse seniority restrictions, considered next, dictate that this should be the least senior trainee among all the trainees with the lowest expiration.\n",
        "\n",
        "Additionally, the following **soft restrictions** must be satisfied:\n",
        "- The maximum possible preference satisfaction for each crew member must be attained, according to strict seniority. This means that no crew member's preference should be satisfied at the expense of the dissatisfaction of a more senior crew member's preference.\n",
        "- The maximum possible preference satisfaction of each individual crew member must be attained, according to the list of priorities that he/she has expressed.\n",
        "\n",
        "**Decision variables:**\n",
        "- $x_{it}$ - binary decision variable, takes value $1$ *iff* trainee $i\\in I$ is assigned to session $t\\in V_t$,\n",
        "- $y_i$ - binary decision variable that takes the value 1 *iff* trainee i remains unassigned, $i\\in I$: $E_i = 1$ or $2$,\n",
        "- $u_t$: binary decision variable that takes the value 1 if language 1 is selected for training session t, and 0 if language 2 is selected instead, $t\\in T$,\n",
        "- $w$: total number of crew trainees that remain unassigned.\n",
        "\n",
        "The **optimization model**, formulated below in AMPL, follows [1] in most parts, while differs as follows:\n",
        "- The reverse expiration and seniority constraints are sublimated via a Preferential Bidding System (PBS)-style secondary objective function. It remains to be shown that minimizing the objective function `ReverseSeniority` provides constraints (8), (9), (22-25), and (26--29) from [1], as well as resolves the 'pitfall' from page 146.\n",
        "- The lexicographic approach for preference ranking by seniority is implemented via multiple objectives submitted to the solver in a single model.\n",
        "No variables are fixed while optimizing the different objectives."
      ]
    },
    {
      "cell_type": "markdown",
      "metadata": {},
      "source": [
        "## Test instance generation"
      ]
    },
    {
      "cell_type": "markdown",
      "metadata": {},
      "source": [
        "Define class `Instance` holding a problem instance."
      ]
    },
    {
      "cell_type": "code",
      "execution_count": 3,
      "metadata": {},
      "outputs": [],
      "source": [
        "class Instance:\n",
        "    def __init__(self):\n",
        "        ## Data arrays / matrices for all trainees\n",
        "        self.nT = 0\n",
        "        self.P = []\n",
        "        self.S = []\n",
        "        self.L = []\n",
        "        self.E = []\n",
        "        self.V = []\n",
        "        self.Pr = []\n",
        "        ## Capacity constraints\n",
        "        self.cap_kind = []\n",
        "        self.MAX = []\n",
        "        self.cap_plus_kind = []\n",
        "        self.cap_plus_which = []\n",
        "        self.MAXPlus = []"
      ]
    },
    {
      "cell_type": "markdown",
      "metadata": {},
      "source": [
        "Define class `InstGenParams` with instance generation papameters according to [1]."
      ]
    },
    {
      "cell_type": "code",
      "execution_count": 4,
      "metadata": {},
      "outputs": [],
      "source": [
        "import math\n",
        "\n",
        "class InstGenParams:\n",
        "    def __init__(self, N):\n",
        "        self.N = N\n",
        "        self.T = math.ceil(N/5)\n",
        "        ## Ranges and probabilities\n",
        "        self.position_kind = [\"CP\", \"FO\", \"PU\", \"FA\"]\n",
        "        self.position_prob = [0.25, 0.25, 0.25, 0.25]\n",
        "        self.language_prob = [0.5, 0.25, 0.25]\n",
        "        self.expiration_prob = [0.5, 0.25, 0.25]\n",
        "        self.N_sess_rng = [1, math.floor(self.T/2)]\n",
        "        self.pref_0 = 0.5\n",
        "        ## These are constant for all instances\n",
        "        self.cap_kind = [\"CP\", \"FO\", \"PU\", \"FA\"]\n",
        "        self.MAX = [4, 4, 4, 4]\n",
        "        self.cap_plus_kind = [\"All\", \"CK\", \"CB\"]\n",
        "        self.cap_plus_which = [[1, 2], [1, 2], [1, 3], [1, 3]]\n",
        "        self.MAXPlus = [10, 6, 6]"
      ]
    },
    {
      "cell_type": "markdown",
      "metadata": {},
      "source": [
        "Function to generate an instance."
      ]
    },
    {
      "cell_type": "code",
      "execution_count": 5,
      "metadata": {},
      "outputs": [],
      "source": [
        "import numpy as np\n",
        "import pandas as pd\n",
        "\n",
        "def GenInstance(genpar, rng):\n",
        "    inst = Instance()\n",
        "    inst.nT = genpar.T\n",
        "    inst.S = np.arange(genpar.N)              # Seniority 0..N-1\n",
        "    rng.shuffle(inst.S)\n",
        "    for itr in range(0, genpar.N):\n",
        "        inst.P.append(rng.choice(np.arange(1, len(genpar.position_prob)+1),  # 1-based\n",
        "                                 p=genpar.position_prob))\n",
        "        inst.L.append(rng.choice(len(genpar.language_prob), p=genpar.language_prob))\n",
        "        inst.E.append(rng.choice(len(genpar.expiration_prob), p=genpar.expiration_prob))\n",
        "        N_feas_sess = rng.integers(genpar.N_sess_rng[0], genpar.N_sess_rng[1]+1)\n",
        "        V = rng.choice(np.arange(1, genpar.T+1),                   # 1-based\n",
        "                       size=N_feas_sess, replace=False)\n",
        "        inst.V.append( V )\n",
        "        N_pr_0 = rng.binomial(N_feas_sess, genpar.pref_0)\n",
        "        PrByV = np.concatenate( (np.zeros(N_pr_0), np.arange(1, N_feas_sess-N_pr_0+1)) )\n",
        "        assert N_feas_sess == len(PrByV)\n",
        "        rng.shuffle(PrByV)\n",
        "        Pr = np.zeros(genpar.T)\n",
        "        for k, t in enumerate(V):\n",
        "            Pr[t-1] = PrByV[k]\n",
        "        inst.Pr.append( Pr )\n",
        "    # Capacities\n",
        "    inst.cap_kind = genpar.cap_kind\n",
        "    inst.MAX = genpar.MAX\n",
        "    inst.cap_plus_kind = genpar.cap_plus_kind\n",
        "    inst.cap_plus_which = genpar.cap_plus_which\n",
        "    inst.MAXPlus = genpar.MAXPlus\n",
        "    return inst"
      ]
    },
    {
      "cell_type": "markdown",
      "metadata": {},
      "source": [
        "Generate instance."
      ]
    },
    {
      "cell_type": "code",
      "execution_count": 6,
      "metadata": {},
      "outputs": [],
      "source": [
        "rng = np.random.default_rng(122807528840384100672342137672332424406)\n",
        "\n",
        "genpar = InstGenParams(200)             # With the Demo license, set up to 50\n",
        "inst = GenInstance(genpar, rng)"
      ]
    },
    {
      "cell_type": "markdown",
      "metadata": {},
      "source": [
        "## AMPL model"
      ]
    },
    {
      "cell_type": "markdown",
      "metadata": {},
      "source": [
        "The below model is saved to file `airtrainee.mod`."
      ]
    },
    {
      "cell_type": "code",
      "execution_count": 7,
      "metadata": {},
      "outputs": [
        {
          "name": "stdout",
          "output_type": "stream",
          "text": [
            "Overwriting airtrainee.mod\n"
          ]
        }
      ],
      "source": [
        "%%writefile airtrainee.mod\n",
        "\n",
        "set I;              # Trainees\n",
        "set T;              # Training sessions\n",
        "set V{I} in T;      # Valid sessions for each trainee\n",
        "set Pos;            # Positons\n",
        "set PosPlus;        # Meta-positions (e.g, All, Cockpit, Cabin)\n",
        "set MAXPlusWhich{Pos} in PosPlus;\n",
        "\n",
        "param P{I} in Pos;  # Trainee's position\n",
        "param S{I};         # Seniority (smaller value <=> higher seniority)\n",
        "param L{I};         # Language (0 - both, 1 or 2 - one only)\n",
        "param E{I};         # Expiration: 0 - this month, 1 - next month, 2 - in 2 months\n",
        "param Pr{I, T};     # Priority: 0 - not wanted, larger value <=> higher preference\n",
        "param MAX{Pos};     # Position capacity\n",
        "param MAXPlus{PosPlus};  # Aggregated capacities (All, CK, CB)\n",
        "\n",
        "var x{i in I, t in T} binary <= if t in V[i] then 1 else 0;\n",
        "var y{i in I} binary <= if E[i]>0 then 1 else 0;      # Trainee i unassigned\n",
        "var u{T} binary;    # 1 <=> language 1, 0 <=> language 2\n",
        "var w >=0;          # Number of unassigned trainees\n",
        "\n",
        "s.t. Assign_E0 {i in I: E[i]==0}:\n",
        "  sum {t in V[i]} x[i, t] == 1;\n",
        "\n",
        "s.t. Unassigned_E12 {i in I: E[i]>0}:\n",
        "  sum {t in V[i]} x[i, t] + y[i] == 1;\n",
        "\n",
        "s.t. Sum_Unassigned: w == sum {i in I: E[i]>0} y[i];\n",
        "\n",
        "s.t. Language_1 {t in T}:\n",
        "  u[t]<0.5 ==> sum {i in I: L[i]==1 and t in V[i]} x[i, t] <= 0;\n",
        "\n",
        "s.t. Language_2 {t in T}:\n",
        "  u[t]>=0.5 ==> sum {i in I: L[i]==2 and t in V[i]} x[i, t] <= 0;\n",
        "\n",
        "s.t. Capacity {p in Pos, t in T}:\n",
        "  sum {i in I: p==P[i] and t in V[i]} x[i, t] <= MAX[p];\n",
        "\n",
        "s.t. Capacity_Meta {p in PosPlus, t in T}:\n",
        "  sum {i in I: p in MAXPlusWhich[P[i]] and t in V[i]} x[i, t] <= MAXPlus[p];\n",
        "\n",
        "suffix objpriority;\n",
        "param S_range := max {i in I} S[i] - min {i in I} S[i];\n",
        "\n",
        "# The primary objective\n",
        "minimize Total_Unassigned: w suffix objpriority S_range + 2;\n",
        "# let Total_Unassigned.objpriority := card(I) + 2;\n",
        "\n",
        "# Trainee preferences, ranked by seniority\n",
        "set SenLevels := setof {i in I} S[i];\n",
        "param prefMax {i in I} := max {t in V[i]} Pr[i, t];\n",
        "minimize PrefsRanked {s in SenLevels}:\n",
        "  sum {i in I, t in T: s==S[i] and t in V[i]} (prefMax[i] - Pr[i, t])\n",
        "    suffix objpriority max {i in I} S[i] + 1 - s;\n",
        "\n",
        "# Reverse seniority constraints,\n",
        "# sublimated as a post-processing phase objective\n",
        "maximize ReverseSeniority:\n",
        "  sum {i in I, t in T: 0<E[i] and t in V[i] and 0==Pr[i, t]}\n",
        "    S[i] * x[i, t]\n",
        "    suffix objpriority 0;"
      ]
    },
    {
      "cell_type": "markdown",
      "metadata": {},
      "source": [
        "Function to pass an instance to the AMPL model."
      ]
    },
    {
      "cell_type": "code",
      "execution_count": 8,
      "metadata": {},
      "outputs": [],
      "source": [
        "def MakeAMPLInstance(inst):\n",
        "    ampl = AMPL()\n",
        "    ampl.read(\"airtrainee.mod\")\n",
        "    # Fill data\n",
        "    ampl.set[\"I\"] = np.arange(1, len(inst.P)+1)\n",
        "    ampl.set[\"T\"] = np.arange(1, inst.nT+1)\n",
        "    for i, vi in enumerate(inst.V):\n",
        "        ampl.set[\"V\"][i+1] = vi\n",
        "    ampl.set[\"Pos\"] = np.arange(1, len(genpar.position_prob)+1)\n",
        "    ampl.set[\"PosPlus\"] = np.arange(1, len(genpar.MAXPlus)+1)\n",
        "    for i, vi in enumerate(inst.cap_plus_which):\n",
        "        ampl.set[\"MAXPlusWhich\"][i+1] = vi\n",
        "    ampl.param[\"P\"] = inst.P\n",
        "    ampl.param[\"S\"] = inst.S\n",
        "    ampl.param[\"L\"] = inst.L\n",
        "    ampl.param[\"E\"] = inst.E\n",
        "    ampl.param[\"Pr\"] = pd.DataFrame(data = inst.Pr,\n",
        "                                    index = range(1, len(inst.P)+1),\n",
        "                                    columns = range(1, inst.nT+1))\n",
        "    ampl.param[\"MAX\"] = inst.MAX\n",
        "    ampl.param[\"MAXPlus\"] = inst.MAXPlus\n",
        "    \n",
        "    return ampl"
      ]
    },
    {
      "cell_type": "markdown",
      "metadata": {},
      "source": [
        "Solve the instance."
      ]
    },
    {
      "cell_type": "code",
      "execution_count": 9,
      "metadata": {},
      "outputs": [
        {
          "name": "stdout",
          "output_type": "stream",
          "text": [
            "Gurobi 11.0.1:   tech:outlev = 0\n",
            "  alg:iisfind = 1\n",
            "  obj:multi = 1\n",
            "  tech:timing = 1\n",
            "Gurobi 11.0.1: optimal solution; objective 0\n",
            "Individual objective values:\n",
            "\t_sobj[1] = 0\n",
            "\t_sobj[2] = 135\n",
            "\t_sobj[3] = 116\n",
            "\t_sobj[4] = 1\n",
            "\t_sobj[5] = 55\n",
            "\t_sobj[6] = 23\n",
            "\t_sobj[7] = 76\n",
            "\t_sobj[8] = 0\n",
            "\t_sobj[9] = 21\n",
            "\t_sobj[10] = 108\n",
            "\t_sobj[11] = 0\n",
            "\t_sobj[12] = 11\n",
            "\t_sobj[13] = 0\n",
            "\t_sobj[14] = 116\n",
            "\t_sobj[15] = 0\n",
            "\t_sobj[16] = 0\n",
            "\t_sobj[17] = 33\n",
            "\t_sobj[18] = 34\n",
            "\t_sobj[19] = 49\n",
            "\t_sobj[20] = 9\n",
            "\t_sobj[21] = 0\n",
            "\t_sobj[22] = 165\n",
            "\t_sobj[23] = 15\n",
            "\t_sobj[24] = 1\n",
            "\t_sobj[25] = 13\n",
            "\t_sobj[26] = 84\n",
            "\t_sobj[27] = 45\n",
            "\t_sobj[28] = 110\n",
            "\t_sobj[29] = 1\n",
            "\t_sobj[30] = 45\n",
            "\t_sobj[31] = 63\n",
            "\t_sobj[32] = 33\n",
            "\t_sobj[33] = 3\n",
            "\t_sobj[34] = 76\n",
            "\t_sobj[35] = 49\n",
            "\t_sobj[36] = 125\n",
            "\t_sobj[37] = 93\n",
            "\t_sobj[38] = 30\n",
            "\t_sobj[39] = 0\n",
            "\t_sobj[40] = 33\n",
            "\t_sobj[41] = 87\n",
            "\t_sobj[42] = 75\n",
            "\t_sobj[43] = 15\n",
            "\t_sobj[44] = 100\n",
            "\t_sobj[45] = 100\n",
            "\t_sobj[46] = 105\n",
            "\t_sobj[47] = 126\n",
            "\t_sobj[48] = 0\n",
            "\t_sobj[49] = 63\n",
            "\t_sobj[50] = 26\n",
            "\t_sobj[51] = 1\n",
            "\t_sobj[52] = 18\n",
            "\t_sobj[53] = 108\n",
            "\t_sobj[54] = 100\n",
            "\t_sobj[55] = 95\n",
            "\t_sobj[56] = 0\n",
            "\t_sobj[57] = 0\n",
            "\t_sobj[58] = 93\n",
            "\t_sobj[59] = 33\n",
            "\t_sobj[60] = 1\n",
            "\t_sobj[61] = 18\n",
            "\t_sobj[62] = 75\n",
            "\t_sobj[63] = 145\n",
            "\t_sobj[64] = 63\n",
            "\t_sobj[65] = 5\n",
            "\t_sobj[66] = 26\n",
            "\t_sobj[67] = 45\n",
            "\t_sobj[68] = 0\n",
            "\t_sobj[69] = 70\n",
            "\t_sobj[70] = 35\n",
            "\t_sobj[71] = 56\n",
            "\t_sobj[72] = 70\n",
            "\t_sobj[73] = 77\n",
            "\t_sobj[74] = 39\n",
            "\t_sobj[75] = 161\n",
            "\t_sobj[76] = 15\n",
            "\t_sobj[77] = 70\n",
            "\t_sobj[78] = 132\n",
            "\t_sobj[79] = 30\n",
            "\t_sobj[80] = 24\n",
            "\t_sobj[81] = 75\n",
            "\t_sobj[82] = 3\n",
            "\t_sobj[83] = 145\n",
            "\t_sobj[84] = 143\n",
            "\t_sobj[85] = 156\n",
            "\t_sobj[86] = 115\n",
            "\t_sobj[87] = 57\n",
            "\t_sobj[88] = 44\n",
            "\t_sobj[89] = 10\n",
            "\t_sobj[90] = 39\n",
            "\t_sobj[91] = 55\n",
            "\t_sobj[92] = 7\n",
            "\t_sobj[93] = 5\n",
            "\t_sobj[94] = 22\n",
            "\t_sobj[95] = 1\n",
            "\t_sobj[96] = 70\n",
            "\t_sobj[97] = 51\n",
            "\t_sobj[98] = 69\n",
            "\t_sobj[99] = 92\n",
            "\t_sobj[100] = 30\n",
            "\t_sobj[101] = 20\n",
            "\t_sobj[102] = 1\n",
            "\t_sobj[103] = 99\n",
            "\t_sobj[104] = 34\n",
            "\t_sobj[105] = 3\n",
            "\t_sobj[106] = 0\n",
            "\t_sobj[107] = 77\n",
            "\t_sobj[108] = 7\n",
            "\t_sobj[109] = 108\n",
            "\t_sobj[110] = 56\n",
            "\t_sobj[111] = 93\n",
            "\t_sobj[112] = 1\n",
            "\t_sobj[113] = 115\n",
            "\t_sobj[114] = 3\n",
            "\t_sobj[115] = 161\n",
            "\t_sobj[116] = 2\n",
            "\t_sobj[117] = 9\n",
            "\t_sobj[118] = 156\n",
            "\t_sobj[119] = 135\n",
            "\t_sobj[120] = 30\n",
            "\t_sobj[121] = 75\n",
            "\t_sobj[122] = 0\n",
            "\t_sobj[123] = 117\n",
            "\t_sobj[124] = 117\n",
            "\t_sobj[125] = 0\n",
            "\t_sobj[126] = 3\n",
            "\t_sobj[127] = 108\n",
            "\t_sobj[128] = 125\n",
            "\t_sobj[129] = 13\n",
            "\t_sobj[130] = 51\n",
            "\t_sobj[131] = 27\n",
            "\t_sobj[132] = 30\n",
            "\t_sobj[133] = 84\n",
            "\t_sobj[134] = 38\n",
            "\t_sobj[135] = 4\n",
            "\t_sobj[136] = 39\n",
            "\t_sobj[137] = 55\n",
            "\t_sobj[138] = 4\n",
            "\t_sobj[139] = 39\n",
            "\t_sobj[140] = 0\n",
            "\t_sobj[141] = 63\n",
            "\t_sobj[142] = 60\n",
            "\t_sobj[143] = 52\n",
            "\t_sobj[144] = 14\n",
            "\t_sobj[145] = 121\n",
            "\t_sobj[146] = 63\n",
            "\t_sobj[147] = 11\n",
            "\t_sobj[148] = 115\n",
            "\t_sobj[149] = 25\n",
            "\t_sobj[150] = 30\n",
            "\t_sobj[151] = 40\n",
            "\t_sobj[152] = 77\n",
            "\t_sobj[153] = 6\n",
            "\t_sobj[154] = 25\n",
            "\t_sobj[155] = 12\n",
            "\t_sobj[156] = 70\n",
            "\t_sobj[157] = 11\n",
            "\t_sobj[158] = 21\n",
            "\t_sobj[159] = 115\n",
            "\t_sobj[160] = 81\n",
            "\t_sobj[161] = 38\n",
            "\t_sobj[162] = 15\n",
            "\t_sobj[163] = 7\n",
            "\t_sobj[164] = 22\n",
            "\t_sobj[165] = 9\n",
            "\t_sobj[166] = 15\n",
            "\t_sobj[167] = 0\n",
            "\t_sobj[168] = 100\n",
            "\t_sobj[169] = 45\n",
            "\t_sobj[170] = 15\n",
            "\t_sobj[171] = 51\n",
            "\t_sobj[172] = 1\n",
            "\t_sobj[173] = 34\n",
            "\t_sobj[174] = 145\n",
            "\t_sobj[175] = 3\n",
            "\t_sobj[176] = 34\n",
            "\t_sobj[177] = 7\n",
            "\t_sobj[178] = 0\n",
            "\t_sobj[179] = 2\n",
            "\t_sobj[180] = 11\n",
            "\t_sobj[181] = 5\n",
            "\t_sobj[182] = 55\n",
            "\t_sobj[183] = 154\n",
            "\t_sobj[184] = 25\n",
            "\t_sobj[185] = 56\n",
            "\t_sobj[186] = 20\n",
            "\t_sobj[187] = 76\n",
            "\t_sobj[188] = 6\n",
            "\t_sobj[189] = 72\n",
            "\t_sobj[190] = 75\n",
            "\t_sobj[191] = 76\n",
            "\t_sobj[192] = 18\n",
            "\t_sobj[193] = 100\n",
            "\t_sobj[194] = 63\n",
            "\t_sobj[195] = 121\n",
            "\t_sobj[196] = 2\n",
            "\t_sobj[197] = 14\n",
            "\t_sobj[198] = 0\n",
            "\t_sobj[199] = 92\n",
            "\t_sobj[200] = 7\n",
            "\t_sobj[201] = 9\n",
            "\t_sobj[202] = 8396\n",
            "584 simplex iterations\n",
            "2 branching nodes\n",
            "Setup time = 0.010117s\n",
            "Solver time = 0.067801s\n",
            "Total time = 0.077924s\n",
            "\n",
            "suffix time OUT;\n",
            "suffix time_setup OUT;\n",
            "suffix time_solver OUT;\n",
            "Objective = Total_Unassigned\n"
          ]
        }
      ],
      "source": [
        "ampl = MakeAMPLInstance(inst)\n",
        "\n",
        "ampl.solve(solver=\"gurobi\", gurobi_options=\"outlev=0 iis=1 multiobj=1 tech:timing=1\")\n"
      ]
    },
    {
      "cell_type": "markdown",
      "metadata": {},
      "source": [
        "Display some results"
      ]
    },
    {
      "cell_type": "code",
      "execution_count": 10,
      "metadata": {},
      "outputs": [
        {
          "name": "stdout",
          "output_type": "stream",
          "text": [
            "PrefsRanked          =              0    1    2    3    4    5    6    7    8    9    ...  190  191  \\\n",
            "PrefsRanked    9    6   45   33    0   49    0   39   27   76  ...   30   95   \n",
            "\n",
            "             192  193  194  195  196  197  198  199  \n",
            "PrefsRanked  105   14    0   45  156    4   34   33  \n",
            "\n",
            "[1 rows x 200 columns]\n",
            "ReverseSeniority     =                      0\n",
            "ReverseSeniority  8396\n",
            "Total_Unassigned     =                   0\n",
            "Total_Unassigned  0\n"
          ]
        }
      ],
      "source": [
        "for obj in ampl.get_objectives():\n",
        "    print(\"{:20} = {}\".format(obj[0], obj[1].get_values().to_pandas().T))"
      ]
    },
    {
      "cell_type": "code",
      "execution_count": 11,
      "metadata": {},
      "outputs": [
        {
          "data": {
            "image/png": "[encoded data removed]",
            "text/plain": [
              "<Figure size 640x480 with 1 Axes>"
            ]
          },
          "metadata": {},
          "output_type": "display_data"
        }
      ],
      "source": [
        "import matplotlib.pyplot as plt \n",
        "  \n",
        "prefs = ampl.get_objective(\"PrefsRanked\").get_values().to_pandas()\n",
        "plot = prefs.plot(title=\"Ranked preferences\", xlabel=\"Seniority\")"
      ]
    },
    {
      "cell_type": "code",
      "execution_count": 12,
      "metadata": {},
      "outputs": [
        {
          "data": {
            "image/png": "[encoded data removed]",
            "text/plain": [
              "<Figure size 640x480 with 1 Axes>"
            ]
          },
          "metadata": {},
          "output_type": "display_data"
        }
      ],
      "source": [
        "x = ampl.get_variable(\"x\").get_values().to_pandas().unstack().T\n",
        "plt.imshow( x ) \n",
        "  \n",
        "plt.title( \"Schedule\" ) \n",
        "plt.xlabel( \"Trainees\" )\n",
        "plt.ylabel( \"Classes\" )\n",
        "plt.show() "
      ]
    },
    {
      "cell_type": "code",
      "execution_count": 13,
      "metadata": {},
      "outputs": [
        {
          "data": {
            "image/png": "[encoded data removed]",
            "text/plain": [
              "<Figure size 640x480 with 1 Axes>"
            ]
          },
          "metadata": {},
          "output_type": "display_data"
        }
      ],
      "source": [
        "cap = ampl.get_data(\"Capacity.slack\").to_pandas().unstack().T\n",
        "cap.columns = inst.cap_kind\n",
        "plot = cap.plot(title=\"Free capacity\", xlabel=\"Class slot\", kind=\"bar\", stacked=True)\n",
        "plt.show()"
      ]
    },
    {
      "cell_type": "code",
      "execution_count": 14,
      "metadata": {},
      "outputs": [
        {
          "data": {
            "image/png": "[encoded data removed]",
            "text/plain": [
              "<Figure size 640x480 with 1 Axes>"
            ]
          },
          "metadata": {},
          "output_type": "display_data"
        }
      ],
      "source": [
        "cap = ampl.get_data(\"Capacity_Meta.slack\").to_pandas().unstack().T\n",
        "cap.columns = inst.cap_plus_kind\n",
        "plot = cap.plot(title=\"Free group capacity\", xlabel=\"Class slot\", kind=\"bar\", stacked=True)\n",
        "plt.show()"
      ]
    },
    {
      "cell_type": "code",
      "execution_count": 15,
      "metadata": {},
      "outputs": [
        {
          "data": {
            "text/html": [
              "<div>\n",
              "<style scoped>\n",
              "    .dataframe tbody tr th:only-of-type {\n",
              "        vertical-align: middle;\n",
              "    }\n",
              "\n",
              "    .dataframe tbody tr th {\n",
              "        vertical-align: top;\n",
              "    }\n",
              "\n",
              "    .dataframe thead th {\n",
              "        text-align: right;\n",
              "    }\n",
              "</style>\n",
              "<table border=\"1\" class=\"dataframe\">\n",
              "  <thead>\n",
              "    <tr style=\"text-align: right;\">\n",
              "      <th></th>\n",
              "      <th>1</th>\n",
              "      <th>2</th>\n",
              "      <th>3</th>\n",
              "      <th>4</th>\n",
              "      <th>5</th>\n",
              "      <th>6</th>\n",
              "      <th>7</th>\n",
              "      <th>8</th>\n",
              "      <th>9</th>\n",
              "      <th>10</th>\n",
              "      <th>...</th>\n",
              "      <th>31</th>\n",
              "      <th>32</th>\n",
              "      <th>33</th>\n",
              "      <th>34</th>\n",
              "      <th>35</th>\n",
              "      <th>36</th>\n",
              "      <th>37</th>\n",
              "      <th>38</th>\n",
              "      <th>39</th>\n",
              "      <th>40</th>\n",
              "    </tr>\n",
              "  </thead>\n",
              "  <tbody>\n",
              "    <tr>\n",
              "      <th>u.val</th>\n",
              "      <td>1</td>\n",
              "      <td>0</td>\n",
              "      <td>1</td>\n",
              "      <td>0</td>\n",
              "      <td>0</td>\n",
              "      <td>0</td>\n",
              "      <td>0</td>\n",
              "      <td>1</td>\n",
              "      <td>0</td>\n",
              "      <td>0</td>\n",
              "      <td>...</td>\n",
              "      <td>1</td>\n",
              "      <td>1</td>\n",
              "      <td>0</td>\n",
              "      <td>0</td>\n",
              "      <td>1</td>\n",
              "      <td>0</td>\n",
              "      <td>1</td>\n",
              "      <td>0</td>\n",
              "      <td>0</td>\n",
              "      <td>1</td>\n",
              "    </tr>\n",
              "  </tbody>\n",
              "</table>\n",
              "<p>1 rows × 40 columns</p>\n",
              "</div>"
            ],
            "text/plain": [
              "       1   2   3   4   5   6   7   8   9   10  ...  31  32  33  34  35  36  \\\n",
              "u.val   1   0   1   0   0   0   0   1   0   0  ...   1   1   0   0   1   0   \n",
              "\n",
              "       37  38  39  40  \n",
              "u.val   1   0   0   1  \n",
              "\n",
              "[1 rows x 40 columns]"
            ]
          },
          "execution_count": 15,
          "metadata": {},
          "output_type": "execute_result"
        }
      ],
      "source": [
        "ampl.get_variable(\"u\").get_values().to_pandas().T   # Session language"
      ]
    },
    {
      "cell_type": "code",
      "execution_count": 16,
      "metadata": {},
      "outputs": [
        {
          "data": {
            "text/plain": [
              "1"
            ]
          },
          "execution_count": 16,
          "metadata": {},
          "output_type": "execute_result"
        }
      ],
      "source": [
        "min(ampl.get_data(\"Language_1\").to_pandas().T)      ## Minimal value of the logical constraints (1 when all true)"
      ]
    },
    {
      "cell_type": "code",
      "execution_count": 17,
      "metadata": {},
      "outputs": [
        {
          "data": {
            "text/plain": [
              "1"
            ]
          },
          "execution_count": 17,
          "metadata": {},
          "output_type": "execute_result"
        }
      ],
      "source": [
        "min(ampl.get_data(\"Language_2\").to_pandas().T)"
      ]
    }
  ],
  "metadata": {
    "colab": {
      "provenance": []
    },
    "kernelspec": {
      "display_name": "Python 3 (ipykernel)",
      "language": "python",
      "name": "python3"
    },
    "language_info": {
      "codemirror_mode": {
        "name": "ipython",
        "version": 3
      },
      "file_extension": ".py",
      "mimetype": "text/x-python",
      "name": "python",
      "nbconvert_exporter": "python",
      "pygments_lexer": "ipython3",
      "version": "3.9.6"
    },
    "vscode": {
      "interpreter": {
        "hash": "ee4198aac13dae9b6fccd443041680d99c2643c4956ef7c80ff6dcc0057cb523"
      }
    },
    "widgets": {
      "application/vnd.jupyter.widget-state+json": {
        "4510b5e780f24d44ace00a42c38cf6dc": {
          "model_module": "@jupyter-widgets/controls",
          "model_module_version": "1.5.0",
          "model_name": "ButtonStyleModel",
          "state": {
            "_model_module": "@jupyter-widgets/controls",
            "_model_module_version": "1.5.0",
            "_model_name": "ButtonStyleModel",
            "_view_count": null,
            "_view_module": "@jupyter-widgets/base",
            "_view_module_version": "1.2.0",
            "_view_name": "StyleView",
            "button_color": null,
            "font_weight": ""
          }
        },
        "45de4f35c7f04c37b87cad70c3e3b224": {
          "model_module": "@jupyter-widgets/base",
          "model_module_version": "1.2.0",
          "model_name": "LayoutModel",
          "state": {
            "_model_module": "@jupyter-widgets/base",
            "_model_module_version": "1.2.0",
            "_model_name": "LayoutModel",
            "_view_count": null,
            "_view_module": "@jupyter-widgets/base",
            "_view_module_version": "1.2.0",
            "_view_name": "LayoutView",
            "align_content": null,
            "align_items": null,
            "align_self": null,
            "border": null,
            "bottom": null,
            "display": null,
            "flex": null,
            "flex_flow": null,
            "grid_area": null,
            "grid_auto_columns": null,
            "grid_auto_flow": null,
            "grid_auto_rows": null,
            "grid_column": null,
            "grid_gap": null,
            "grid_row": null,
            "grid_template_areas": null,
            "grid_template_columns": null,
            "grid_template_rows": null,
            "height": null,
            "justify_content": null,
            "justify_items": null,
            "left": null,
            "margin": null,
            "max_height": null,
            "max_width": null,
            "min_height": null,
            "min_width": null,
            "object_fit": null,
            "object_position": null,
            "order": null,
            "overflow": null,
            "overflow_x": null,
            "overflow_y": null,
            "padding": null,
            "right": null,
            "top": null,
            "visibility": null,
            "width": null
          }
        },
        "4cfacef2f3e44067b81ac133fe17ae5b": {
          "model_module": "@jupyter-widgets/controls",
          "model_module_version": "1.5.0",
          "model_name": "DescriptionStyleModel",
          "state": {
            "_model_module": "@jupyter-widgets/controls",
            "_model_module_version": "1.5.0",
            "_model_name": "DescriptionStyleModel",
            "_view_count": null,
            "_view_module": "@jupyter-widgets/base",
            "_view_module_version": "1.2.0",
            "_view_name": "StyleView",
            "description_width": ""
          }
        },
        "59a30522756c4d668323600e0800a022": {
          "model_module": "@jupyter-widgets/base",
          "model_module_version": "1.2.0",
          "model_name": "LayoutModel",
          "state": {
            "_model_module": "@jupyter-widgets/base",
            "_model_module_version": "1.2.0",
            "_model_name": "LayoutModel",
            "_view_count": null,
            "_view_module": "@jupyter-widgets/base",
            "_view_module_version": "1.2.0",
            "_view_name": "LayoutView",
            "align_content": null,
            "align_items": null,
            "align_self": null,
            "border": null,
            "bottom": null,
            "display": null,
            "flex": null,
            "flex_flow": null,
            "grid_area": null,
            "grid_auto_columns": null,
            "grid_auto_flow": null,
            "grid_auto_rows": null,
            "grid_column": null,
            "grid_gap": null,
            "grid_row": null,
            "grid_template_areas": null,
            "grid_template_columns": null,
            "grid_template_rows": null,
            "height": null,
            "justify_content": null,
            "justify_items": null,
            "left": null,
            "margin": null,
            "max_height": null,
            "max_width": null,
            "min_height": null,
            "min_width": null,
            "object_fit": null,
            "object_position": null,
            "order": null,
            "overflow": null,
            "overflow_x": null,
            "overflow_y": null,
            "padding": null,
            "right": null,
            "top": null,
            "visibility": null,
            "width": null
          }
        },
        "5a786f2dd2584199a4001c8bebefd757": {
          "model_module": "@jupyter-widgets/controls",
          "model_module_version": "1.5.0",
          "model_name": "HBoxModel",
          "state": {
            "_dom_classes": [],
            "_model_module": "@jupyter-widgets/controls",
            "_model_module_version": "1.5.0",
            "_model_name": "HBoxModel",
            "_view_count": null,
            "_view_module": "@jupyter-widgets/controls",
            "_view_module_version": "1.5.0",
            "_view_name": "HBoxView",
            "box_style": "",
            "children": [
              "IPY_MODEL_de8c25d11df34ae2b86964266defdfdc",
              "IPY_MODEL_a1e4bcf9de474b4f835419c6278d4e42"
            ],
            "layout": "IPY_MODEL_45de4f35c7f04c37b87cad70c3e3b224"
          }
        },
        "5bec63a60fab4e628b18b6576859f23d": {
          "model_module": "@jupyter-widgets/base",
          "model_module_version": "1.2.0",
          "model_name": "LayoutModel",
          "state": {
            "_model_module": "@jupyter-widgets/base",
            "_model_module_version": "1.2.0",
            "_model_name": "LayoutModel",
            "_view_count": null,
            "_view_module": "@jupyter-widgets/base",
            "_view_module_version": "1.2.0",
            "_view_name": "LayoutView",
            "align_content": null,
            "align_items": null,
            "align_self": null,
            "border": null,
            "bottom": null,
            "display": null,
            "flex": null,
            "flex_flow": null,
            "grid_area": null,
            "grid_auto_columns": null,
            "grid_auto_flow": null,
            "grid_auto_rows": null,
            "grid_column": null,
            "grid_gap": null,
            "grid_row": null,
            "grid_template_areas": null,
            "grid_template_columns": null,
            "grid_template_rows": null,
            "height": null,
            "justify_content": null,
            "justify_items": null,
            "left": null,
            "margin": null,
            "max_height": null,
            "max_width": null,
            "min_height": null,
            "min_width": null,
            "object_fit": null,
            "object_position": null,
            "order": null,
            "overflow": null,
            "overflow_x": null,
            "overflow_y": null,
            "padding": null,
            "right": null,
            "top": null,
            "visibility": null,
            "width": null
          }
        },
        "5c52a4f288924ca8bbf5182a951af6a8": {
          "model_module": "@jupyter-widgets/controls",
          "model_module_version": "1.5.0",
          "model_name": "VBoxModel",
          "state": {
            "_dom_classes": [],
            "_model_module": "@jupyter-widgets/controls",
            "_model_module_version": "1.5.0",
            "_model_name": "VBoxModel",
            "_view_count": null,
            "_view_module": "@jupyter-widgets/controls",
            "_view_module_version": "1.5.0",
            "_view_name": "VBoxView",
            "box_style": "",
            "children": [
              "IPY_MODEL_5a786f2dd2584199a4001c8bebefd757",
              "IPY_MODEL_9a901424b8c04687b39b5e1251ee3919",
              "IPY_MODEL_fcf080abd68144728d12fa81f879d5d5"
            ],
            "layout": "IPY_MODEL_b2d8e84e2f6545bc98bbaf40294b9ad8"
          }
        },
        "9a901424b8c04687b39b5e1251ee3919": {
          "model_module": "@jupyter-widgets/output",
          "model_module_version": "1.0.0",
          "model_name": "OutputModel",
          "state": {
            "_dom_classes": [],
            "_model_module": "@jupyter-widgets/output",
            "_model_module_version": "1.0.0",
            "_model_name": "OutputModel",
            "_view_count": null,
            "_view_module": "@jupyter-widgets/output",
            "_view_module_version": "1.0.0",
            "_view_name": "OutputView",
            "layout": "IPY_MODEL_c9f8c186dbec4424895eb43630e458f2",
            "msg_id": "",
            "outputs": [
              {
                "name": "stdout",
                "output_type": "stream",
                "text": [
                  "Using existing license.\n"
                ]
              }
            ]
          }
        },
        "a0a3a52262a340debb5a29ce65170164": {
          "model_module": "@jupyter-widgets/base",
          "model_module_version": "1.2.0",
          "model_name": "LayoutModel",
          "state": {
            "_model_module": "@jupyter-widgets/base",
            "_model_module_version": "1.2.0",
            "_model_name": "LayoutModel",
            "_view_count": null,
            "_view_module": "@jupyter-widgets/base",
            "_view_module_version": "1.2.0",
            "_view_name": "LayoutView",
            "align_content": null,
            "align_items": null,
            "align_self": null,
            "border": null,
            "bottom": null,
            "display": null,
            "flex": null,
            "flex_flow": null,
            "grid_area": null,
            "grid_auto_columns": null,
            "grid_auto_flow": null,
            "grid_auto_rows": null,
            "grid_column": null,
            "grid_gap": null,
            "grid_row": null,
            "grid_template_areas": null,
            "grid_template_columns": null,
            "grid_template_rows": null,
            "height": null,
            "justify_content": null,
            "justify_items": null,
            "left": null,
            "margin": null,
            "max_height": null,
            "max_width": null,
            "min_height": null,
            "min_width": null,
            "object_fit": null,
            "object_position": null,
            "order": null,
            "overflow": null,
            "overflow_x": null,
            "overflow_y": null,
            "padding": null,
            "right": null,
            "top": null,
            "visibility": null,
            "width": null
          }
        },
        "a1e4bcf9de474b4f835419c6278d4e42": {
          "model_module": "@jupyter-widgets/controls",
          "model_module_version": "1.5.0",
          "model_name": "TextModel",
          "state": {
            "_dom_classes": [],
            "_model_module": "@jupyter-widgets/controls",
            "_model_module_version": "1.5.0",
            "_model_name": "TextModel",
            "_view_count": null,
            "_view_module": "@jupyter-widgets/controls",
            "_view_module_version": "1.5.0",
            "_view_name": "TextView",
            "continuous_update": true,
            "description": "UUID:",
            "description_tooltip": null,
            "disabled": false,
            "layout": "IPY_MODEL_5bec63a60fab4e628b18b6576859f23d",
            "placeholder": "​",
            "style": "IPY_MODEL_4cfacef2f3e44067b81ac133fe17ae5b",
            "value": ""
          }
        },
        "b2d8e84e2f6545bc98bbaf40294b9ad8": {
          "model_module": "@jupyter-widgets/base",
          "model_module_version": "1.2.0",
          "model_name": "LayoutModel",
          "state": {
            "_model_module": "@jupyter-widgets/base",
            "_model_module_version": "1.2.0",
            "_model_name": "LayoutModel",
            "_view_count": null,
            "_view_module": "@jupyter-widgets/base",
            "_view_module_version": "1.2.0",
            "_view_name": "LayoutView",
            "align_content": null,
            "align_items": null,
            "align_self": null,
            "border": null,
            "bottom": null,
            "display": null,
            "flex": null,
            "flex_flow": null,
            "grid_area": null,
            "grid_auto_columns": null,
            "grid_auto_flow": null,
            "grid_auto_rows": null,
            "grid_column": null,
            "grid_gap": null,
            "grid_row": null,
            "grid_template_areas": null,
            "grid_template_columns": null,
            "grid_template_rows": null,
            "height": null,
            "justify_content": null,
            "justify_items": null,
            "left": null,
            "margin": null,
            "max_height": null,
            "max_width": null,
            "min_height": null,
            "min_width": null,
            "object_fit": null,
            "object_position": null,
            "order": null,
            "overflow": null,
            "overflow_x": null,
            "overflow_y": null,
            "padding": null,
            "right": null,
            "top": null,
            "visibility": null,
            "width": null
          }
        },
        "c9f8c186dbec4424895eb43630e458f2": {
          "model_module": "@jupyter-widgets/base",
          "model_module_version": "1.2.0",
          "model_name": "LayoutModel",
          "state": {
            "_model_module": "@jupyter-widgets/base",
            "_model_module_version": "1.2.0",
            "_model_name": "LayoutModel",
            "_view_count": null,
            "_view_module": "@jupyter-widgets/base",
            "_view_module_version": "1.2.0",
            "_view_name": "LayoutView",
            "align_content": null,
            "align_items": null,
            "align_self": null,
            "border": null,
            "bottom": null,
            "display": null,
            "flex": null,
            "flex_flow": null,
            "grid_area": null,
            "grid_auto_columns": null,
            "grid_auto_flow": null,
            "grid_auto_rows": null,
            "grid_column": null,
            "grid_gap": null,
            "grid_row": null,
            "grid_template_areas": null,
            "grid_template_columns": null,
            "grid_template_rows": null,
            "height": null,
            "justify_content": null,
            "justify_items": null,
            "left": null,
            "margin": null,
            "max_height": null,
            "max_width": null,
            "min_height": null,
            "min_width": null,
            "object_fit": null,
            "object_position": null,
            "order": null,
            "overflow": null,
            "overflow_x": null,
            "overflow_y": null,
            "padding": null,
            "right": null,
            "top": null,
            "visibility": null,
            "width": null
          }
        },
        "de8c25d11df34ae2b86964266defdfdc": {
          "model_module": "@jupyter-widgets/controls",
          "model_module_version": "1.5.0",
          "model_name": "ButtonModel",
          "state": {
            "_dom_classes": [],
            "_model_module": "@jupyter-widgets/controls",
            "_model_module_version": "1.5.0",
            "_model_name": "ButtonModel",
            "_view_count": null,
            "_view_module": "@jupyter-widgets/controls",
            "_view_module_version": "1.5.0",
            "_view_name": "ButtonView",
            "button_style": "",
            "description": "Use existing license",
            "disabled": false,
            "icon": "",
            "layout": "IPY_MODEL_59a30522756c4d668323600e0800a022",
            "style": "IPY_MODEL_4510b5e780f24d44ace00a42c38cf6dc",
            "tooltip": ""
          }
        },
        "fcf080abd68144728d12fa81f879d5d5": {
          "model_module": "@jupyter-widgets/output",
          "model_module_version": "1.0.0",
          "model_name": "OutputModel",
          "state": {
            "_dom_classes": [],
            "_model_module": "@jupyter-widgets/output",
            "_model_module_version": "1.0.0",
            "_model_name": "OutputModel",
            "_view_count": null,
            "_view_module": "@jupyter-widgets/output",
            "_view_module_version": "1.0.0",
            "_view_name": "OutputView",
            "layout": "IPY_MODEL_a0a3a52262a340debb5a29ce65170164",
            "msg_id": "",
            "outputs": [
              {
                "name": "stdout",
                "output_type": "stream",
                "text": [
                  "Licensed to Default AMPL Community Edition License for the AMPL Model Colaboratory.\n"
                ]
              }
            ]
          }
        }
      }
    }
  },
  "nbformat": 4,
  "nbformat_minor": 4
}
