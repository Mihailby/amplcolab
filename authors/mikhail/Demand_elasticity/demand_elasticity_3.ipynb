{
  "cells": [
    {
      "cell_type": "markdown",
      "metadata": {
        "id": "7RjB1ipC7KbS"
      },
      "source": [
        "# Piecewise Linear Revenue Optimization Model\n",
        "\n",
        "[![Investment_project.ipynb](https://img.shields.io/badge/github-%23121011.svg?logo=github)](https://github.com/ampl/colab.ampl.com/blob/master/authors/mikhail/Demand_elasticity/demand_elasticity_3.ipynb) [![Open In Colab](https://colab.research.google.com/assets/colab-badge.svg)](https://colab.research.google.com/github/ampl/colab.ampl.com/blob/master/authors/mikhail/Demand_elasticity/demand_elasticity_3.ipynb) [![Kaggle](https://kaggle.com/static/images/open-in-kaggle.svg)](https://kaggle.com/kernels/welcome?src=https://github.com/ampl/colab.ampl.com/blob/master/authors/mikhail/Demand_elasticity/demand_elasticity_3.ipynb) [![Gradient](https://assets.paperspace.io/img/gradient-badge.svg)](https://console.paperspace.com/github/ampl/colab.ampl.com/blob/master/authors/mikhail/Demand_elasticity/demand_elasticity_3.ipynb) [![Open In SageMaker Studio Lab](https://studiolab.sagemaker.aws/studiolab.svg)](https://studiolab.sagemaker.aws/import/github/ampl/colab.ampl.com/blob/master/authors/mikhail/Demand_elasticity/demand_elasticity_3.ipynb) [![Hits](https://h.ampl.com/https://github.com/ampl/colab.ampl.com/blob/master/authors/mikhail/Demand_elasticity/demand_elasticity_3.ipynb)](https://colab.ampl.com)\n",
        "\n",
        "This model is designed for businesses seeking to determine optimal pricing and sales quantities under inventory and demand constraints. By leveraging piecewise linear pricing, it provides a flexible approach to maximize revenue while balancing supply and customer demand dynamics.\n",
        "\n",
        "[*Partner with the AMPL team to transform complex problems into optimized solutions. AMPL consulting services combine deep technical knowledge with industry-leading insights, helping you unlock the full potential of optimization within your organization.*](https://ampl.com/services/)\n",
        "\n",
        "Tags: Lessons, ampl, MIP, \n",
        "\n",
        "Notebook author: Mikhail Riabtsev <<mail@solverytic.com>>\n",
        "***"
      ]
    },
    {
      "cell_type": "markdown",
      "metadata": {},
      "source": [
        "# 1. Download Necessary Extensions and Libraries"
      ]
    },
    {
      "cell_type": "code",
      "execution_count": 9,
      "metadata": {},
      "outputs": [
        {
          "name": "stdout",
          "output_type": "stream",
          "text": [
            "Note: you may need to restart the kernel to use updated packages.\n"
          ]
        }
      ],
      "source": [
        "# Install dependencies\n",
        "%pip install -q amplpy pandas\n",
        "import pandas as pd                 # Loading panda to work with pandas.DataFrame objects (https://pandas.pydata.org/)\n",
        "import numpy as np                  # Loading numpy to perform multidimensional calculations numpy.matrix (https://numpy.org/)"
      ]
    },
    {
      "cell_type": "code",
      "execution_count": 10,
      "metadata": {},
      "outputs": [
        {
          "data": {
            "text/plain": [
              "'# Google Colab & Kaggle integration\\nfrom amplpy import AMPL, ampl_notebook\\n\\nampl = ampl_notebook(\\n    modules=[\"cbc\", \"highs\", \"gurobi\"],  # modules to install\\n    license_uuid=\"default\",  # license to use\\n)  # instantiate AMPL object and register magics'"
            ]
          },
          "execution_count": 10,
          "metadata": {},
          "output_type": "execute_result"
        }
      ],
      "source": [
        "'''# Google Colab & Kaggle integration\n",
        "from amplpy import AMPL, ampl_notebook\n",
        "\n",
        "ampl = ampl_notebook(\n",
        "    modules=[\"cbc\", \"highs\", \"gurobi\"],  # modules to install\n",
        "    license_uuid=\"default\",  # license to use\n",
        ")  # instantiate AMPL object and register magics'''"
      ]
    },
    {
      "cell_type": "code",
      "execution_count": 11,
      "metadata": {},
      "outputs": [],
      "source": [
        "from amplpy import AMPL\n",
        "ampl = AMPL()                       # create a new AMPL object with all default settings"
      ]
    },
    {
      "cell_type": "markdown",
      "metadata": {},
      "source": [
        "# 2. Model description\n",
        "\n",
        "This model optimizes revenue from the sale of a product using a piecewise linear price-demand function. The goal is to determine the optimal pricing strategy and corresponding quantity sold at each price step to maximize total revenue while adhering to constraints on available inventory and demand.\n",
        "\n",
        "## Model Components\n",
        "\n",
        "### Parameters\n",
        "\n",
        "- $total\\_Quantity$: The total quantity of the product available for sale (≥0).\n",
        "- $unit\\_Cost$: The unit cost of the product (≥0).\n",
        "- $nStep$: The number of price steps in the piecewise price-demand function (≥1).\n",
        "- $demand[i]$: The maximum demand for the product at the i-th price step (≥0).\n",
        "- $price[i]$: The price corresponding to the i-th price step (≥0).\n",
        "\n",
        "### Decision Variables\n",
        "\n",
        "- $Quantity\\_Sold[i]$: The quantity of the product sold at the i-th price step (≥0).\n",
        "- $Price\\_Selected[i]$: Binary variable indicating whether the i-th price step is selected (1 if selected, 0 otherwise).\n",
        "\n",
        "### Objective Function\n",
        "\n",
        "-  ***Maximize Total Revenue***: The model maximizes revenue by summing the product of the quantity sold at each step and the corresponding price adjusted for unit cost.\n",
        "\n",
        "### Constraints\n",
        "- ***Single Price Step Selection***:\n",
        "Ensures that only one price step is selected:\n",
        "\n",
        "   $\\sum_{i=1}^{nStep} {Price\\_Selected}[i] = 1$\n",
        "\n",
        "- ***Total Quantity Constraint***:\n",
        "\n",
        "   Ensures that the total quantity sold does not exceed the available inventory:\n",
        "\n",
        "   $\\sum_{i=1}^{nStep} {Quantity\\_Sold}[i] \\leq {total\\_Quantity}$\n",
        "\n",
        "- ***Price Step Demand Limit***:\n",
        "\n",
        "   Restricts the quantity sold at each price step to the corresponding demand level if the price step is selected:\n",
        "\n",
        "   $Quantity\\_Sold[i] \\leq {demand}[i] \\cdot \\text{Price\\_Selected}[i], \\quad \\forall i \\in \\{1, \\ldots, \\text{nStep}\\}$"
      ]
    },
    {
      "cell_type": "markdown",
      "metadata": {},
      "source": [
        "# 3. AMPL Model Formulation"
      ]
    },
    {
      "cell_type": "code",
      "execution_count": 12,
      "metadata": {},
      "outputs": [
        {
          "name": "stdout",
          "output_type": "stream",
          "text": [
            "Overwriting demand_elasticity_3_model.mod\n"
          ]
        }
      ],
      "source": [
        "%%writefile demand_elasticity_3_model.mod\n",
        "reset;\n",
        "### PARAMETERS\n",
        "param total_Quantity >= 0;              # Total quantity of products available for sale\n",
        "param unit_Cost >= 0;                   # Unit cost of the product\n",
        "\n",
        "param nStep integer >= 1;               # Number of steps in the piecewise linear price function\n",
        "param demand {1..nStep+1} >= 0;         # Demand values at each step\n",
        "param price {1..nStep+1} >= 0;          # Price for each step\n",
        "\n",
        "\n",
        "### VARIABLES\n",
        "var Quantity_Sold {1..nStep} >= 0;      # Quantity sold at each price step\n",
        "var Price_Selected {1..nStep} binary;   # Binary variable indicating whether the price step is selected\n",
        "\n",
        "\n",
        "### OBJECTIVE\n",
        "maximize Total_Revenue:                 # Maximize total revenue (profit from sales)\n",
        "    sum {i in 1..nStep} \n",
        "    <<demand[i]; {p in i..i+1} price[p] \n",
        "    - unit_Cost>> Quantity_Sold[i];     # Here we use a piecewise linear function for a limited range i..i+1\n",
        "\n",
        "\n",
        "### CONSTRAINTS\n",
        "s.t. Single_Price:                      # Only one price step can be selected\n",
        "    sum {i in 1..nStep} Price_Selected[i] = 1;\n",
        "\n",
        "s.t. Quantity_Limit:                    # The total quantity sold cannot exceed available quantity\n",
        "    sum {i in 1..nStep} Quantity_Sold[i] <= total_Quantity;\n",
        "\n",
        "s.t. Price_Upper_Bound {i in 1..nStep}: # Quantity sold cannot exceed upper price step\n",
        "    Quantity_Sold[i] <= demand[i] * Price_Selected[i];"
      ]
    },
    {
      "cell_type": "markdown",
      "metadata": {},
      "source": [
        "# 4. Load data"
      ]
    },
    {
      "cell_type": "code",
      "execution_count": 13,
      "metadata": {},
      "outputs": [],
      "source": [
        "ampl.read('demand_elasticity_3_model.mod')                        # Load the AMPL model from the file\n",
        "\n",
        "# Set global parameters for the model\n",
        "ampl.param['total_Quantity'] = 600                                # Total available quantity for sale\n",
        "ampl.param['unit_Cost'] = 2                                       # Unit cost of the product\n",
        "ampl.param['nStep'] = 13                                          # Number of price steps\n",
        "\n",
        "# Define the data points as (demand, price) pairs for each step\n",
        "data = {\n",
        "   1: (0, 10), \n",
        "   2: (1, 8), \n",
        "   3: (5, 7.5),\n",
        "   4: (10, 7),\n",
        "   5: (15, 6.5),\n",
        "   6: (30, 6),\n",
        "   7: (60, 5.5),\n",
        "   8: (100, 5),\n",
        "   9: (150, 4.5),\n",
        "   10: (200, 4),\n",
        "   11: (240, 3.5),\n",
        "   12: (270, 3),\n",
        "   13: (280, 2.5),\n",
        "   14: (290, 2)}\n",
        "\n",
        "# Set the demand and price parameters in AMPL\n",
        "demand_param = ampl.getParameter(\"demand\")                        # Get the 'demand' parameter\n",
        "price_param = ampl.getParameter(\"price\")                          # Get the 'price' parameter\n",
        "for i, (demand_value, price_value) in data.items():               # Loop through data points\n",
        "    demand_param.set(i, demand_value)                             # Assign demand value to each step\n",
        "    price_param.set(i, price_value)                               # Assign price value to each step"
      ]
    },
    {
      "cell_type": "markdown",
      "metadata": {},
      "source": [
        "# 5. Solve problem"
      ]
    },
    {
      "cell_type": "code",
      "execution_count": 14,
      "metadata": {},
      "outputs": [],
      "source": [
        "# Set the solver type for use in solving the problems\n",
        "solver = 'cplex'  # Use CBC solver for optimization tasks\n",
        "\n",
        "ampl.option['show_stats'] = 0 # Show problem size statistics (default: 0)\n",
        "ampl.option['display_1col'] = 0 # Disable single-column data display\n",
        "#ampl.option['omit_zero_rows'] = 1 # Hide rows with zero values\n",
        "#ampl.option['omit_zero_cols'] = 1 # Hide columns with zero values\n",
        "ampl.option['mp_options'] = 'outlev=1 lim:time=20'   # Configure CBC options (output level and time limit)\n",
        "\n",
        "ampl.solve(solver=solver, verbose=False)   # Solve the optimization problem using CBC solver  "
      ]
    },
    {
      "cell_type": "markdown",
      "metadata": {},
      "source": [
        "## 6. Display results"
      ]
    },
    {
      "cell_type": "code",
      "execution_count": 15,
      "metadata": {},
      "outputs": [
        {
          "name": "stdout",
          "output_type": "stream",
          "text": [
            ":          _varname        _var _var.lb   _var.ub  _var.rc _var.slack    :=\n",
            "1    'Quantity_Sold[1]'       0     0            0     0         0\n",
            "2    'Quantity_Sold[2]'       0     0     Infinity    -6         0\n",
            "3    'Quantity_Sold[3]'       0     0     Infinity    -5.5       0\n",
            "4    'Quantity_Sold[4]'       0     0     Infinity    -5         0\n",
            "5    'Quantity_Sold[5]'       0     0     Infinity    -4.5       0\n",
            "6    'Quantity_Sold[6]'       0     0     Infinity    -4         0\n",
            "7    'Quantity_Sold[7]'       0     0     Infinity    -3.5       0\n",
            "8    'Quantity_Sold[8]'       0     0     Infinity    -3         0\n",
            "9    'Quantity_Sold[9]'       0     0     Infinity    -2.5       0\n",
            "10   'Quantity_Sold[10]'    200     0     Infinity    -2       200\n",
            "11   'Quantity_Sold[11]'      0     0     Infinity    -1.5       0\n",
            "12   'Quantity_Sold[12]'      0     0     Infinity    -1         0\n",
            "13   'Quantity_Sold[13]'      0     0     Infinity    -0.5       0\n",
            "14   'Price_Selected[1]'      0     0            1     0         0\n",
            "15   'Price_Selected[2]'      0     0            1     6         0\n",
            "16   'Price_Selected[3]'      0     0            1    27.5       0\n",
            "17   'Price_Selected[4]'      0     0            1    50         0\n",
            "18   'Price_Selected[5]'      0     0            1    67.5       0\n",
            "19   'Price_Selected[6]'      0     0            1   120         0\n",
            "20   'Price_Selected[7]'      0     0            1   210         0\n",
            "21   'Price_Selected[8]'      0     0            1   300         0\n",
            "22   'Price_Selected[9]'      0     0            1   375         0\n",
            "23   'Price_Selected[10]'     1     0            1   400         0\n",
            "24   'Price_Selected[11]'     0     0            1   360         0\n",
            "25   'Price_Selected[12]'     0     0            1   270         0\n",
            "26   'Price_Selected[13]'     0     0            1   140         0\n",
            ";\n",
            "\n",
            ":           _conname          _con _con.body    _con.lb  _con.ub _con.slack\n",
            " :=\n",
            "1    Single_Price              0         1             1      1        0\n",
            "2    Quantity_Limit            0       200     -Infinity    600      400\n",
            "3    'Price_Upper_Bound[1]'    0         0     -Infinity      0        0\n",
            "4    'Price_Upper_Bound[2]'    6         0     -Infinity      0        0\n",
            "5    'Price_Upper_Bound[3]'    5.5       0     -Infinity      0        0\n",
            "6    'Price_Upper_Bound[4]'    5         0     -Infinity      0        0\n",
            "7    'Price_Upper_Bound[5]'    4.5       0     -Infinity      0        0\n",
            "8    'Price_Upper_Bound[6]'    4         0     -Infinity      0        0\n",
            "9    'Price_Upper_Bound[7]'    3.5       0     -Infinity      0        0\n",
            "10   'Price_Upper_Bound[8]'    3         0     -Infinity      0        0\n",
            "11   'Price_Upper_Bound[9]'    2.5       0     -Infinity      0        0\n",
            "12   'Price_Upper_Bound[10]'   2         0     -Infinity      0        0\n",
            "13   'Price_Upper_Bound[11]'   1.5       0     -Infinity      0        0\n",
            "14   'Price_Upper_Bound[12]'   1         0     -Infinity      0        0\n",
            "15   'Price_Upper_Bound[13]'   0.5       0     -Infinity      0        0\n",
            ";\n",
            "\n",
            ":     _objname     _obj    :=\n",
            "1   Total_Revenue   400\n",
            ";\n",
            "\n"
          ]
        }
      ],
      "source": [
        "# Display results for key variables\n",
        "ampl.display('_varname', '_var', '_var.lb', '_var.ub', '_var.rc', '_var.slack')\n",
        "ampl.display('_conname', '_con', '_con.body', '_con.lb', '_con.ub', '_con.slack')\n",
        "ampl.display('_objname', '_obj')"
      ]
    },
    {
      "cell_type": "markdown",
      "metadata": {},
      "source": [
        "# 7. Retrieve solution in Python"
      ]
    },
    {
      "cell_type": "code",
      "execution_count": 16,
      "metadata": {},
      "outputs": [
        {
          "name": "stdout",
          "output_type": "stream",
          "text": [
            "    Quantity_Sold.val\n",
            "10                200\n"
          ]
        }
      ],
      "source": [
        "# Initialize an empty dictionary to store AMPL variable data\n",
        "amplvar = dict()\n",
        "\n",
        "# Prepare a list of AMPL variables\n",
        "list_of_ampl_variables = [item[0] for item in ampl.get_variables()]\n",
        "\n",
        "# Iterate over each variable name in the list\n",
        "for key_ampl in list_of_ampl_variables:\n",
        "    # Skip certain variables that are not to be processed (these variables won't be included in the output)\n",
        "    if key_ampl not in ['']:\n",
        "        # Convert the AMPL variable data to a pandas DataFrame\n",
        "        df = ampl.var[key_ampl].to_pandas()\n",
        "        # Filter the DataFrame to include only rows where the variable's value is greater than a small threshold (1e-5)\n",
        "        filtered_df = df[df[f\"{key_ampl}.val\"] > 1e-5]\n",
        "        # Round the values in the DataFrame to two decimal places\n",
        "        rounded_df = filtered_df.round(2)\n",
        "        # Convert the filtered DataFrame to a dictionary and add it to the amplvar dictionary\n",
        "        amplvar[key_ampl] = rounded_df #.to_dict(orient='records')\n",
        "print (amplvar[key_ampl])"
      ]
    }
  ],
  "metadata": {
    "colab": {
      "provenance": []
    },
    "kernelspec": {
      "display_name": "Python 3",
      "language": "python",
      "name": "python3"
    },
    "language_info": {
      "codemirror_mode": {
        "name": "ipython",
        "version": 3
      },
      "file_extension": ".py",
      "mimetype": "text/x-python",
      "name": "python",
      "nbconvert_exporter": "python",
      "pygments_lexer": "ipython3",
      "version": "3.12.5"
    },
    "widgets": {
      "application/vnd.jupyter.widget-state+json": {
        "056f1660a7d047b2a5462fae0a458c46": {
          "model_module": "@jupyter-widgets/output",
          "model_module_version": "1.0.0",
          "model_name": "OutputModel",
          "state": {
            "_dom_classes": [],
            "_model_module": "@jupyter-widgets/output",
            "_model_module_version": "1.0.0",
            "_model_name": "OutputModel",
            "_view_count": null,
            "_view_module": "@jupyter-widgets/output",
            "_view_module_version": "1.0.0",
            "_view_name": "OutputView",
            "layout": "IPY_MODEL_84b27f894fed4369a4eef2034fbe31b3",
            "msg_id": "",
            "outputs": [
              {
                "name": "stdout",
                "output_type": "stream",
                "text": [
                  "AMPL License UUID (you can use free https://ampl.com/ce or https://ampl.com/courses licenses):\n"
                ]
              }
            ]
          }
        },
        "22e725d8437b4d3fb97758ef7ad05fea": {
          "model_module": "@jupyter-widgets/output",
          "model_module_version": "1.0.0",
          "model_name": "OutputModel",
          "state": {
            "_dom_classes": [],
            "_model_module": "@jupyter-widgets/output",
            "_model_module_version": "1.0.0",
            "_model_name": "OutputModel",
            "_view_count": null,
            "_view_module": "@jupyter-widgets/output",
            "_view_module_version": "1.0.0",
            "_view_name": "OutputView",
            "layout": "IPY_MODEL_5eabe03160684b70b3605101c789e14f",
            "msg_id": "",
            "outputs": []
          }
        },
        "23be63195d4c45ea8bb2aa657b1e2312": {
          "model_module": "@jupyter-widgets/controls",
          "model_module_version": "1.5.0",
          "model_name": "TextModel",
          "state": {
            "_dom_classes": [],
            "_model_module": "@jupyter-widgets/controls",
            "_model_module_version": "1.5.0",
            "_model_name": "TextModel",
            "_view_count": null,
            "_view_module": "@jupyter-widgets/controls",
            "_view_module_version": "1.5.0",
            "_view_name": "TextView",
            "continuous_update": true,
            "description": "License UUID:",
            "description_tooltip": null,
            "disabled": false,
            "layout": "IPY_MODEL_91577267a4c9421b9910f43ae01abf1c",
            "placeholder": "​",
            "style": "IPY_MODEL_ed0ce2d62cde45b0b3036cddb0951655",
            "value": ""
          }
        },
        "5eabe03160684b70b3605101c789e14f": {
          "model_module": "@jupyter-widgets/base",
          "model_module_version": "1.2.0",
          "model_name": "LayoutModel",
          "state": {
            "_model_module": "@jupyter-widgets/base",
            "_model_module_version": "1.2.0",
            "_model_name": "LayoutModel",
            "_view_count": null,
            "_view_module": "@jupyter-widgets/base",
            "_view_module_version": "1.2.0",
            "_view_name": "LayoutView",
            "align_content": null,
            "align_items": null,
            "align_self": null,
            "border": null,
            "bottom": null,
            "display": null,
            "flex": null,
            "flex_flow": null,
            "grid_area": null,
            "grid_auto_columns": null,
            "grid_auto_flow": null,
            "grid_auto_rows": null,
            "grid_column": null,
            "grid_gap": null,
            "grid_row": null,
            "grid_template_areas": null,
            "grid_template_columns": null,
            "grid_template_rows": null,
            "height": null,
            "justify_content": null,
            "justify_items": null,
            "left": null,
            "margin": null,
            "max_height": null,
            "max_width": null,
            "min_height": null,
            "min_width": null,
            "object_fit": null,
            "object_position": null,
            "order": null,
            "overflow": null,
            "overflow_x": null,
            "overflow_y": null,
            "padding": null,
            "right": null,
            "top": null,
            "visibility": null,
            "width": null
          }
        },
        "6b3c2325c2824a0aa00cb18f163be220": {
          "model_module": "@jupyter-widgets/base",
          "model_module_version": "1.2.0",
          "model_name": "LayoutModel",
          "state": {
            "_model_module": "@jupyter-widgets/base",
            "_model_module_version": "1.2.0",
            "_model_name": "LayoutModel",
            "_view_count": null,
            "_view_module": "@jupyter-widgets/base",
            "_view_module_version": "1.2.0",
            "_view_name": "LayoutView",
            "align_content": null,
            "align_items": null,
            "align_self": null,
            "border": null,
            "bottom": null,
            "display": null,
            "flex": null,
            "flex_flow": null,
            "grid_area": null,
            "grid_auto_columns": null,
            "grid_auto_flow": null,
            "grid_auto_rows": null,
            "grid_column": null,
            "grid_gap": null,
            "grid_row": null,
            "grid_template_areas": null,
            "grid_template_columns": null,
            "grid_template_rows": null,
            "height": null,
            "justify_content": null,
            "justify_items": null,
            "left": null,
            "margin": null,
            "max_height": null,
            "max_width": null,
            "min_height": null,
            "min_width": null,
            "object_fit": null,
            "object_position": null,
            "order": null,
            "overflow": null,
            "overflow_x": null,
            "overflow_y": null,
            "padding": null,
            "right": null,
            "top": null,
            "visibility": null,
            "width": null
          }
        },
        "84b27f894fed4369a4eef2034fbe31b3": {
          "model_module": "@jupyter-widgets/base",
          "model_module_version": "1.2.0",
          "model_name": "LayoutModel",
          "state": {
            "_model_module": "@jupyter-widgets/base",
            "_model_module_version": "1.2.0",
            "_model_name": "LayoutModel",
            "_view_count": null,
            "_view_module": "@jupyter-widgets/base",
            "_view_module_version": "1.2.0",
            "_view_name": "LayoutView",
            "align_content": null,
            "align_items": null,
            "align_self": null,
            "border": null,
            "bottom": null,
            "display": null,
            "flex": null,
            "flex_flow": null,
            "grid_area": null,
            "grid_auto_columns": null,
            "grid_auto_flow": null,
            "grid_auto_rows": null,
            "grid_column": null,
            "grid_gap": null,
            "grid_row": null,
            "grid_template_areas": null,
            "grid_template_columns": null,
            "grid_template_rows": null,
            "height": null,
            "justify_content": null,
            "justify_items": null,
            "left": null,
            "margin": null,
            "max_height": null,
            "max_width": null,
            "min_height": null,
            "min_width": null,
            "object_fit": null,
            "object_position": null,
            "order": null,
            "overflow": null,
            "overflow_x": null,
            "overflow_y": null,
            "padding": null,
            "right": null,
            "top": null,
            "visibility": null,
            "width": null
          }
        },
        "91577267a4c9421b9910f43ae01abf1c": {
          "model_module": "@jupyter-widgets/base",
          "model_module_version": "1.2.0",
          "model_name": "LayoutModel",
          "state": {
            "_model_module": "@jupyter-widgets/base",
            "_model_module_version": "1.2.0",
            "_model_name": "LayoutModel",
            "_view_count": null,
            "_view_module": "@jupyter-widgets/base",
            "_view_module_version": "1.2.0",
            "_view_name": "LayoutView",
            "align_content": null,
            "align_items": null,
            "align_self": null,
            "border": null,
            "bottom": null,
            "display": null,
            "flex": null,
            "flex_flow": null,
            "grid_area": null,
            "grid_auto_columns": null,
            "grid_auto_flow": null,
            "grid_auto_rows": null,
            "grid_column": null,
            "grid_gap": null,
            "grid_row": null,
            "grid_template_areas": null,
            "grid_template_columns": null,
            "grid_template_rows": null,
            "height": null,
            "justify_content": null,
            "justify_items": null,
            "left": null,
            "margin": null,
            "max_height": null,
            "max_width": null,
            "min_height": null,
            "min_width": null,
            "object_fit": null,
            "object_position": null,
            "order": null,
            "overflow": null,
            "overflow_x": null,
            "overflow_y": null,
            "padding": null,
            "right": null,
            "top": null,
            "visibility": null,
            "width": null
          }
        },
        "9b984adffdda404e9e60862fbf27daab": {
          "model_module": "@jupyter-widgets/controls",
          "model_module_version": "1.5.0",
          "model_name": "VBoxModel",
          "state": {
            "_dom_classes": [],
            "_model_module": "@jupyter-widgets/controls",
            "_model_module_version": "1.5.0",
            "_model_name": "VBoxModel",
            "_view_count": null,
            "_view_module": "@jupyter-widgets/controls",
            "_view_module_version": "1.5.0",
            "_view_name": "VBoxView",
            "box_style": "",
            "children": [
              "IPY_MODEL_056f1660a7d047b2a5462fae0a458c46",
              "IPY_MODEL_9ff9e8a526424ff38a26f009d31593fd",
              "IPY_MODEL_22e725d8437b4d3fb97758ef7ad05fea",
              "IPY_MODEL_9efeb0f357954178a4001ce850eb20a3"
            ],
            "layout": "IPY_MODEL_6b3c2325c2824a0aa00cb18f163be220"
          }
        },
        "9efeb0f357954178a4001ce850eb20a3": {
          "model_module": "@jupyter-widgets/output",
          "model_module_version": "1.0.0",
          "model_name": "OutputModel",
          "state": {
            "_dom_classes": [],
            "_model_module": "@jupyter-widgets/output",
            "_model_module_version": "1.0.0",
            "_model_name": "OutputModel",
            "_view_count": null,
            "_view_module": "@jupyter-widgets/output",
            "_view_module_version": "1.0.0",
            "_view_name": "OutputView",
            "layout": "IPY_MODEL_b671885e2aab4ca0902eca16ce038a5a",
            "msg_id": "",
            "outputs": [
              {
                "name": "stdout",
                "output_type": "stream",
                "text": [
                  "Licensed to AMPL Community Edition License for the AMPL Model Colaboratory (https://ampl.com/colab).\n"
                ]
              }
            ]
          }
        },
        "9ff9e8a526424ff38a26f009d31593fd": {
          "model_module": "@jupyter-widgets/controls",
          "model_module_version": "1.5.0",
          "model_name": "HBoxModel",
          "state": {
            "_dom_classes": [],
            "_model_module": "@jupyter-widgets/controls",
            "_model_module_version": "1.5.0",
            "_model_name": "HBoxModel",
            "_view_count": null,
            "_view_module": "@jupyter-widgets/controls",
            "_view_module_version": "1.5.0",
            "_view_name": "HBoxView",
            "box_style": "",
            "children": [
              "IPY_MODEL_23be63195d4c45ea8bb2aa657b1e2312"
            ],
            "layout": "IPY_MODEL_b3855f2ba3d446d6a9d75bde3f50678d"
          }
        },
        "b3855f2ba3d446d6a9d75bde3f50678d": {
          "model_module": "@jupyter-widgets/base",
          "model_module_version": "1.2.0",
          "model_name": "LayoutModel",
          "state": {
            "_model_module": "@jupyter-widgets/base",
            "_model_module_version": "1.2.0",
            "_model_name": "LayoutModel",
            "_view_count": null,
            "_view_module": "@jupyter-widgets/base",
            "_view_module_version": "1.2.0",
            "_view_name": "LayoutView",
            "align_content": null,
            "align_items": null,
            "align_self": null,
            "border": null,
            "bottom": null,
            "display": null,
            "flex": null,
            "flex_flow": null,
            "grid_area": null,
            "grid_auto_columns": null,
            "grid_auto_flow": null,
            "grid_auto_rows": null,
            "grid_column": null,
            "grid_gap": null,
            "grid_row": null,
            "grid_template_areas": null,
            "grid_template_columns": null,
            "grid_template_rows": null,
            "height": null,
            "justify_content": null,
            "justify_items": null,
            "left": null,
            "margin": null,
            "max_height": null,
            "max_width": null,
            "min_height": null,
            "min_width": null,
            "object_fit": null,
            "object_position": null,
            "order": null,
            "overflow": null,
            "overflow_x": null,
            "overflow_y": null,
            "padding": null,
            "right": null,
            "top": null,
            "visibility": null,
            "width": null
          }
        },
        "b671885e2aab4ca0902eca16ce038a5a": {
          "model_module": "@jupyter-widgets/base",
          "model_module_version": "1.2.0",
          "model_name": "LayoutModel",
          "state": {
            "_model_module": "@jupyter-widgets/base",
            "_model_module_version": "1.2.0",
            "_model_name": "LayoutModel",
            "_view_count": null,
            "_view_module": "@jupyter-widgets/base",
            "_view_module_version": "1.2.0",
            "_view_name": "LayoutView",
            "align_content": null,
            "align_items": null,
            "align_self": null,
            "border": null,
            "bottom": null,
            "display": null,
            "flex": null,
            "flex_flow": null,
            "grid_area": null,
            "grid_auto_columns": null,
            "grid_auto_flow": null,
            "grid_auto_rows": null,
            "grid_column": null,
            "grid_gap": null,
            "grid_row": null,
            "grid_template_areas": null,
            "grid_template_columns": null,
            "grid_template_rows": null,
            "height": null,
            "justify_content": null,
            "justify_items": null,
            "left": null,
            "margin": null,
            "max_height": null,
            "max_width": null,
            "min_height": null,
            "min_width": null,
            "object_fit": null,
            "object_position": null,
            "order": null,
            "overflow": null,
            "overflow_x": null,
            "overflow_y": null,
            "padding": null,
            "right": null,
            "top": null,
            "visibility": null,
            "width": null
          }
        },
        "ed0ce2d62cde45b0b3036cddb0951655": {
          "model_module": "@jupyter-widgets/controls",
          "model_module_version": "1.5.0",
          "model_name": "DescriptionStyleModel",
          "state": {
            "_model_module": "@jupyter-widgets/controls",
            "_model_module_version": "1.5.0",
            "_model_name": "DescriptionStyleModel",
            "_view_count": null,
            "_view_module": "@jupyter-widgets/base",
            "_view_module_version": "1.2.0",
            "_view_name": "StyleView",
            "description_width": "initial"
          }
        }
      }
    }
  },
  "nbformat": 4,
  "nbformat_minor": 4
}
