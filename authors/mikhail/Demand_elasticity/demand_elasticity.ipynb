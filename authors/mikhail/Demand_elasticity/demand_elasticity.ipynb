{
  "cells": [
    {
      "cell_type": "markdown",
      "metadata": {
        "id": "7RjB1ipC7KbS"
      },
      "source": [
        "# Profit Maximization with Price Elasticity of Demand\n",
        "\n",
        "[![Investment_project.ipynb](https://img.shields.io/badge/github-%23121011.svg?logo=github)](https://github.com/ampl/colab.ampl.com/blob/master/authors/mikhail/Demand_elasticity/demand_elasticity.ipynb) [![Open In Colab](https://colab.research.google.com/assets/colab-badge.svg)](https://colab.research.google.com/github/ampl/colab.ampl.com/blob/master/authors/mikhail/Demand_elasticity/demand_elasticity.ipynb) [![Kaggle](https://kaggle.com/static/images/open-in-kaggle.svg)](https://kaggle.com/kernels/welcome?src=https://github.com/ampl/colab.ampl.com/blob/master/authors/mikhail/Demand_elasticity/demand_elasticity.ipynb) [![Gradient](https://assets.paperspace.io/img/gradient-badge.svg)](https://console.paperspace.com/github/ampl/colab.ampl.com/blob/master/authors/mikhail/Demand_elasticity/demand_elasticity.ipynb) [![Open In SageMaker Studio Lab](https://studiolab.sagemaker.aws/studiolab.svg)](https://studiolab.sagemaker.aws/import/github/ampl/colab.ampl.com/blob/master/authors/mikhail/Demand_elasticity/demand_elasticity.ipynb) [![Hits](https://h.ampl.com/https://github.com/ampl/colab.ampl.com/blob/master/authors/mikhail/Demand_elasticity/demand_elasticity.ipynb)](https://colab.ampl.com)\n",
        "\n",
        "This model finds the point that maximizes profit based on price elasticity and cost.\n",
        "\n",
        "\n",
        "[*Partner with the AMPL team to transform complex problems into optimized solutions. AMPL consulting services combine deep technical knowledge with industry-leading insights, helping you unlock the full potential of optimization within your organization.*](https://ampl.com/services/)\n",
        "\n",
        "Tags: Lessons, Managment, ampl, MIP, \n",
        "\n",
        "Notebook author: Mikhail Riabtsev <<mail@solverytic.com>>\n",
        "***"
      ]
    },
    {
      "cell_type": "markdown",
      "metadata": {},
      "source": [
        "# 1. Download Necessary Extensions and Libraries"
      ]
    },
    {
      "cell_type": "code",
      "execution_count": 1,
      "metadata": {},
      "outputs": [
        {
          "name": "stdout",
          "output_type": "stream",
          "text": [
            "Note: you may need to restart the kernel to use updated packages.\n"
          ]
        }
      ],
      "source": [
        "# Install dependencies\n",
        "%pip install -q amplpy pandas\n",
        "import pandas as pd                 # Loading panda to work with pandas.DataFrame objects (https://pandas.pydata.org/)\n",
        "import numpy as np                  # Loading numpy to perform multidimensional calculations numpy.matrix (https://numpy.org/)"
      ]
    },
    {
      "cell_type": "code",
      "execution_count": 2,
      "metadata": {},
      "outputs": [
        {
          "data": {
            "text/plain": [
              "'# Google Colab & Kaggle integration\\nfrom amplpy import AMPL, ampl_notebook\\n\\nampl = ampl_notebook(\\n    modules=[\"cbc\", \"highs\", \"gurobi\"],  # modules to install\\n    license_uuid=\"default\",  # license to use\\n)  # instantiate AMPL object and register magics'"
            ]
          },
          "execution_count": 2,
          "metadata": {},
          "output_type": "execute_result"
        }
      ],
      "source": [
        "# Google Colab & Kaggle integration\n",
        "from amplpy import AMPL, ampl_notebook\n",
        "\n",
        "ampl = ampl_notebook(\n",
        "    modules=[\"cbc\", \"highs\", \"gurobi\"],  # modules to install\n",
        "    license_uuid=\"default\",  # license to use\n",
        ")  # instantiate AMPL object and register magics"
      ]
    },
    {
      "cell_type": "markdown",
      "metadata": {},
      "source": [
        "# 2. Model description\n",
        "\n",
        "This model is designed to select one interpolated data point from a set of points in such a way that the total profit is maximized. The profit for each point is determined by the precomputed revenue (calculated as demand multiplied by price) minus the cost associated with fulfilling the demand for that point.\n",
        "\n",
        "### Key Components:\n",
        "\n",
        "- ***Demand and Price***: These values represent the demand and price at each data point, respectively.\n",
        "- ***Revenue***: This is precomputed as the product of demand and price for each point.\n",
        "- ***Cost***: A fixed cost associated with fulfilling the demand for any selected point.\n",
        "- ***Decision Variables***: $select[p]$: A binary variable indicating whether point 𝑝 is selected (1) or not (0).\n",
        "\n",
        "### Objective Function:\n",
        "The total profit is maximized, defined as:\n",
        "\n",
        "$Maximize TotalProfit = \\sum_{𝑝 \\in POINTS}(revenue[𝑝]−demand[𝑝]×cost)×select[𝑝]$\n",
        "\n",
        "Where:\n",
        "\n",
        "$revenue[p]=demand[p]×price[p]$\n",
        "\n",
        "$cost=2 (fixed cost)$\n",
        "\n",
        "### Constraints:\n",
        "\n",
        "OnePointSelected: Exactly one point must be selected, ensuring that the total of all selected points equals 1:\n",
        "\n",
        "$∑_{𝑝∈ POINTS} select[𝑝]=1$\n",
        "\n",
        "### Interpolation Setup:\n",
        " \n",
        "The data points for demand and price are interpolated linearly between given points using the ***scipy.interpolate.interp1d*** function. The $X$ values (demand) and $Y$ values (price) are used to generate new interpolated points, and the product \n",
        "$𝑋×𝑌$ is calculated for each new point to represent the revenue.\n",
        "\n",
        "This model ensures that the most profitable point is selected based on the available demand, price, and cost data, providing an optimal point selection for maximum profit."
      ]
    },
    {
      "cell_type": "markdown",
      "metadata": {},
      "source": [
        "# 3. AMPL Model Formulation"
      ]
    },
    {
      "cell_type": "code",
      "execution_count": 4,
      "metadata": {},
      "outputs": [
        {
          "name": "stdout",
          "output_type": "stream",
          "text": [
            "Overwriting demand_elasticity_model.mod\n"
          ]
        }
      ],
      "source": [
        "%%writefile demand_elasticity_model.mod\n",
        "reset;\n",
        "### Sets and Parameters\n",
        "set POINTS;                             # Set of interpolated points\n",
        "param demand{POINTS};                   # Demand values for each point\n",
        "param price{POINTS};                    # Price values for each point\n",
        "param revenue{POINTS};                  # Revenue (Precomputed demand * price) values for each point\n",
        "param cost = 2;                         # Fixed costs\n",
        "\n",
        "### Decision Variables\n",
        "var select{POINTS}, binary;             # Binary decision variable to select a point with demand & price\n",
        "\n",
        "### Objective Function: Maximize Profit\n",
        "maximize TotalProfit:\n",
        "    sum {p in POINTS} (revenue[p] - demand[p] * cost) * select[p];\n",
        "\n",
        "# Constraints\n",
        "s.t. OnePointSelected:\n",
        "    sum {p in POINTS} select[p] = 1;    # Exactly one point is selected"
      ]
    },
    {
      "cell_type": "markdown",
      "metadata": {},
      "source": [
        "# 4. Load data"
      ]
    },
    {
      "cell_type": "code",
      "execution_count": 6,
      "metadata": {},
      "outputs": [],
      "source": [
        "from scipy.interpolate import interp1d\n",
        "ampl.read('demand_elasticity_model.mod')                         # Load the AMPL model from the file\n",
        "\n",
        "# Define the data points as (X, Y) pairs\n",
        "data_points = [(1, 10), (3, 7), (5, 5), (7, 4), (9, 3.8), (11, 4), (13, 3), (15, 1), (17, 0.5), (19, 0)]\n",
        "x_points, y_points = zip(*data_points)                                  # Extract X and Y values from the data points\n",
        "linear_interp = interp1d(x_points, y_points, kind='linear')             # Create the linear interpolator\n",
        "\n",
        "# Generate new points and compute X*Y\n",
        "x_new = np.arange(min(x_points), max(x_points) + 1)                     # Integer X values\n",
        "y_new = linear_interp(x_new)                                            # Interpolated Y values\n",
        "xy_new = x_new * y_new                                                  # Compute X * Y for each new point\n",
        "interpolated_points = [(x, y, xy) for x, y, xy in zip(x_new, y_new, xy_new)]  # Combine the new points and X*Y values\n",
        "\n",
        "# Set data for AMPL\n",
        "ampl.set['POINTS'] = list(range(len(interpolated_points)))\n",
        "ampl.param['demand'] = {i: p[0] for i, p in enumerate(interpolated_points)}\n",
        "ampl.param['price'] = {i: p[1] for i, p in enumerate(interpolated_points)}\n",
        "ampl.param['revenue'] = {i: p[2] for i, p in enumerate(interpolated_points)}\n",
        "\n",
        "\n",
        "# Solve the model with solver options\n",
        "ampl.option['show_stats'] = 1\n",
        "ampl.option['display_1col'] = 0\n",
        "ampl.option['omit_zero_rows'] = 1\n",
        "ampl.option['omit_zero_cols'] = 1\n",
        "ampl.option['mp_options'] = 'outlev=1 lim:time=20'\n",
        "ampl.solve(solver='cplex', verbose=False)"
      ]
    },
    {
      "cell_type": "markdown",
      "metadata": {},
      "source": [
        "# 5. Solve problem"
      ]
    },
    {
      "cell_type": "code",
      "execution_count": 7,
      "metadata": {},
      "outputs": [],
      "source": [
        "# Set the solver type for use in solving the problems\n",
        "solver = 'cplex'  # Use CBC solver for optimization tasks\n",
        "\n",
        "ampl.option['show_stats'] = 0 # Show problem size statistics (default: 0)\n",
        "ampl.option['display_1col'] = 0 # Disable single-column data display\n",
        "#ampl.option['omit_zero_rows'] = 1 # Hide rows with zero values\n",
        "#ampl.option['omit_zero_cols'] = 1 # Hide columns with zero values\n",
        "ampl.option['mp_options'] = 'outlev=1 lim:time=20'   # Configure CBC options (output level and time limit)\n",
        "\n",
        "ampl.solve(solver=solver, verbose=False)   # Solve the optimization problem using CBC solver  "
      ]
    },
    {
      "cell_type": "markdown",
      "metadata": {},
      "source": [
        "## 6. Display results"
      ]
    },
    {
      "cell_type": "code",
      "execution_count": 16,
      "metadata": {},
      "outputs": [
        {
          "name": "stdout",
          "output_type": "stream",
          "text": [
            ":      _varname   _var _var.lb _var.ub _var.rc _var.slack    :=\n",
            "1    'select[0]'    0      0       1       8        0\n",
            "2    'select[1]'    0      0       1      13        0\n",
            "3    'select[2]'    0      0       1      15        0\n",
            "4    'select[3]'    0      0       1      16        0\n",
            "5    'select[4]'    0      0       1      15        0\n",
            "6    'select[5]'    0      0       1      15        0\n",
            "7    'select[6]'    0      0       1      14        0\n",
            "8    'select[7]'    0      0       1      15.2      0\n",
            "9    'select[8]'    0      0       1      16.2      0\n",
            "10   'select[9]'    0      0       1      19        0\n",
            "11   'select[10]'   1      0       1      22        0\n",
            "12   'select[11]'   0      0       1      18        0\n",
            "13   'select[12]'   0      0       1      13        0\n",
            "14   'select[13]'   0      0       1       0        0\n",
            "15   'select[14]'   0      0       1     -15        0\n",
            "16   'select[15]'   0      0       1     -20        0\n",
            "17   'select[16]'   0      0       1     -25.5      0\n",
            "18   'select[17]'   0      0       1     -31.5      0\n",
            "19   'select[18]'   0      0       1     -38        0\n",
            ";\n",
            "\n",
            ":       _conname     _con _con.body _con.lb _con.ub _con.slack    :=\n",
            "1   OnePointSelected   0       1        1       1        0\n",
            ";\n",
            "\n",
            ":    _objname   _obj    :=\n",
            "1   TotalProfit   22\n",
            ";\n",
            "\n"
          ]
        }
      ],
      "source": [
        "# Display results for key variables\n",
        "ampl.display('_varname', '_var', '_var.lb', '_var.ub', '_var.rc', '_var.slack')\n",
        "ampl.display('_conname', '_con', '_con.body', '_con.lb', '_con.ub', '_con.slack')\n",
        "ampl.display('_objname', '_obj')"
      ]
    },
    {
      "cell_type": "markdown",
      "metadata": {},
      "source": [
        "# 7. Retrieve solution in Python"
      ]
    },
    {
      "cell_type": "code",
      "execution_count": 10,
      "metadata": {},
      "outputs": [
        {
          "name": "stdout",
          "output_type": "stream",
          "text": [
            "    select.val\n",
            "10           1\n"
          ]
        }
      ],
      "source": [
        "# Initialize an empty dictionary to store AMPL variable data\n",
        "amplvar = dict()\n",
        "\n",
        "# Prepare a list of AMPL variables\n",
        "list_of_ampl_variables = [item[0] for item in ampl.get_variables()]\n",
        "\n",
        "# Iterate over each variable name in the list\n",
        "for key_ampl in list_of_ampl_variables:\n",
        "    # Skip certain variables that are not to be processed (these variables won't be included in the output)\n",
        "    if key_ampl not in ['']:\n",
        "        # Convert the AMPL variable data to a pandas DataFrame\n",
        "        df = ampl.var[key_ampl].to_pandas()\n",
        "        # Filter the DataFrame to include only rows where the variable's value is greater than a small threshold (1e-5)\n",
        "        filtered_df = df[df[f\"{key_ampl}.val\"] > 1e-5]\n",
        "        # Round the values in the DataFrame to two decimal places\n",
        "        rounded_df = filtered_df.round(2)\n",
        "        # Convert the filtered DataFrame to a dictionary and add it to the amplvar dictionary\n",
        "        amplvar[key_ampl] = rounded_df #.to_dict(orient='records')\n",
        "print (amplvar[key_ampl])"
      ]
    }
  ],
  "metadata": {
    "colab": {
      "provenance": []
    },
    "kernelspec": {
      "display_name": "Python 3",
      "language": "python",
      "name": "python3"
    },
    "language_info": {
      "codemirror_mode": {
        "name": "ipython",
        "version": 3
      },
      "file_extension": ".py",
      "mimetype": "text/x-python",
      "name": "python",
      "nbconvert_exporter": "python",
      "pygments_lexer": "ipython3",
      "version": "3.12.5"
    },
    "widgets": {
      "application/vnd.jupyter.widget-state+json": {
        "056f1660a7d047b2a5462fae0a458c46": {
          "model_module": "@jupyter-widgets/output",
          "model_module_version": "1.0.0",
          "model_name": "OutputModel",
          "state": {
            "_dom_classes": [],
            "_model_module": "@jupyter-widgets/output",
            "_model_module_version": "1.0.0",
            "_model_name": "OutputModel",
            "_view_count": null,
            "_view_module": "@jupyter-widgets/output",
            "_view_module_version": "1.0.0",
            "_view_name": "OutputView",
            "layout": "IPY_MODEL_84b27f894fed4369a4eef2034fbe31b3",
            "msg_id": "",
            "outputs": [
              {
                "name": "stdout",
                "output_type": "stream",
                "text": [
                  "AMPL License UUID (you can use free https://ampl.com/ce or https://ampl.com/courses licenses):\n"
                ]
              }
            ]
          }
        },
        "22e725d8437b4d3fb97758ef7ad05fea": {
          "model_module": "@jupyter-widgets/output",
          "model_module_version": "1.0.0",
          "model_name": "OutputModel",
          "state": {
            "_dom_classes": [],
            "_model_module": "@jupyter-widgets/output",
            "_model_module_version": "1.0.0",
            "_model_name": "OutputModel",
            "_view_count": null,
            "_view_module": "@jupyter-widgets/output",
            "_view_module_version": "1.0.0",
            "_view_name": "OutputView",
            "layout": "IPY_MODEL_5eabe03160684b70b3605101c789e14f",
            "msg_id": "",
            "outputs": []
          }
        },
        "23be63195d4c45ea8bb2aa657b1e2312": {
          "model_module": "@jupyter-widgets/controls",
          "model_module_version": "1.5.0",
          "model_name": "TextModel",
          "state": {
            "_dom_classes": [],
            "_model_module": "@jupyter-widgets/controls",
            "_model_module_version": "1.5.0",
            "_model_name": "TextModel",
            "_view_count": null,
            "_view_module": "@jupyter-widgets/controls",
            "_view_module_version": "1.5.0",
            "_view_name": "TextView",
            "continuous_update": true,
            "description": "License UUID:",
            "description_tooltip": null,
            "disabled": false,
            "layout": "IPY_MODEL_91577267a4c9421b9910f43ae01abf1c",
            "placeholder": "​",
            "style": "IPY_MODEL_ed0ce2d62cde45b0b3036cddb0951655",
            "value": ""
          }
        },
        "5eabe03160684b70b3605101c789e14f": {
          "model_module": "@jupyter-widgets/base",
          "model_module_version": "1.2.0",
          "model_name": "LayoutModel",
          "state": {
            "_model_module": "@jupyter-widgets/base",
            "_model_module_version": "1.2.0",
            "_model_name": "LayoutModel",
            "_view_count": null,
            "_view_module": "@jupyter-widgets/base",
            "_view_module_version": "1.2.0",
            "_view_name": "LayoutView",
            "align_content": null,
            "align_items": null,
            "align_self": null,
            "border": null,
            "bottom": null,
            "display": null,
            "flex": null,
            "flex_flow": null,
            "grid_area": null,
            "grid_auto_columns": null,
            "grid_auto_flow": null,
            "grid_auto_rows": null,
            "grid_column": null,
            "grid_gap": null,
            "grid_row": null,
            "grid_template_areas": null,
            "grid_template_columns": null,
            "grid_template_rows": null,
            "height": null,
            "justify_content": null,
            "justify_items": null,
            "left": null,
            "margin": null,
            "max_height": null,
            "max_width": null,
            "min_height": null,
            "min_width": null,
            "object_fit": null,
            "object_position": null,
            "order": null,
            "overflow": null,
            "overflow_x": null,
            "overflow_y": null,
            "padding": null,
            "right": null,
            "top": null,
            "visibility": null,
            "width": null
          }
        },
        "6b3c2325c2824a0aa00cb18f163be220": {
          "model_module": "@jupyter-widgets/base",
          "model_module_version": "1.2.0",
          "model_name": "LayoutModel",
          "state": {
            "_model_module": "@jupyter-widgets/base",
            "_model_module_version": "1.2.0",
            "_model_name": "LayoutModel",
            "_view_count": null,
            "_view_module": "@jupyter-widgets/base",
            "_view_module_version": "1.2.0",
            "_view_name": "LayoutView",
            "align_content": null,
            "align_items": null,
            "align_self": null,
            "border": null,
            "bottom": null,
            "display": null,
            "flex": null,
            "flex_flow": null,
            "grid_area": null,
            "grid_auto_columns": null,
            "grid_auto_flow": null,
            "grid_auto_rows": null,
            "grid_column": null,
            "grid_gap": null,
            "grid_row": null,
            "grid_template_areas": null,
            "grid_template_columns": null,
            "grid_template_rows": null,
            "height": null,
            "justify_content": null,
            "justify_items": null,
            "left": null,
            "margin": null,
            "max_height": null,
            "max_width": null,
            "min_height": null,
            "min_width": null,
            "object_fit": null,
            "object_position": null,
            "order": null,
            "overflow": null,
            "overflow_x": null,
            "overflow_y": null,
            "padding": null,
            "right": null,
            "top": null,
            "visibility": null,
            "width": null
          }
        },
        "84b27f894fed4369a4eef2034fbe31b3": {
          "model_module": "@jupyter-widgets/base",
          "model_module_version": "1.2.0",
          "model_name": "LayoutModel",
          "state": {
            "_model_module": "@jupyter-widgets/base",
            "_model_module_version": "1.2.0",
            "_model_name": "LayoutModel",
            "_view_count": null,
            "_view_module": "@jupyter-widgets/base",
            "_view_module_version": "1.2.0",
            "_view_name": "LayoutView",
            "align_content": null,
            "align_items": null,
            "align_self": null,
            "border": null,
            "bottom": null,
            "display": null,
            "flex": null,
            "flex_flow": null,
            "grid_area": null,
            "grid_auto_columns": null,
            "grid_auto_flow": null,
            "grid_auto_rows": null,
            "grid_column": null,
            "grid_gap": null,
            "grid_row": null,
            "grid_template_areas": null,
            "grid_template_columns": null,
            "grid_template_rows": null,
            "height": null,
            "justify_content": null,
            "justify_items": null,
            "left": null,
            "margin": null,
            "max_height": null,
            "max_width": null,
            "min_height": null,
            "min_width": null,
            "object_fit": null,
            "object_position": null,
            "order": null,
            "overflow": null,
            "overflow_x": null,
            "overflow_y": null,
            "padding": null,
            "right": null,
            "top": null,
            "visibility": null,
            "width": null
          }
        },
        "91577267a4c9421b9910f43ae01abf1c": {
          "model_module": "@jupyter-widgets/base",
          "model_module_version": "1.2.0",
          "model_name": "LayoutModel",
          "state": {
            "_model_module": "@jupyter-widgets/base",
            "_model_module_version": "1.2.0",
            "_model_name": "LayoutModel",
            "_view_count": null,
            "_view_module": "@jupyter-widgets/base",
            "_view_module_version": "1.2.0",
            "_view_name": "LayoutView",
            "align_content": null,
            "align_items": null,
            "align_self": null,
            "border": null,
            "bottom": null,
            "display": null,
            "flex": null,
            "flex_flow": null,
            "grid_area": null,
            "grid_auto_columns": null,
            "grid_auto_flow": null,
            "grid_auto_rows": null,
            "grid_column": null,
            "grid_gap": null,
            "grid_row": null,
            "grid_template_areas": null,
            "grid_template_columns": null,
            "grid_template_rows": null,
            "height": null,
            "justify_content": null,
            "justify_items": null,
            "left": null,
            "margin": null,
            "max_height": null,
            "max_width": null,
            "min_height": null,
            "min_width": null,
            "object_fit": null,
            "object_position": null,
            "order": null,
            "overflow": null,
            "overflow_x": null,
            "overflow_y": null,
            "padding": null,
            "right": null,
            "top": null,
            "visibility": null,
            "width": null
          }
        },
        "9b984adffdda404e9e60862fbf27daab": {
          "model_module": "@jupyter-widgets/controls",
          "model_module_version": "1.5.0",
          "model_name": "VBoxModel",
          "state": {
            "_dom_classes": [],
            "_model_module": "@jupyter-widgets/controls",
            "_model_module_version": "1.5.0",
            "_model_name": "VBoxModel",
            "_view_count": null,
            "_view_module": "@jupyter-widgets/controls",
            "_view_module_version": "1.5.0",
            "_view_name": "VBoxView",
            "box_style": "",
            "children": [
              "IPY_MODEL_056f1660a7d047b2a5462fae0a458c46",
              "IPY_MODEL_9ff9e8a526424ff38a26f009d31593fd",
              "IPY_MODEL_22e725d8437b4d3fb97758ef7ad05fea",
              "IPY_MODEL_9efeb0f357954178a4001ce850eb20a3"
            ],
            "layout": "IPY_MODEL_6b3c2325c2824a0aa00cb18f163be220"
          }
        },
        "9efeb0f357954178a4001ce850eb20a3": {
          "model_module": "@jupyter-widgets/output",
          "model_module_version": "1.0.0",
          "model_name": "OutputModel",
          "state": {
            "_dom_classes": [],
            "_model_module": "@jupyter-widgets/output",
            "_model_module_version": "1.0.0",
            "_model_name": "OutputModel",
            "_view_count": null,
            "_view_module": "@jupyter-widgets/output",
            "_view_module_version": "1.0.0",
            "_view_name": "OutputView",
            "layout": "IPY_MODEL_b671885e2aab4ca0902eca16ce038a5a",
            "msg_id": "",
            "outputs": [
              {
                "name": "stdout",
                "output_type": "stream",
                "text": [
                  "Licensed to AMPL Community Edition License for the AMPL Model Colaboratory (https://ampl.com/colab).\n"
                ]
              }
            ]
          }
        },
        "9ff9e8a526424ff38a26f009d31593fd": {
          "model_module": "@jupyter-widgets/controls",
          "model_module_version": "1.5.0",
          "model_name": "HBoxModel",
          "state": {
            "_dom_classes": [],
            "_model_module": "@jupyter-widgets/controls",
            "_model_module_version": "1.5.0",
            "_model_name": "HBoxModel",
            "_view_count": null,
            "_view_module": "@jupyter-widgets/controls",
            "_view_module_version": "1.5.0",
            "_view_name": "HBoxView",
            "box_style": "",
            "children": [
              "IPY_MODEL_23be63195d4c45ea8bb2aa657b1e2312"
            ],
            "layout": "IPY_MODEL_b3855f2ba3d446d6a9d75bde3f50678d"
          }
        },
        "b3855f2ba3d446d6a9d75bde3f50678d": {
          "model_module": "@jupyter-widgets/base",
          "model_module_version": "1.2.0",
          "model_name": "LayoutModel",
          "state": {
            "_model_module": "@jupyter-widgets/base",
            "_model_module_version": "1.2.0",
            "_model_name": "LayoutModel",
            "_view_count": null,
            "_view_module": "@jupyter-widgets/base",
            "_view_module_version": "1.2.0",
            "_view_name": "LayoutView",
            "align_content": null,
            "align_items": null,
            "align_self": null,
            "border": null,
            "bottom": null,
            "display": null,
            "flex": null,
            "flex_flow": null,
            "grid_area": null,
            "grid_auto_columns": null,
            "grid_auto_flow": null,
            "grid_auto_rows": null,
            "grid_column": null,
            "grid_gap": null,
            "grid_row": null,
            "grid_template_areas": null,
            "grid_template_columns": null,
            "grid_template_rows": null,
            "height": null,
            "justify_content": null,
            "justify_items": null,
            "left": null,
            "margin": null,
            "max_height": null,
            "max_width": null,
            "min_height": null,
            "min_width": null,
            "object_fit": null,
            "object_position": null,
            "order": null,
            "overflow": null,
            "overflow_x": null,
            "overflow_y": null,
            "padding": null,
            "right": null,
            "top": null,
            "visibility": null,
            "width": null
          }
        },
        "b671885e2aab4ca0902eca16ce038a5a": {
          "model_module": "@jupyter-widgets/base",
          "model_module_version": "1.2.0",
          "model_name": "LayoutModel",
          "state": {
            "_model_module": "@jupyter-widgets/base",
            "_model_module_version": "1.2.0",
            "_model_name": "LayoutModel",
            "_view_count": null,
            "_view_module": "@jupyter-widgets/base",
            "_view_module_version": "1.2.0",
            "_view_name": "LayoutView",
            "align_content": null,
            "align_items": null,
            "align_self": null,
            "border": null,
            "bottom": null,
            "display": null,
            "flex": null,
            "flex_flow": null,
            "grid_area": null,
            "grid_auto_columns": null,
            "grid_auto_flow": null,
            "grid_auto_rows": null,
            "grid_column": null,
            "grid_gap": null,
            "grid_row": null,
            "grid_template_areas": null,
            "grid_template_columns": null,
            "grid_template_rows": null,
            "height": null,
            "justify_content": null,
            "justify_items": null,
            "left": null,
            "margin": null,
            "max_height": null,
            "max_width": null,
            "min_height": null,
            "min_width": null,
            "object_fit": null,
            "object_position": null,
            "order": null,
            "overflow": null,
            "overflow_x": null,
            "overflow_y": null,
            "padding": null,
            "right": null,
            "top": null,
            "visibility": null,
            "width": null
          }
        },
        "ed0ce2d62cde45b0b3036cddb0951655": {
          "model_module": "@jupyter-widgets/controls",
          "model_module_version": "1.5.0",
          "model_name": "DescriptionStyleModel",
          "state": {
            "_model_module": "@jupyter-widgets/controls",
            "_model_module_version": "1.5.0",
            "_model_name": "DescriptionStyleModel",
            "_view_count": null,
            "_view_module": "@jupyter-widgets/base",
            "_view_module_version": "1.2.0",
            "_view_name": "StyleView",
            "description_width": "initial"
          }
        }
      }
    }
  },
  "nbformat": 4,
  "nbformat_minor": 4
}
