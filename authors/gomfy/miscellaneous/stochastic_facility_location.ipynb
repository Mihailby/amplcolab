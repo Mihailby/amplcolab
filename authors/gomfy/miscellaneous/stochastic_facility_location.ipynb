{
  "cells": [
    {
      "cell_type": "markdown",
      "metadata": {},
      "source": [
        "# Stochastic Capacitated Facility Location Problem\n",
        "[![stochastic_facility_location.ipynb](https://img.shields.io/badge/github-%23121011.svg?logo=github)](https://github.com/ampl/colab.ampl.com/blob/master/authors/gomfy/miscellaneous/stochastic_facility_location.ipynb) [![Open In Colab](https://colab.research.google.com/assets/colab-badge.svg)](https://colab.research.google.com/github/ampl/colab.ampl.com/blob/master/authors/gomfy/miscellaneous/stochastic_facility_location.ipynb) [![Kaggle](https://kaggle.com/static/images/open-in-kaggle.svg)](https://kaggle.com/kernels/welcome?src=https://github.com/ampl/colab.ampl.com/blob/master/authors/gomfy/miscellaneous/stochastic_facility_location.ipynb) [![Gradient](https://assets.paperspace.io/img/gradient-badge.svg)](https://console.paperspace.com/github/ampl/colab.ampl.com/blob/master/authors/gomfy/miscellaneous/stochastic_facility_location.ipynb) [![Open In SageMaker Studio Lab](https://studiolab.sagemaker.aws/studiolab.svg)](https://studiolab.sagemaker.aws/import/github/ampl/colab.ampl.com/blob/master/authors/gomfy/miscellaneous/stochastic_facility_location.ipynb) [![Hits](https://h.ampl.com/https://github.com/ampl/colab.ampl.com/blob/master/authors/gomfy/miscellaneous/stochastic_facility_location.ipynb)](https://colab.ampl.com)\n",
        "\n",
        "Description: This notebook illustrates modeling a stochastic facility location problem using a mixed-integer programming approach. Facility location decisions are pivotal, typically requiring substantial investments that have far-reaching social, economic, and environmental consequences. \n",
        "Strategically positioning critical facilities—like warehouses, factories, and service centers—is essential for optimizing an organization's operational efficiency, expanding its market presence, and achieving sustainable practices.\n",
        "Such modeling enables decision-makers to navigate uncertainties and make informed, data-driven choices that support long-term strategic goals.\n",
        "\n",
        "Tags: amplpy, ampl, mip, stochastic, facility location\n",
        "\n",
        "Notebook author: Gyorgy Matyasfalvi <<gyorgy@ampl.com>>\n",
        "\n",
        "References:\n",
        "\n",
        "* AMPL a Modeling Language for Mathematical Programming -- Robert Fourer et al.\n",
        "* SCIP Optimization Suite example projects -- Stephen J. Maher (ZIB)"
      ]
    },
    {
      "cell_type": "code",
      "execution_count": 40,
      "metadata": {},
      "outputs": [
        {
          "name": "stdout",
          "output_type": "stream",
          "text": [
            "Note: you may need to restart the kernel to use updated packages.\n"
          ]
        }
      ],
      "source": [
        "# Install dependencies\n",
        "%pip install -q amplpy"
      ]
    },
    {
      "cell_type": "code",
      "execution_count": 41,
      "metadata": {},
      "outputs": [
        {
          "data": {
            "application/vnd.jupyter.widget-view+json": {
              "model_id": "eb5cb2f5370542018bc5d882f9240464",
              "version_major": 2,
              "version_minor": 0
            },
            "text/plain": [
              "VBox(children=(Output(), HBox(children=(Text(value='', description='License UUID:', style=TextStyle(descriptio…"
            ]
          },
          "metadata": {},
          "output_type": "display_data"
        }
      ],
      "source": [
        "# Google Colab & Kaggle integration\n",
        "from amplpy import AMPL, ampl_notebook\n",
        "\n",
        "ampl = ampl_notebook(\n",
        "    modules=[\"open\"],  # modules to install\n",
        "    license_uuid=\"default\",  # license to use\n",
        ")  # instantiate AMPL object and register magics"
      ]
    },
    {
      "cell_type": "markdown",
      "metadata": {},
      "source": [
        "## Problem description\n",
        "Facility location decisions are crucial and often involve significant investment for both public and private sector entities, bearing profound social, economic, and environmental implications. \n",
        "The strategic positioning of facilities, such as warehouses, factories, and service centers, can determine an organization's operational efficiency, market reach, and overall sustainability.\n",
        "\n",
        "Given the high stakes of these decisions, engineers and analysts have developed sophisticated models to aid organizations in identifying optimal locations. \n",
        "These models take into account a variety of factors, including but not limited to, transportation costs, proximity to customers and suppliers, labor availability, customer demand, and environmental regulations.\n",
        "\n",
        "The challenge is compounded when considering the uncertainty inherent in future conditions. \n",
        "Factors such as fluctuating market demands, changes in infrastructure, and unpredictable socio-economic developments require a robust approach to facility location. \n",
        "Hence, engineers often employ stochastic models and robust optimization techniques that account for such uncertainties, ensuring that the chosen locations remain viable under a range of possible future scenarios."
      ]
    },
    {
      "cell_type": "markdown",
      "metadata": {},
      "source": [
        "## Mixed integer program\n",
        "Below you can find the extensive form of the stochastic facility location problem as an explicit mixed integer program. \n",
        "\n",
        "**Given:** \n",
        "* A set of facilities: $I$.\n",
        "* A set of customers: $J$.\n",
        "* Set of scenarios: $S$ (representing different customer demands).\n",
        "\n",
        "**Task:** \n",
        "* Find the minimum cost facilities to open such that the customer demand can be satisfied in all scenarios.\n",
        "\n",
        "### Variables\n",
        "* $x_i \\in \\{0, 1\\} \\quad \\forall i \\in I$\n",
        "    * $x_i = 1$ if facility $i$ is opened.\n",
        "* $y_{ij}^s \\geq 0 \\quad \\forall i \\in I, \\forall j \\in J, \\forall s \\in S$\n",
        "    * $y_{ij}^s$ is the level of demand for customer $j$ satisfied by facility $i$ in scenario $s$.\n",
        "\n",
        "### Parameters:\n",
        "* $f_i$: the fixed cost for opening facility $i$,\n",
        "* $q_{ij}$: the cost of servicing customer $j$ from facility $i$,\n",
        "* $\\lambda_j^s$: the demand of customer $j$ in scenario $s$,\n",
        "* $k_i:$ the capacity of facility $i$.\n",
        "\n",
        "\n",
        "### The extensive form\n",
        "The extensive form of our stochastic program can be formulated as follows:\n",
        "\n",
        "$\n",
        "\\begin{equation}\n",
        "\\begin{array}{rll}\n",
        " \\min \\quad & \\sum_{i \\in I} f_i x_i + \\frac{1}{|S|} \\sum_{s \\in S} \\sum_{i \\in I} \\sum_{j \\in J} q_{ij} y_{ij}^s & \\\\\n",
        " & &  \\\\\n",
        " \\textrm{subject to} \\quad & \\sum_{i \\in I} y_{ij}^s \\geq \\lambda_j^s & \\forall j \\in J, \\forall s \\in S \\\\\n",
        " & \\sum_{j \\in J} y_{ij}^s \\leq k_i x_i & \\forall i \\in I, \\forall s \\in S \\\\\n",
        " & \\sum_{i \\in I} k_i x_i \\geq \\max_{s \\in S} \\sum_{j \\in J} \\lambda_j^s & \\\\\n",
        " & &  \\\\\n",
        " & x_i \\in \\{0, 1\\} & \\forall i \\in I \\\\\n",
        " & y_{ij}^s \\geq 0 & \\forall i \\in I, \\forall j \\in J, \\forall s \\in S\n",
        "\\end{array} \\tag{1}\n",
        "\\end{equation}\n",
        "$"
      ]
    },
    {
      "cell_type": "markdown",
      "metadata": {},
      "source": [
        "## AMPL Implementation\n",
        "Translating the mathematical formulation of our optimization problem into an AMPL model is a direct process. \n",
        "The AMPL code closely mirrors each inequality in the system (1), preserving the structure of the mathematical model.\n",
        "\n",
        "AMPL's expressive syntax allows for meaningful names for entities such as variables, parameters, and constraints, enhancing the model's clarity. \n",
        "For instance, we'll represent the set $I$ as `FACILITIES`, $J$ as `CUSTOMERS`, and $S$ as `SCENARIOS`. \n",
        "Variables previously denoted as $x$ and $y$ will be named `facility_open` and `production`, respectively.\n",
        "\n",
        "Similarly, we will rename our parameters for greater clarity: $f_i$ becomes `fixed_cost`, $q_ij$ is now `variable_cost`, $\\lambda_j^s$ is referred to as `customer_demand`, and $k_i$ is labeled as `facility_capacity`. \n",
        "\n",
        "Using descriptive names not only enhances the readability of the model but also its maintainability and the ease with which it can be shared and understood by others."
      ]
    },
    {
      "cell_type": "code",
      "execution_count": 42,
      "metadata": {},
      "outputs": [
        {
          "name": "stdout",
          "output_type": "stream",
          "text": [
            "Overwriting floc_ef.mod\n"
          ]
        }
      ],
      "source": [
        "%%writefile floc_ef.mod\n",
        "# Sets\n",
        "set FACILITIES; # set of facilities\n",
        "set CUSTOMERS;  # set of customers\n",
        "set SCENARIOS;  # set of scenarios\n",
        "\n",
        "# Variables\n",
        "var facility_open{FACILITIES} binary;                   # 1 if facility i is open, 0 otherwise\n",
        "var production{FACILITIES, CUSTOMERS, SCENARIOS} >= 0;  # production from facility i to satisfy customer demand j in scenario s\n",
        "\n",
        "# Parameters\n",
        "param fixed_cost{FACILITIES} >= 0;                  # fixed cost of opening facility_open i\n",
        "param variable_cost{FACILITIES, CUSTOMERS} >= 0;    # variable cost of satisfying customer_demand of customer j from facility_open i\n",
        "param customer_demand{CUSTOMERS, SCENARIOS} >= 0;   # customer_demand of customer j in scenario s\n",
        "param facility_capacity{FACILITIES} >= 0;           # facility_capacity of facility_open i\n",
        "\n",
        "# Objective\n",
        "minimize TotalCost: \n",
        "    sum{i in FACILITIES} fixed_cost[i] * facility_open[i] +                                                             # Fixed cost of opening facility i \n",
        "    1/card(SCENARIOS) * (sum{s in SCENARIOS, i in FACILITIES, j in CUSTOMERS} variable_cost[i,j] * production[i,j,s]);  # Variable cost of satisfying customer demand j from facility i in scenario s\n",
        "\n",
        "# Constraints\n",
        "s.t. satisfying_customer_demand{s in SCENARIOS, j in CUSTOMERS}:\n",
        "    sum{i in FACILITIES} production[i,j,s] >= customer_demand[j,s];\n",
        "\n",
        "s.t. facility_capacity_limits{s in SCENARIOS, i in FACILITIES}:\n",
        "    sum{j in CUSTOMERS} production[i,j,s] <= facility_capacity[i] * facility_open[i];\n",
        "\n",
        "s.t. sufficient_production_capacity:\n",
        "    sum{i in FACILITIES} facility_capacity[i]*facility_open[i] >= max{s in SCENARIOS} sum{j in CUSTOMERS} customer_demand[j,s];  "
      ]
    },
    {
      "cell_type": "code",
      "execution_count": 43,
      "metadata": {},
      "outputs": [
        {
          "name": "stdout",
          "output_type": "stream",
          "text": [
            "Overwriting floc_ef_toy.dat\n"
          ]
        }
      ],
      "source": [
        "%%writefile floc_ef_toy.dat\n",
        "\n",
        "set FACILITIES  := Baytown_TX Beaumont_TX Baton_Rouge_LA;\n",
        "set CUSTOMERS   := San_Antonio_TX Dallas_TX Jackson_MS Birmingham_AL;\n",
        "set SCENARIOS   := Low Medium High;\n",
        "\n",
        "param fixed_cost := Baytown_TX 400000 Beaumont_TX 200000 Baton_Rouge_LA 600000;\n",
        "\n",
        "param facility_capacity := Baytown_TX 1550 Beaumont_TX 650 Baton_Rouge_LA 1750;\n",
        "\n",
        "param variable_cost:        San_Antonio_TX  Dallas_TX    Jackson_MS   Birmingham_AL :=\n",
        "             Baytown_TX     5739.725        6539.725     8650.40      22372.1125\n",
        "             Beaumont_TX    6055.05         6739.055     8050.40      21014.225 \n",
        "             Baton_Rouge_LA 8650.40         7539.055     4539.72      15024.325;\n",
        "\n",
        "param customer_demand:          Low    Medium   High :=\n",
        "               San_Antonio_TX   450    650      887 \n",
        "               Dallas_TX        910    1134     1456      \n",
        "               Jackson_MS       379    416      673\n",
        "               Birmingham_AL    91     113      207;"
      ]
    },
    {
      "cell_type": "code",
      "execution_count": 44,
      "metadata": {},
      "outputs": [
        {
          "name": "stdout",
          "output_type": "stream",
          "text": [
            "HiGHS 1.6.0:HiGHS 1.6.0: optimal solution; objective 17017429.84\n",
            "18 simplex iterations\n",
            "1 branching nodes\n",
            "\n",
            "0\tsolved\n",
            "100\tsolved?\n",
            "200\tinfeasible\n",
            "300\tunbounded\n",
            "400\tlimit\n",
            "500\tfailure\n",
            "\n",
            "Success:\tProblem solved to optimality!\n"
          ]
        }
      ],
      "source": [
        "ampl = AMPL()                       # Instantiate an AMPL object\n",
        "ampl.read(\"floc_ef.mod\")            # Read the model from file\n",
        "ampl.readData(\"floc_ef_toy.dat\")    # Read the data from file\n",
        "\n",
        "ampl.option[\"solver\"] = \"highs\"    # Select the solver\n",
        "ampl.solve()                        # Attempt to solve\n",
        "\n",
        "print(ampl.option[\"solve_result_table\"])                    # Print the solve result table, this will inform us of the various solution codes.\n",
        "result_df = ampl.get_data(\"solve_result_num\").to_pandas()   # Retrieve solution status\n",
        "\n",
        "# Check if the problem was solved if not print warning\n",
        "srn = ampl.get_value(\"solve_result_num\")\n",
        "if srn != 0:\n",
        "    print(f\"Warning:\\tProblem not solved to optimality!\\n\\t\\tsolve_result_num = {srn}\")\n",
        "else:\n",
        "    print(\"Success:\\tProblem solved to optimality!\")"
      ]
    },
    {
      "cell_type": "markdown",
      "metadata": {},
      "source": [
        "## Simple deterministic model\n",
        "\n",
        "In this section, we introduce the AMPL model in its deterministic form, devoid of scenarios. \n",
        "To facilitate scenario analysis, we employ three distinct data sets corresponding to the previously discussed scenarios. \n",
        "This approach enables us to calculate objective values and solutions tailored to various scenario data, effectively simulating a situation where future outcomes are known in advance. \n",
        "Thus, we compute solutions based on specific demand sets, assuming full foresight into future developments."
      ]
    },
    {
      "cell_type": "code",
      "execution_count": 45,
      "metadata": {},
      "outputs": [
        {
          "name": "stdout",
          "output_type": "stream",
          "text": [
            "Overwriting floc_det.mod\n"
          ]
        }
      ],
      "source": [
        "%%writefile floc_det.mod\n",
        "\n",
        "# Sets\n",
        "set FACILITIES; # set of facilities\n",
        "set CUSTOMERS;  # set of customers\n",
        "set SCENARIOS;  # set of scenarios\n",
        "\n",
        "# Variables\n",
        "var facility_open{FACILITIES} binary;        # 1 if facility i is open, 0 otherwise\n",
        "var production{FACILITIES, CUSTOMERS} >= 0;  # production from facility i to satisfy customer demand\n",
        "\n",
        "# Parameters\n",
        "param fixed_cost{FACILITIES} >= 0;                # fixed cost of opening facility_open i\n",
        "param variable_cost{FACILITIES, CUSTOMERS} >= 0;  # variable cost of satisfying customer_demand of customer j from facility_open i\n",
        "param customer_demand{CUSTOMERS} >= 0;            # customer_demand of customer j\n",
        "param facility_capacity{FACILITIES} >= 0;         # facility_capacity of facility_open i\n",
        "\n",
        "# Objective\n",
        "minimize TotalCost: \n",
        "    sum{i in FACILITIES} fixed_cost[i] * facility_open[i] +                     # Fixed cost of opening facility i \n",
        "    sum{i in FACILITIES, j in CUSTOMERS} variable_cost[i,j] * production[i,j];  # Variable cost of satisfying customer demand j from facility i in scenario s\n",
        "\n",
        "# Constraints\n",
        "s.t. satisfying_customer_demand{j in CUSTOMERS}:\n",
        "    sum{i in FACILITIES} production[i,j] >= customer_demand[j];\n",
        "\n",
        "s.t. facility_capacity_limits{i in FACILITIES}:\n",
        "    sum{j in CUSTOMERS} production[i,j] <= facility_capacity[i] * facility_open[i];\n",
        "\n",
        "s.t. sufficient_production_capacity:\n",
        "    sum{i in FACILITIES} facility_capacity[i]*facility_open[i] >= sum{j in CUSTOMERS} customer_demand[j];  "
      ]
    },
    {
      "cell_type": "markdown",
      "metadata": {},
      "source": [
        "### Low demand scenario\n",
        "We begin by specifying a data file with low demand."
      ]
    },
    {
      "cell_type": "code",
      "execution_count": 46,
      "metadata": {},
      "outputs": [
        {
          "name": "stdout",
          "output_type": "stream",
          "text": [
            "Overwriting floc_low.dat\n"
          ]
        }
      ],
      "source": [
        "%%writefile floc_low.dat\n",
        "\n",
        "set FACILITIES  := Baytown_TX Beaumont_TX Baton_Rouge_LA;\n",
        "set CUSTOMERS   := San_Antonio_TX Dallas_TX Jackson_MS Birmingham_AL;\n",
        "\n",
        "param fixed_cost := Baytown_TX 400000 Beaumont_TX 200000 Baton_Rouge_LA 600000;\n",
        "\n",
        "param facility_capacity := Baytown_TX 1550 Beaumont_TX 650 Baton_Rouge_LA 1750;\n",
        "\n",
        "param variable_cost:        San_Antonio_TX  Dallas_TX    Jackson_MS   Birmingham_AL :=\n",
        "             Baytown_TX     5739.725        6539.725     8650.40      22372.1125\n",
        "             Beaumont_TX    6055.05         6739.055     8050.40      21014.225 \n",
        "             Baton_Rouge_LA 8650.40         7539.055     4539.72      15024.325;\n",
        "\n",
        "param customer_demand :=\n",
        "               San_Antonio_TX  450\n",
        "               Dallas_TX       910\n",
        "               Jackson_MS      379\n",
        "               Birmingham_AL   91;"
      ]
    },
    {
      "cell_type": "markdown",
      "metadata": {},
      "source": [
        "### Solve for low demand"
      ]
    },
    {
      "cell_type": "code",
      "execution_count": 47,
      "metadata": {},
      "outputs": [
        {
          "name": "stdout",
          "output_type": "stream",
          "text": [
            "HiGHS 1.6.0:HiGHS 1.6.0: optimal solution; objective 12621793.46\n",
            "11 simplex iterations\n",
            "1 branching nodes\n",
            "\n",
            "TotalCost = 12621793\n",
            "\n",
            "facility_open [*] :=\n",
            "Baton_Rouge_LA  1\n",
            "    Baytown_TX  1\n",
            ";\n",
            "\n"
          ]
        }
      ],
      "source": [
        "ampl.reset() # Reset AMPL object\n",
        "ampl.read(\"floc_det.mod\") # Read the model from file\n",
        "ampl.readData(\"floc_low.dat\") # Read the data from file\n",
        "# We do not need to set the option solver b/c reset() leaves option unchanged\n",
        "ampl.solve() # Attempt to solve\n",
        "ampl.eval(\"\"\"\n",
        "          option omit_zero_rows 1, omit_zero_cols 1, display_precision 0, display_round 0; # Set some display options.\n",
        "          print;\n",
        "          display TotalCost;\n",
        "          display facility_open;\n",
        "          \"\"\")"
      ]
    },
    {
      "cell_type": "markdown",
      "metadata": {},
      "source": [
        "### Solve for medium demand"
      ]
    },
    {
      "cell_type": "code",
      "execution_count": 48,
      "metadata": {},
      "outputs": [
        {
          "name": "stdout",
          "output_type": "stream",
          "text": [
            "HiGHS 1.6.0:HiGHS 1.6.0: optimal solution; objective 15966984.87\n",
            "8 simplex iterations\n",
            "1 branching nodes\n",
            "\n",
            "TotalCost = 15966985\n",
            "\n",
            "facility_open [*] :=\n",
            "Baton_Rouge_LA  1\n",
            "    Baytown_TX  1\n",
            ";\n",
            "\n"
          ]
        }
      ],
      "source": [
        "ampl.eval(\"\"\"\n",
        "          update data customer_demand;\n",
        "          data;\n",
        "          param customer_demand :=\n",
        "               San_Antonio_TX  650      \n",
        "               Dallas_TX       1134            \n",
        "               Jackson_MS      416      \n",
        "               Birmingham_AL   113;\n",
        "          \"\"\")\n",
        "ampl.solve() # Attempt to solve\n",
        "ampl.eval(\"\"\"\n",
        "          print;\n",
        "          display TotalCost;\n",
        "          display facility_open;\n",
        "          \"\"\")"
      ]
    },
    {
      "cell_type": "markdown",
      "metadata": {},
      "source": [
        "### Solve for high demand"
      ]
    },
    {
      "cell_type": "code",
      "execution_count": 49,
      "metadata": {},
      "outputs": [
        {
          "name": "stdout",
          "output_type": "stream",
          "text": [
            "HiGHS 1.6.0:HiGHS 1.6.0: optimal solution; objective 22250711.2\n",
            "6 simplex iterations\n",
            "1 branching nodes\n",
            "\n",
            "TotalCost = 22250711\n",
            "\n",
            "facility_open [*] :=\n",
            "Baton_Rouge_LA  1\n",
            "    Baytown_TX  1\n",
            "   Beaumont_TX  1\n",
            ";\n",
            "\n"
          ]
        }
      ],
      "source": [
        "ampl.eval(\"\"\"\n",
        "          update data customer_demand;\n",
        "          data;\n",
        "          param customer_demand :=\n",
        "               San_Antonio_TX        887 \n",
        "               Dallas_TX             1456       \n",
        "               Jackson_MS            673\n",
        "               Birmingham_AL         207; \n",
        "          \"\"\")\n",
        "ampl.solve() # Attempt to solve\n",
        "ampl.eval(\"\"\"\n",
        "          print;\n",
        "          display TotalCost;\n",
        "          display facility_open;\n",
        "          \"\"\")"
      ]
    }
  ],
  "metadata": {
    "kernelspec": {
      "display_name": "Python 3 (ipykernel)",
      "language": "python",
      "name": "python3"
    },
    "language_info": {
      "codemirror_mode": {
        "name": "ipython",
        "version": 3
      },
      "file_extension": ".py",
      "mimetype": "text/x-python",
      "name": "python",
      "nbconvert_exporter": "python",
      "pygments_lexer": "ipython3",
      "version": "3.11.7"
    },
    "vscode": {
      "interpreter": {
        "hash": "ee4198aac13dae9b6fccd443041680d99c2643c4956ef7c80ff6dcc0057cb523"
      }
    }
  },
  "nbformat": 4,
  "nbformat_minor": 2
}
