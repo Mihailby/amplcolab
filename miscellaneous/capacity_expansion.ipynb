{
 "cells": [
  {
   "cell_type": "markdown",
   "metadata": {},
   "source": [
    "# Capacity expansion of power generation\n",
    "[![capacity_expansion.ipynb](https://img.shields.io/badge/github-%23121011.svg?logo=github)](https://github.com/ampl/amplcolab/blob/master/miscellaneous/capacity_expansion.ipynb) [![Open In Colab](https://colab.research.google.com/assets/colab-badge.svg)](https://colab.research.google.com/github/ampl/amplcolab/blob/master/miscellaneous/capacity_expansion.ipynb) [![Kaggle](https://kaggle.com/static/images/open-in-kaggle.svg)](https://kaggle.com/kernels/welcome?src=https://github.com/ampl/amplcolab/blob/master/miscellaneous/capacity_expansion.ipynb) [![Gradient](https://assets.paperspace.io/img/gradient-badge.svg)](https://console.paperspace.com/github/ampl/amplcolab/blob/master/miscellaneous/capacity_expansion.ipynb) [![Open In SageMaker Studio Lab](https://studiolab.sagemaker.aws/studiolab.svg)](https://studiolab.sagemaker.aws/import/github/ampl/amplcolab/blob/master/miscellaneous/capacity_expansion.ipynb)\n",
    "\n",
    "Description: Models the extensive form of a deterministic multi-stage capacity expansion problem. In this model we can have multiple resources of the same type which have identical properties. The model can be further developed into a stochastic one.\n",
    "\n",
    "Tags: ampl-only, planning, mip, power-generation\n",
    "\n",
    "Notebook author: Gyorgy Matyasfalvi\n",
    "\n",
    "Model author: Ahmed et al., Gyorgy Matyasfalvi\n",
    "\n",
    "References:\n",
    "1. Ahmed, S., King, A. J. and Parija G. (2003). \"A Multi-Stage Stochastich Integer Programming Approach for Capacity Expansion Under Uncertainty\". In: J. of Global Optimization 26.1 (May 2003), pp. 3-24. URL: https://doi.org/10.1023/A:1023062915106"
   ]
  },
  {
   "cell_type": "code",
   "execution_count": 1,
   "metadata": {},
   "outputs": [],
   "source": [
    "# Install dependencies\n",
    "!pip install -q amplpy ampltools"
   ]
  },
  {
   "cell_type": "code",
   "execution_count": 2,
   "metadata": {},
   "outputs": [
    {
     "name": "stderr",
     "output_type": "stream",
     "text": [
      "*******************************************************************************\n",
      "* Please make sure that the AMPL folder is in the system search path, or      *\n",
      "* specify the path via:                                                       *\n",
      "*     AMPL(Environment('full path to the AMPL installation directory'))       *\n",
      "*******************************************************************************\n"
     ]
    },
    {
     "ename": "RuntimeError",
     "evalue": "AMPL could not be started. Message from process thread:\ncannot execute ampl: No such file or directory\n\n",
     "output_type": "error",
     "traceback": [
      "\u001b[0;31m---------------------------------------------------------------------------\u001b[0m",
      "\u001b[0;31mRuntimeError\u001b[0m                              Traceback (most recent call last)",
      "Cell \u001b[0;32mIn [2], line 6\u001b[0m\n\u001b[1;32m      4\u001b[0m \u001b[38;5;28;01mfrom\u001b[39;00m \u001b[38;5;21;01mamplpy\u001b[39;00m \u001b[38;5;28;01mimport\u001b[39;00m AMPL, register_magics\n\u001b[1;32m      5\u001b[0m \u001b[38;5;28;01mif\u001b[39;00m cloud_platform_name() \u001b[38;5;129;01mis\u001b[39;00m \u001b[38;5;28;01mNone\u001b[39;00m:\n\u001b[0;32m----> 6\u001b[0m     ampl \u001b[38;5;241m=\u001b[39m \u001b[43mAMPL\u001b[49m\u001b[43m(\u001b[49m\u001b[43m)\u001b[49m \u001b[38;5;66;03m# Use local installation of AMPL\u001b[39;00m\n\u001b[1;32m      7\u001b[0m \u001b[38;5;28;01melse\u001b[39;00m:\n\u001b[1;32m      8\u001b[0m     ampl \u001b[38;5;241m=\u001b[39m ampl_notebook(modules\u001b[38;5;241m=\u001b[39mMODULES) \u001b[38;5;66;03m# Install AMPL and use it\u001b[39;00m\n",
      "File \u001b[0;32m~/.local/lib/python3.8/site-packages/amplpy/ampl.py:93\u001b[0m, in \u001b[0;36mAMPL.__init__\u001b[0;34m(self, environment, langext)\u001b[0m\n\u001b[1;32m     91\u001b[0m \u001b[38;5;28;01mif\u001b[39;00m environment \u001b[38;5;129;01mis\u001b[39;00m \u001b[38;5;28;01mNone\u001b[39;00m:\n\u001b[1;32m     92\u001b[0m     \u001b[38;5;28;01mtry\u001b[39;00m:\n\u001b[0;32m---> 93\u001b[0m         \u001b[38;5;28mself\u001b[39m\u001b[38;5;241m.\u001b[39m_impl \u001b[38;5;241m=\u001b[39m \u001b[43mamplpython\u001b[49m\u001b[38;5;241;43m.\u001b[39;49m\u001b[43mAMPL\u001b[49m\u001b[43m(\u001b[49m\u001b[43m)\u001b[49m\n\u001b[1;32m     94\u001b[0m     \u001b[38;5;28;01mexcept\u001b[39;00m \u001b[38;5;167;01mRuntimeError\u001b[39;00m \u001b[38;5;28;01mas\u001b[39;00m exp:\n\u001b[1;32m     95\u001b[0m         \u001b[38;5;28;01mif\u001b[39;00m \u001b[38;5;28mstr\u001b[39m(exp)\u001b[38;5;241m.\u001b[39mstartswith(\u001b[38;5;124m\"\u001b[39m\u001b[38;5;124mAMPL could not be started\u001b[39m\u001b[38;5;124m\"\u001b[39m):\n",
      "\u001b[0;31mRuntimeError\u001b[0m: AMPL could not be started. Message from process thread:\ncannot execute ampl: No such file or directory\n\n"
     ]
    }
   ],
   "source": [
    "# Google Colab & Kaggle interagration\n",
    "MODULES=['ampl', 'coin']\n",
    "from ampltools import cloud_platform_name, ampl_notebook\n",
    "from amplpy import AMPL, register_magics\n",
    "if cloud_platform_name() is None:\n",
    "    ampl = AMPL() # Use local installation of AMPL\n",
    "else:\n",
    "    ampl = ampl_notebook(modules=MODULES) # Install AMPL and use it\n",
    "register_magics(ampl_object=ampl) # Evaluate %%ampl_eval cells with ampl.eval()"
   ]
  },
  {
   "cell_type": "markdown",
   "metadata": {},
   "source": [
    "### Use `%%ampl_eval` to evaluate AMPL commands"
   ]
  },
  {
   "cell_type": "code",
   "execution_count": 3,
   "metadata": {},
   "outputs": [
    {
     "name": "stderr",
     "output_type": "stream",
     "text": [
      "UsageError: Cell magic `%%ampl_eval` not found.\n"
     ]
    }
   ],
   "source": [
    "%%ampl_eval\n",
    "option version;"
   ]
  },
  {
   "cell_type": "markdown",
   "metadata": {},
   "source": [
    "### Use %%writeifile to create files"
   ]
  },
  {
   "cell_type": "code",
   "execution_count": 4,
   "metadata": {},
   "outputs": [
    {
     "name": "stdout",
     "output_type": "stream",
     "text": [
      "Writing cap_ef.mod\n"
     ]
    }
   ],
   "source": [
    "%%writefile cap_ef.mod\n",
    "\n",
    "# Declare index sets\n",
    "set STAGES ordered;\n",
    "set RESOURCES ordered;\n",
    "\n",
    "# Decision variables\n",
    "var cap_exp {STAGES, RESOURCES} >= 0;        # Variable cost associated with increase in capacity\n",
    "var cap_dec {STAGES, RESOURCES} integer; # Fixed cost associated with decision to involve a new resource\n",
    "\n",
    "# Parameters\n",
    "param var_cost {STAGES, RESOURCES} > 0;\n",
    "param fix_cost {STAGES, RESOURCES} > 0;\n",
    "param cap_ub {STAGES, RESOURCES} > 0;\n",
    "param demand {STAGES};\n",
    "\n",
    "# Objective function\n",
    "minimize total_cost: \n",
    "    sum{t in STAGES, i in RESOURCES} (var_cost[t,i]*cap_exp[t,i] + fix_cost[t,i]*cap_dec[t,i]);\n",
    "\n",
    "# Constraints\n",
    "subject to cap_acqu_bound {t in STAGES, i in RESOURCES}:\n",
    "        cap_exp[t,i] <= cap_ub[t,i]*cap_dec[t,i]; # Upper bounds on total capacity\n",
    "\n",
    "subject to statisfy_demand {T in STAGES}:\n",
    "        sum {t in STAGES, i in RESOURCES: ord(t) <= ord(T)} cap_exp[t,i] >= demand[T]; # Demand needs to be satisfied at all times\n",
    "\n",
    "subject to one_resource:\n",
    "        sum {t in STAGES} cap_dec[t,first(RESOURCES)] <= 1;\n"
   ]
  },
  {
   "cell_type": "code",
   "execution_count": 5,
   "metadata": {},
   "outputs": [
    {
     "name": "stdout",
     "output_type": "stream",
     "text": [
      "Writing cap_ef.dat\n"
     ]
    }
   ],
   "source": [
    "%%writefile cap_ef.dat\n",
    "\n",
    "# Index sets\n",
    "set STAGES := 2030 2040 2050;\n",
    "set RESOURCES := hydro nuclear coal;\n",
    "\n",
    "# Billions of USD\n",
    "param var_cost:    hydro  nuclear  coal   :=\n",
    "            2030   0.01   0.01    0.8\n",
    "            2040   0.011  0.013   1.9 \n",
    "            2050   0.012  0.014   2.7    ;\n",
    "\n",
    "# Billions of USD\n",
    "param fix_cost:    hydro  nuclear  coal   :=\n",
    "            2030   25     10       1\n",
    "            2040   28     11       2.3 \n",
    "            2050   25     11.5     3.8  ;\n",
    "\n",
    "# In GWH \n",
    "param cap_ub:      hydro  nuclear  coal   :=\n",
    "            2030   300    12       20\n",
    "            2040   290    15       21 \n",
    "            2050   280    18       20   ;\n",
    "\n",
    "# In GWH\n",
    "param demand := \n",
    "            2030 500 \n",
    "            2040 1000 \n",
    "            2050 1105   ;"
   ]
  },
  {
   "cell_type": "code",
   "execution_count": 6,
   "metadata": {},
   "outputs": [
    {
     "name": "stdout",
     "output_type": "stream",
     "text": [
      "Writing cap_ef.run\n"
     ]
    }
   ],
   "source": [
    "%%writefile cap_ef.run\n",
    "# ---------------------------------------------------------------\n",
    "# Solve capcity expansion problem then display decison variables\n",
    "# ---------------------------------------------------------------\n",
    "\n",
    "option solver cbc;\n",
    "option solution_round 6;\n",
    "\n",
    "model cap_ef.mod;\n",
    "data cap_ef.dat;\n",
    "solve;\n",
    "\n",
    "for {t in STAGES} {\n",
    "    printf \"\\n\\n\\t\\t**%s**\\n\", t;\n",
    "    printf {i in RESOURCES}: \"%s: %d\\t\", i, cap_dec[t,i];\n",
    "    printf \"\\n\";\n",
    "}\n",
    "printf \"\\n\";"
   ]
  },
  {
   "cell_type": "markdown",
   "metadata": {},
   "source": [
    "### Use `%%ampl_eval` to run the script cut2.run"
   ]
  },
  {
   "cell_type": "code",
   "execution_count": 7,
   "metadata": {},
   "outputs": [
    {
     "name": "stderr",
     "output_type": "stream",
     "text": [
      "UsageError: Cell magic `%%ampl_eval` not found.\n"
     ]
    }
   ],
   "source": [
    "%%ampl_eval\n",
    "commands cap_ef.run;"
   ]
  },
  {
   "cell_type": "markdown",
   "metadata": {},
   "source": []
  }
 ],
 "metadata": {
  "kernelspec": {
   "display_name": "Python 3 (ipykernel)",
   "language": "python",
   "name": "python3"
  },
  "language_info": {
   "codemirror_mode": {
    "name": "ipython",
    "version": 3
   },
   "file_extension": ".py",
   "mimetype": "text/x-python",
   "name": "python",
   "nbconvert_exporter": "python",
   "pygments_lexer": "ipython3",
   "version": "3.8.10"
  }
 },
 "nbformat": 4,
 "nbformat_minor": 4
}
