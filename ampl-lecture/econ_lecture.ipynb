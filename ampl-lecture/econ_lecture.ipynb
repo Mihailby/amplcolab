{
  "cells": [
    {
      "cell_type": "markdown",
      "metadata": {
        "id": "3qzrmkOorHxD"
      },
      "source": [
        "# Book Example: Economic equilibria\n",
        "[![econ_lecture.ipynb](https://img.shields.io/badge/github-%23121011.svg?logo=github)](https://github.com/ampl/amplcolab/blob/master/ampl-lecture/econ_lecture.ipynb) [![Open In Colab](https://colab.research.google.com/assets/colab-badge.svg)](https://colab.research.google.com/github/ampl/amplcolab/blob/master/ampl-lecture/econ_lecture.ipynb) [![Kaggle](https://kaggle.com/static/images/open-in-kaggle.svg)](https://kaggle.com/kernels/welcome?src=https://github.com/ampl/amplcolab/blob/master/ampl-lecture/econ_lecture.ipynb) [![Gradient](https://assets.paperspace.io/img/gradient-badge.svg)](https://console.paperspace.com/github/ampl/amplcolab/blob/master/ampl-lecture/econ_lecture.ipynb) [![Open In SageMaker Studio Lab](https://studiolab.sagemaker.aws/studiolab.svg)](https://studiolab.sagemaker.aws/import/github/ampl/amplcolab/blob/master/ampl-lecture/econ_lecture.ipynb)\n",
        "\n",
        "Description: economic model using complementarity conditions from Chapter 19 AMPL book\n",
        "\n",
        "Tags: ampl-only, ampl-book, complementarity_problem\n",
        "\n",
        "Notebook author: N/A\n",
        "\n",
        "Model author: N/A\n"
      ]
    },
    {
      "cell_type": "code",
      "execution_count": 1,
      "metadata": {
        "id": "QZcQH3E_rHxJ"
      },
      "outputs": [],
      "source": [
        "# Install dependencies\n",
        "!pip install -q amplpy ampltools"
      ]
    },
    {
      "cell_type": "code",
      "execution_count": 2,
      "metadata": {
        "id": "lnPRbDKdrHxL",
        "outputId": "4443ac08-bbb4-4898-907b-0ae98481db4b",
        "colab": {
          "base_uri": "https://localhost:8080/",
          "height": 621,
          "referenced_widgets": [
            "e61da91e2454439aa729994bc16728e3",
            "925a6eaf39434405ba5925f6ae610c46",
            "7987a36eb9954318be2e5bfb28c07724",
            "4a91d021494e4a7bb46aff3506f9254d",
            "7e45c420d7e84a3b9e2b72471865f29e",
            "8e20087fbeb144d7bd91a263c77a6afe",
            "a623138471c34504b7769da6e1ee34e5",
            "92d89421f97d4c9c90acf69dba2ea874",
            "63ad617dfc8e4bbe85ba383310d9723a",
            "8f8b484d79cf4f7cab66969ecbbbcd59",
            "c7a91303548d4044bde60d0020c0b56a",
            "4217b4b2c49d4edfa1a65230bc5ecfaa",
            "d3ee14b596af45808da3cf92bc73a486",
            "01294f3cbb0147f0917fccf00f924b21"
          ]
        }
      },
      "outputs": [
        {
          "output_type": "stream",
          "name": "stdout",
          "text": [
            "Downloading: https://portal.ampl.com/dl/modules/ampl-module.linux64.tgz\n",
            "> /content/ampl.linux-intel64/leasefingerprint (replacing)\n",
            "> /content/ampl.linux-intel64/fingerprint (replacing)\n",
            "> /content/ampl.linux-intel64/amplkey (replacing)\n",
            "> /content/ampl.linux-intel64/eodbc.dll (replacing)\n",
            "> /content/ampl.linux-intel64/ampl.lic (replacing)\n",
            "> /content/ampl.linux-intel64/docs (replacing)\n",
            "> /content/ampl.linux-intel64/models (replacing)\n",
            "> /content/ampl.linux-intel64/ampl.env (replacing)\n",
            "> /content/ampl.linux-intel64/amplcsv.dll (replacing)\n",
            "> /content/ampl.linux-intel64/amplxl.dll (replacing)\n",
            "> /content/ampl.linux-intel64/README (replacing)\n",
            "> /content/ampl.linux-intel64/ampl (replacing)\n",
            "Downloading: https://portal.ampl.com/dl/modules/coin-module.linux64.tgz\n",
            "> /content/ampl.linux-intel64/ipopt (replacing)\n",
            "> /content/ampl.linux-intel64/couenne (replacing)\n",
            "> /content/ampl.linux-intel64/coin-versions.txt (replacing)\n",
            "> /content/ampl.linux-intel64/coin-license.txt (replacing)\n",
            "> /content/ampl.linux-intel64/bonmin (replacing)\n",
            "> /content/ampl.linux-intel64/cbc (replacing)\n",
            "Downloading: https://portal.ampl.com/dl/modules/x-gurobi-module.linux64.tgz\n",
            "> /content/ampl.linux-intel64/libgurobi95.so (replacing)\n",
            "> /content/ampl.linux-intel64/x-gurobi (replacing)\n",
            "> /content/ampl.linux-intel64/docs (replacing)\n",
            "AMPL License:\n"
          ]
        },
        {
          "output_type": "display_data",
          "data": {
            "text/plain": [
              "VBox(children=(HBox(children=(Button(description='Use demo license', style=ButtonStyle()), Text(value='', desc…"
            ],
            "application/vnd.jupyter.widget-view+json": {
              "version_major": 2,
              "version_minor": 0,
              "model_id": "e61da91e2454439aa729994bc16728e3"
            }
          },
          "metadata": {}
        }
      ],
      "source": [
        "# Google Colab & Kaggle interagration\n",
        "MODULES=['ampl', 'coin', 'x-gurobi']\n",
        "from ampltools import cloud_platform_name, ampl_notebook\n",
        "from amplpy import AMPL, register_magics\n",
        "if cloud_platform_name() is None:\n",
        "    ampl = AMPL() # Use local installation of AMPL\n",
        "else:\n",
        "    ampl = ampl_notebook(modules=MODULES, reinstall=True) # Install AMPL and use it\n",
        "register_magics(ampl_object=ampl) # Evaluate %%ampl_eval cells with ampl.eval()"
      ]
    },
    {
      "cell_type": "markdown",
      "metadata": {
        "id": "oXhSsNZ6rHxM"
      },
      "source": [
        "## Economic equilibria\n",
        "This model is based on the models showed in the Chapter 19 of the AMPL book, related to **complementarity problems**.\n",
        "\n",
        "### Classic model\n",
        "The following model does not use complementarity conditions.\n",
        "\n",
        "* Sets and parameters:\n",
        "     * Products `PROD` and `demand[i]` for each product `i`.\n",
        "     * Activities `ACT` and `cost[j]` for each activity `j`.\n",
        "     * Amount of product `i` produced by activity `j`, `io[i,j]`.\n",
        "* Decision variables `Level[j]`: levels of production activities (for each activity `j`).\n",
        "* Objective: minimize total production cost,\n",
        "$$\\sum \\limits_{j \\in ACT} cost_j \\cdot Level_j;$$\n",
        "\n",
        "So the AMPL formulation is implemented as:"
      ]
    },
    {
      "cell_type": "code",
      "execution_count": 3,
      "metadata": {
        "id": "7wQNrm8IrHxM",
        "outputId": "cd39ba64-3371-44cd-a681-9c13b16877d0",
        "colab": {
          "base_uri": "https://localhost:8080/"
        }
      },
      "outputs": [
        {
          "output_type": "stream",
          "name": "stdout",
          "text": [
            "Overwriting econmin.mod\n"
          ]
        }
      ],
      "source": [
        "%%writefile econmin.mod\n",
        "set PROD;   # products\n",
        "set ACT;    # activities\n",
        "\n",
        "param cost {ACT} > 0;      # cost per unit of each activity\n",
        "param demand {PROD} >= 0;  # units of demand for each product\n",
        "param io {PROD,ACT} >= 0;  # units of each product from\n",
        "                           # 1 unit of each activity\n",
        "\n",
        "var Level {j in ACT} >= 0;\n",
        "\n",
        "minimize Total_Cost:  sum {j in ACT} cost[j] * Level[j];\n",
        "\n",
        "subject to Demand {i in PROD}:\n",
        "      sum {j in ACT} io[i,j] * Level[j] >= demand[i];"
      ]
    },
    {
      "cell_type": "code",
      "execution_count": 4,
      "metadata": {
        "id": "dbuIaFDkrHxO",
        "outputId": "94ae1087-64a4-433c-c028-5d8ca3b557f7",
        "colab": {
          "base_uri": "https://localhost:8080/"
        }
      },
      "outputs": [
        {
          "output_type": "stream",
          "name": "stdout",
          "text": [
            "Overwriting econ.dat\n"
          ]
        }
      ],
      "source": [
        "%%writefile econ.dat\n",
        "data;\n",
        "\n",
        "param: ACT:   cost :=\n",
        "        P1    2450\n",
        "        P1a   1290\n",
        "        P2    1850\n",
        "        P2a   3700\n",
        "        P2b   2150\n",
        "        P3    2200\n",
        "        P3c   2370\n",
        "        P4    2170 ;\n",
        "\n",
        "param: PROD:  demand :=\n",
        "       AA1     70000 \n",
        "       AC1     80000\n",
        "       BC1     90000 \n",
        "       BC2     70000 \n",
        "       NA2    400000 \n",
        "       NA3    800000  ;\n",
        "\n",
        "param io (tr):\n",
        "         AA1  AC1  BC1  BC2   NA2   NA3 :=\n",
        "   P1     60   20   10   15   938   295\n",
        "   P1a     8    0   20   20  1180   770\n",
        "   P2      8   10   15   10   945   440\n",
        "   P2a    40   40   35   10   278   430\n",
        "   P2b    15   35   15   15  1182   315\n",
        "   P3     70   30   15   15   896   400\n",
        "   P3c    25   40   30   30  1029   370\n",
        "   P4     60   20   15   10  1397   450 ;\n"
      ]
    },
    {
      "cell_type": "code",
      "execution_count": 5,
      "metadata": {
        "id": "FUFQu5E4rHxP",
        "outputId": "9dd0bb87-59f1-4fe9-8443-02cf0549604a",
        "colab": {
          "base_uri": "https://localhost:8080/"
        }
      },
      "outputs": [
        {
          "output_type": "stream",
          "name": "stdout",
          "text": [
            "CBC 2.10.5: \b\b\b\b\b\b\b\b\b\b\b\bCBC 2.10.5 optimal, objective 6808640.553\n",
            "3 iterations\n",
            "Level [*] :=\n",
            " P1     0\n",
            "P1a  1555.3\n",
            " P2     0\n",
            "P2a     0\n",
            "P2b     0\n",
            " P3   147.465\n",
            "P3c  1889.4\n",
            " P4     0\n",
            ";\n",
            "\n",
            "Demand.dual [*] :=\n",
            "AA1  16.7051\n",
            "AC1   5.44585\n",
            "BC1  57.818\n",
            "BC2   0\n",
            "NA2   0\n",
            "NA3   0\n",
            ";\n",
            "\n"
          ]
        }
      ],
      "source": [
        "%%ampl_eval\n",
        "model econmin.mod;\n",
        "data econ.dat;\n",
        "option solver cbc;\n",
        "solve;\n",
        "display Level;\n",
        "display Demand.dual;"
      ]
    },
    {
      "cell_type": "markdown",
      "metadata": {
        "id": "OSSVGjxIrHxQ"
      },
      "source": [
        "### Complementarity model\n",
        "\n",
        "Consider the new variables `Price[i]` for each product, and solve the problem to find an *equilibrium* instead of an optimum solution. The equilibrium is subject to two conditions:\n",
        "\n",
        "* First, for each product, total output must meet demand and price must be nonnegative, and in addition there must be a *complementarity* between these relationships, where production exceeds demand the price must be zero, or equivalently, if the price is positive, the production must equal the demand.\n",
        "\n",
        "```\n",
        "subject to Pri_Compl {i in PROD}:\n",
        "   Price[i] >= 0 complements\n",
        "      sum {j in ACT} io[i,j] * Level[j] >= demand[i];\n",
        "```\n",
        "\n",
        "* Second, for each activity `j`, the value of resulting product `i` is `Price[i]*io[i,j]`, so activity `j` would produce a total value of \n",
        "\n",
        "$$\\sum \\limits_{i \\in PROD} Price[i] \\cdot io[i,j]$$\n",
        "\n",
        "When equilibrium happens, the previous value must not exceed the activity's cost per unit `cost[j]`. Moreover, there is a complementarity between this relationship and the level of activity `j`, where cost exceeds total value the activity must be zero, or, where the activity cost is positive then the total value must be equal to the cost. This can be expressed as:\n",
        "\n",
        "```\n",
        "subject to Lev_Compl {j in ACT}:\n",
        "   Level[j] >= 0 complements\n",
        "      sum {i in PROD} Price[i] * io[i,j] <= cost[j];\n",
        "```"
      ]
    },
    {
      "cell_type": "code",
      "execution_count": 6,
      "metadata": {
        "id": "LXR5ufh7rHxS",
        "outputId": "94cd1a2a-b0f0-4db3-b3cd-031ac4933e23",
        "colab": {
          "base_uri": "https://localhost:8080/"
        }
      },
      "outputs": [
        {
          "output_type": "stream",
          "name": "stdout",
          "text": [
            "Overwriting econ.mod\n"
          ]
        }
      ],
      "source": [
        "%%writefile econ.mod\n",
        "set PROD;   # products\n",
        "set ACT;    # activities\n",
        "\n",
        "param cost {ACT} > 0;      # cost per unit of each activity\n",
        "param demand {PROD} >= 0;  # units of demand for each product\n",
        "param io {PROD,ACT} >= 0;  # units of each product from\n",
        "                           # 1 unit of each activity\n",
        "var Price {i in PROD};\n",
        "var Level {j in ACT};\n",
        "\n",
        "subject to Pri_Compl {i in PROD}:\n",
        "   Price[i] >= 0 complements\n",
        "      sum {j in ACT} io[i,j] * Level[j] >= demand[i];\n",
        "\n",
        "subject to Lev_Compl {j in ACT}:\n",
        "   Level[j] >= 0 complements\n",
        "      sum {i in PROD} Price[i] * io[i,j] <= cost[j];"
      ]
    },
    {
      "cell_type": "markdown",
      "metadata": {
        "id": "T_VxZTpprHxT"
      },
      "source": [
        "**Remark**: the model is square, as there are $n+m$ variables and $n+m$ constraints ($n$ number of products and $m$ number of activities). Some solvers can take advantage of this to use different solving techniques.\n",
        "\n",
        "Finally, let's see that the equilibrium model gives also the optimal solution for the first classic formulation."
      ]
    },
    {
      "cell_type": "code",
      "execution_count": 7,
      "metadata": {
        "id": "QSWaH19ErHxT",
        "outputId": "b915bdb8-e533-40fe-a506-f77983bb3f7d",
        "colab": {
          "base_uri": "https://localhost:8080/"
        }
      },
      "outputs": [
        {
          "output_type": "stream",
          "name": "stdout",
          "text": [
            "x-Gurobi 9.5.1: \b\b\b\b\b\b\b\b\b\b\b\b\b\b\b\bx-Gurobi 9.5.1: optimal solution; objective 0\n",
            "sum{j in ACT} cost[j]*Level[j] = 6808640\n",
            "\n",
            "Level [*] :=\n",
            " P1     0\n",
            "P1a  1555.3\n",
            " P2     0\n",
            "P2a     0\n",
            "P2b     0\n",
            " P3   147.465\n",
            "P3c  1889.4\n",
            " P4     0\n",
            ";\n",
            "\n"
          ]
        }
      ],
      "source": [
        "%%ampl_eval\n",
        "reset;\n",
        "model econ.mod;\n",
        "data econ.dat;\n",
        "option solver x-gurobi;\n",
        "solve;\n",
        "# Show total cost\n",
        "display sum {j in ACT} cost[j] * Level[j];\n",
        "display Level;"
      ]
    }
  ],
  "metadata": {
    "kernelspec": {
      "display_name": "Python 3",
      "language": "python",
      "name": "python3"
    },
    "language_info": {
      "codemirror_mode": {
        "name": "ipython",
        "version": 3
      },
      "file_extension": ".py",
      "mimetype": "text/x-python",
      "name": "python",
      "nbconvert_exporter": "python",
      "pygments_lexer": "ipython3",
      "version": "3.6.9"
    },
    "colab": {
      "name": "econ_lecture.ipynb",
      "provenance": [],
      "collapsed_sections": []
    },
    "widgets": {
      "application/vnd.jupyter.widget-state+json": {
        "e61da91e2454439aa729994bc16728e3": {
          "model_module": "@jupyter-widgets/controls",
          "model_name": "VBoxModel",
          "model_module_version": "1.5.0",
          "state": {
            "_dom_classes": [],
            "_model_module": "@jupyter-widgets/controls",
            "_model_module_version": "1.5.0",
            "_model_name": "VBoxModel",
            "_view_count": null,
            "_view_module": "@jupyter-widgets/controls",
            "_view_module_version": "1.5.0",
            "_view_name": "VBoxView",
            "box_style": "",
            "children": [
              "IPY_MODEL_925a6eaf39434405ba5925f6ae610c46",
              "IPY_MODEL_7987a36eb9954318be2e5bfb28c07724",
              "IPY_MODEL_4a91d021494e4a7bb46aff3506f9254d"
            ],
            "layout": "IPY_MODEL_7e45c420d7e84a3b9e2b72471865f29e"
          }
        },
        "925a6eaf39434405ba5925f6ae610c46": {
          "model_module": "@jupyter-widgets/controls",
          "model_name": "HBoxModel",
          "model_module_version": "1.5.0",
          "state": {
            "_dom_classes": [],
            "_model_module": "@jupyter-widgets/controls",
            "_model_module_version": "1.5.0",
            "_model_name": "HBoxModel",
            "_view_count": null,
            "_view_module": "@jupyter-widgets/controls",
            "_view_module_version": "1.5.0",
            "_view_name": "HBoxView",
            "box_style": "",
            "children": [
              "IPY_MODEL_8e20087fbeb144d7bd91a263c77a6afe",
              "IPY_MODEL_a623138471c34504b7769da6e1ee34e5"
            ],
            "layout": "IPY_MODEL_92d89421f97d4c9c90acf69dba2ea874"
          }
        },
        "7987a36eb9954318be2e5bfb28c07724": {
          "model_module": "@jupyter-widgets/output",
          "model_name": "OutputModel",
          "model_module_version": "1.0.0",
          "state": {
            "_dom_classes": [],
            "_model_module": "@jupyter-widgets/output",
            "_model_module_version": "1.0.0",
            "_model_name": "OutputModel",
            "_view_count": null,
            "_view_module": "@jupyter-widgets/output",
            "_view_module_version": "1.0.0",
            "_view_name": "OutputView",
            "layout": "IPY_MODEL_d3ee14b596af45808da3cf92bc73a486",
            "msg_id": "",
            "outputs": [
              {
                "output_type": "stream",
                "name": "stdout",
                "text": [
                  "Using demo license.\n"
                ]
              }
            ]
          }
        },
        "4a91d021494e4a7bb46aff3506f9254d": {
          "model_module": "@jupyter-widgets/output",
          "model_name": "OutputModel",
          "model_module_version": "1.0.0",
          "state": {
            "_dom_classes": [],
            "_model_module": "@jupyter-widgets/output",
            "_model_module_version": "1.0.0",
            "_model_name": "OutputModel",
            "_view_count": null,
            "_view_module": "@jupyter-widgets/output",
            "_view_module_version": "1.0.0",
            "_view_name": "OutputView",
            "layout": "IPY_MODEL_01294f3cbb0147f0917fccf00f924b21",
            "msg_id": "",
            "outputs": [
              {
                "output_type": "stream",
                "name": "stdout",
                "text": [
                  "\n",
                  "AMPL Version 20220506 (Linux-5.4.0-1080-azure, 64-bit)\n",
                  "Demo license with maintenance expiring 20240131.\n",
                  "Using license file \"/content/ampl.linux-intel64/ampl.lic\".\n",
                  "\n"
                ]
              }
            ]
          }
        },
        "7e45c420d7e84a3b9e2b72471865f29e": {
          "model_module": "@jupyter-widgets/base",
          "model_name": "LayoutModel",
          "model_module_version": "1.2.0",
          "state": {
            "_model_module": "@jupyter-widgets/base",
            "_model_module_version": "1.2.0",
            "_model_name": "LayoutModel",
            "_view_count": null,
            "_view_module": "@jupyter-widgets/base",
            "_view_module_version": "1.2.0",
            "_view_name": "LayoutView",
            "align_content": null,
            "align_items": null,
            "align_self": null,
            "border": null,
            "bottom": null,
            "display": null,
            "flex": null,
            "flex_flow": null,
            "grid_area": null,
            "grid_auto_columns": null,
            "grid_auto_flow": null,
            "grid_auto_rows": null,
            "grid_column": null,
            "grid_gap": null,
            "grid_row": null,
            "grid_template_areas": null,
            "grid_template_columns": null,
            "grid_template_rows": null,
            "height": null,
            "justify_content": null,
            "justify_items": null,
            "left": null,
            "margin": null,
            "max_height": null,
            "max_width": null,
            "min_height": null,
            "min_width": null,
            "object_fit": null,
            "object_position": null,
            "order": null,
            "overflow": null,
            "overflow_x": null,
            "overflow_y": null,
            "padding": null,
            "right": null,
            "top": null,
            "visibility": null,
            "width": null
          }
        },
        "8e20087fbeb144d7bd91a263c77a6afe": {
          "model_module": "@jupyter-widgets/controls",
          "model_name": "ButtonModel",
          "model_module_version": "1.5.0",
          "state": {
            "_dom_classes": [],
            "_model_module": "@jupyter-widgets/controls",
            "_model_module_version": "1.5.0",
            "_model_name": "ButtonModel",
            "_view_count": null,
            "_view_module": "@jupyter-widgets/controls",
            "_view_module_version": "1.5.0",
            "_view_name": "ButtonView",
            "button_style": "",
            "description": "Use demo license",
            "disabled": false,
            "icon": "",
            "layout": "IPY_MODEL_63ad617dfc8e4bbe85ba383310d9723a",
            "style": "IPY_MODEL_8f8b484d79cf4f7cab66969ecbbbcd59",
            "tooltip": ""
          }
        },
        "a623138471c34504b7769da6e1ee34e5": {
          "model_module": "@jupyter-widgets/controls",
          "model_name": "TextModel",
          "model_module_version": "1.5.0",
          "state": {
            "_dom_classes": [],
            "_model_module": "@jupyter-widgets/controls",
            "_model_module_version": "1.5.0",
            "_model_name": "TextModel",
            "_view_count": null,
            "_view_module": "@jupyter-widgets/controls",
            "_view_module_version": "1.5.0",
            "_view_name": "TextView",
            "continuous_update": true,
            "description": "UUID:",
            "description_tooltip": null,
            "disabled": false,
            "layout": "IPY_MODEL_c7a91303548d4044bde60d0020c0b56a",
            "placeholder": "​",
            "style": "IPY_MODEL_4217b4b2c49d4edfa1a65230bc5ecfaa",
            "value": ""
          }
        },
        "92d89421f97d4c9c90acf69dba2ea874": {
          "model_module": "@jupyter-widgets/base",
          "model_name": "LayoutModel",
          "model_module_version": "1.2.0",
          "state": {
            "_model_module": "@jupyter-widgets/base",
            "_model_module_version": "1.2.0",
            "_model_name": "LayoutModel",
            "_view_count": null,
            "_view_module": "@jupyter-widgets/base",
            "_view_module_version": "1.2.0",
            "_view_name": "LayoutView",
            "align_content": null,
            "align_items": null,
            "align_self": null,
            "border": null,
            "bottom": null,
            "display": null,
            "flex": null,
            "flex_flow": null,
            "grid_area": null,
            "grid_auto_columns": null,
            "grid_auto_flow": null,
            "grid_auto_rows": null,
            "grid_column": null,
            "grid_gap": null,
            "grid_row": null,
            "grid_template_areas": null,
            "grid_template_columns": null,
            "grid_template_rows": null,
            "height": null,
            "justify_content": null,
            "justify_items": null,
            "left": null,
            "margin": null,
            "max_height": null,
            "max_width": null,
            "min_height": null,
            "min_width": null,
            "object_fit": null,
            "object_position": null,
            "order": null,
            "overflow": null,
            "overflow_x": null,
            "overflow_y": null,
            "padding": null,
            "right": null,
            "top": null,
            "visibility": null,
            "width": null
          }
        },
        "63ad617dfc8e4bbe85ba383310d9723a": {
          "model_module": "@jupyter-widgets/base",
          "model_name": "LayoutModel",
          "model_module_version": "1.2.0",
          "state": {
            "_model_module": "@jupyter-widgets/base",
            "_model_module_version": "1.2.0",
            "_model_name": "LayoutModel",
            "_view_count": null,
            "_view_module": "@jupyter-widgets/base",
            "_view_module_version": "1.2.0",
            "_view_name": "LayoutView",
            "align_content": null,
            "align_items": null,
            "align_self": null,
            "border": null,
            "bottom": null,
            "display": null,
            "flex": null,
            "flex_flow": null,
            "grid_area": null,
            "grid_auto_columns": null,
            "grid_auto_flow": null,
            "grid_auto_rows": null,
            "grid_column": null,
            "grid_gap": null,
            "grid_row": null,
            "grid_template_areas": null,
            "grid_template_columns": null,
            "grid_template_rows": null,
            "height": null,
            "justify_content": null,
            "justify_items": null,
            "left": null,
            "margin": null,
            "max_height": null,
            "max_width": null,
            "min_height": null,
            "min_width": null,
            "object_fit": null,
            "object_position": null,
            "order": null,
            "overflow": null,
            "overflow_x": null,
            "overflow_y": null,
            "padding": null,
            "right": null,
            "top": null,
            "visibility": null,
            "width": null
          }
        },
        "8f8b484d79cf4f7cab66969ecbbbcd59": {
          "model_module": "@jupyter-widgets/controls",
          "model_name": "ButtonStyleModel",
          "model_module_version": "1.5.0",
          "state": {
            "_model_module": "@jupyter-widgets/controls",
            "_model_module_version": "1.5.0",
            "_model_name": "ButtonStyleModel",
            "_view_count": null,
            "_view_module": "@jupyter-widgets/base",
            "_view_module_version": "1.2.0",
            "_view_name": "StyleView",
            "button_color": null,
            "font_weight": ""
          }
        },
        "c7a91303548d4044bde60d0020c0b56a": {
          "model_module": "@jupyter-widgets/base",
          "model_name": "LayoutModel",
          "model_module_version": "1.2.0",
          "state": {
            "_model_module": "@jupyter-widgets/base",
            "_model_module_version": "1.2.0",
            "_model_name": "LayoutModel",
            "_view_count": null,
            "_view_module": "@jupyter-widgets/base",
            "_view_module_version": "1.2.0",
            "_view_name": "LayoutView",
            "align_content": null,
            "align_items": null,
            "align_self": null,
            "border": null,
            "bottom": null,
            "display": null,
            "flex": null,
            "flex_flow": null,
            "grid_area": null,
            "grid_auto_columns": null,
            "grid_auto_flow": null,
            "grid_auto_rows": null,
            "grid_column": null,
            "grid_gap": null,
            "grid_row": null,
            "grid_template_areas": null,
            "grid_template_columns": null,
            "grid_template_rows": null,
            "height": null,
            "justify_content": null,
            "justify_items": null,
            "left": null,
            "margin": null,
            "max_height": null,
            "max_width": null,
            "min_height": null,
            "min_width": null,
            "object_fit": null,
            "object_position": null,
            "order": null,
            "overflow": null,
            "overflow_x": null,
            "overflow_y": null,
            "padding": null,
            "right": null,
            "top": null,
            "visibility": null,
            "width": null
          }
        },
        "4217b4b2c49d4edfa1a65230bc5ecfaa": {
          "model_module": "@jupyter-widgets/controls",
          "model_name": "DescriptionStyleModel",
          "model_module_version": "1.5.0",
          "state": {
            "_model_module": "@jupyter-widgets/controls",
            "_model_module_version": "1.5.0",
            "_model_name": "DescriptionStyleModel",
            "_view_count": null,
            "_view_module": "@jupyter-widgets/base",
            "_view_module_version": "1.2.0",
            "_view_name": "StyleView",
            "description_width": ""
          }
        },
        "d3ee14b596af45808da3cf92bc73a486": {
          "model_module": "@jupyter-widgets/base",
          "model_name": "LayoutModel",
          "model_module_version": "1.2.0",
          "state": {
            "_model_module": "@jupyter-widgets/base",
            "_model_module_version": "1.2.0",
            "_model_name": "LayoutModel",
            "_view_count": null,
            "_view_module": "@jupyter-widgets/base",
            "_view_module_version": "1.2.0",
            "_view_name": "LayoutView",
            "align_content": null,
            "align_items": null,
            "align_self": null,
            "border": null,
            "bottom": null,
            "display": null,
            "flex": null,
            "flex_flow": null,
            "grid_area": null,
            "grid_auto_columns": null,
            "grid_auto_flow": null,
            "grid_auto_rows": null,
            "grid_column": null,
            "grid_gap": null,
            "grid_row": null,
            "grid_template_areas": null,
            "grid_template_columns": null,
            "grid_template_rows": null,
            "height": null,
            "justify_content": null,
            "justify_items": null,
            "left": null,
            "margin": null,
            "max_height": null,
            "max_width": null,
            "min_height": null,
            "min_width": null,
            "object_fit": null,
            "object_position": null,
            "order": null,
            "overflow": null,
            "overflow_x": null,
            "overflow_y": null,
            "padding": null,
            "right": null,
            "top": null,
            "visibility": null,
            "width": null
          }
        },
        "01294f3cbb0147f0917fccf00f924b21": {
          "model_module": "@jupyter-widgets/base",
          "model_name": "LayoutModel",
          "model_module_version": "1.2.0",
          "state": {
            "_model_module": "@jupyter-widgets/base",
            "_model_module_version": "1.2.0",
            "_model_name": "LayoutModel",
            "_view_count": null,
            "_view_module": "@jupyter-widgets/base",
            "_view_module_version": "1.2.0",
            "_view_name": "LayoutView",
            "align_content": null,
            "align_items": null,
            "align_self": null,
            "border": null,
            "bottom": null,
            "display": null,
            "flex": null,
            "flex_flow": null,
            "grid_area": null,
            "grid_auto_columns": null,
            "grid_auto_flow": null,
            "grid_auto_rows": null,
            "grid_column": null,
            "grid_gap": null,
            "grid_row": null,
            "grid_template_areas": null,
            "grid_template_columns": null,
            "grid_template_rows": null,
            "height": null,
            "justify_content": null,
            "justify_items": null,
            "left": null,
            "margin": null,
            "max_height": null,
            "max_width": null,
            "min_height": null,
            "min_width": null,
            "object_fit": null,
            "object_position": null,
            "order": null,
            "overflow": null,
            "overflow_x": null,
            "overflow_y": null,
            "padding": null,
            "right": null,
            "top": null,
            "visibility": null,
            "width": null
          }
        }
      }
    }
  },
  "nbformat": 4,
  "nbformat_minor": 0
}