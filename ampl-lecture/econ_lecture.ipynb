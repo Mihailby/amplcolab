{
 "cells": [
  {
   "cell_type": "markdown",
   "metadata": {},
   "source": [
    "# Book Example: Economic equilibria\n",
    "[![econ_lecture.ipynb](https://img.shields.io/badge/github-%23121011.svg?logo=github)](https://github.com/ampl/amplcolab/blob/master/ampl-lecture/econ_lecture.ipynb) [![Open In Colab](https://colab.research.google.com/assets/colab-badge.svg)](https://colab.research.google.com/github/ampl/amplcolab/blob/master/ampl-lecture/econ_lecture.ipynb) [![Kaggle](https://kaggle.com/static/images/open-in-kaggle.svg)](https://kaggle.com/kernels/welcome?src=https://github.com/ampl/amplcolab/blob/master/ampl-lecture/econ_lecture.ipynb) [![Gradient](https://assets.paperspace.io/img/gradient-badge.svg)](https://console.paperspace.com/github/ampl/amplcolab/blob/master/ampl-lecture/econ_lecture.ipynb) [![Open In SageMaker Studio Lab](https://studiolab.sagemaker.aws/studiolab.svg)](https://studiolab.sagemaker.aws/import/github/ampl/amplcolab/blob/master/ampl-lecture/econ_lecture.ipynb)\n",
    "\n",
    "Description: economic model using complementarity conditions from Chapter 19 AMPL book\n",
    "\n",
    "Tags: ampl-only, ampl-book, complementarity_problem\n",
    "\n",
    "Notebook author: N/A\n",
    "\n",
    "Model author: N/A\n"
   ]
  },
  {
   "cell_type": "code",
   "execution_count": 1,
   "metadata": {},
   "outputs": [],
   "source": [
    "# Install dependencies\n",
    "!pip install -q amplpy ampltools"
   ]
  },
  {
   "cell_type": "code",
   "execution_count": 2,
   "metadata": {},
   "outputs": [],
   "source": [
    "# Google Colab & Kaggle interagration\n",
    "MODULES=['ampl', 'coin', 'knitro']\n",
    "from ampltools import cloud_platform_name, ampl_notebook\n",
    "from amplpy import AMPL, register_magics\n",
    "if cloud_platform_name() is None:\n",
    "    ampl = AMPL() # Use local installation of AMPL\n",
    "else:\n",
    "    ampl = ampl_notebook(modules=MODULES) # Install AMPL and use it\n",
    "register_magics(ampl_object=ampl) # Evaluate %%ampl_eval cells with ampl.eval()"
   ]
  },
  {
   "cell_type": "markdown",
   "metadata": {},
   "source": [
    "## Economic equilibria\n",
    "This model is based on the models showed in the Chapter 19 of the AMPL book, related to **complementarity problems**.\n",
    "\n",
    "### Classic model\n",
    "The following model does not use complementarity conditions.\n",
    "\n",
    "* Sets and parameters:\n",
    "     * Products `PROD` and `demand[i]` for each product `i`.\n",
    "     * Activities `ACT` and `cost[j]` for each activity `j`.\n",
    "     * Amount of product `i` produced by activity `j`, `io[i,j]`.\n",
    "* Decision variables `Level[j]`: levels of production activities (for each activity `j`).\n",
    "* Objective: minimize total production cost,\n",
    "$$\\sum \\limits_{j \\in ACT} cost_j \\cdot Level_j;$$\n",
    "\n",
    "So the AMPL formulation is implemented as:"
   ]
  },
  {
   "cell_type": "code",
   "execution_count": 3,
   "metadata": {},
   "outputs": [
    {
     "name": "stdout",
     "output_type": "stream",
     "text": [
      "Writing econmin.mod\n"
     ]
    }
   ],
   "source": [
    "%%writefile econmin.mod\n",
    "set PROD;   # products\n",
    "set ACT;    # activities\n",
    "\n",
    "param cost {ACT} > 0;      # cost per unit of each activity\n",
    "param demand {PROD} >= 0;  # units of demand for each product\n",
    "param io {PROD,ACT} >= 0;  # units of each product from\n",
    "                           # 1 unit of each activity\n",
    "\n",
    "var Level {j in ACT} >= 0;\n",
    "\n",
    "minimize Total_Cost:  sum {j in ACT} cost[j] * Level[j];\n",
    "\n",
    "subject to Demand {i in PROD}:\n",
    "      sum {j in ACT} io[i,j] * Level[j] >= demand[i];"
   ]
  },
  {
   "cell_type": "code",
   "execution_count": 4,
   "metadata": {},
   "outputs": [
    {
     "name": "stdout",
     "output_type": "stream",
     "text": [
      "Writing econ.dat\n"
     ]
    }
   ],
   "source": [
    "%%writefile econ.dat\n",
    "data;\n",
    "\n",
    "param: ACT:   cost :=\n",
    "        P1    2450\n",
    "        P1a   1290\n",
    "        P2    1850\n",
    "        P2a   3700\n",
    "        P2b   2150\n",
    "        P3    2200\n",
    "        P3c   2370\n",
    "        P4    2170 ;\n",
    "\n",
    "param: PROD:  demand :=\n",
    "       AA1     70000 \n",
    "       AC1     80000\n",
    "       BC1     90000 \n",
    "       BC2     70000 \n",
    "       NA2    400000 \n",
    "       NA3    800000  ;\n",
    "\n",
    "param io (tr):\n",
    "         AA1  AC1  BC1  BC2   NA2   NA3 :=\n",
    "   P1     60   20   10   15   938   295\n",
    "   P1a     8    0   20   20  1180   770\n",
    "   P2      8   10   15   10   945   440\n",
    "   P2a    40   40   35   10   278   430\n",
    "   P2b    15   35   15   15  1182   315\n",
    "   P3     70   30   15   15   896   400\n",
    "   P3c    25   40   30   30  1029   370\n",
    "   P4     60   20   15   10  1397   450 ;\n"
   ]
  },
  {
   "cell_type": "code",
   "execution_count": 5,
   "metadata": {},
   "outputs": [
    {
     "name": "stdout",
     "output_type": "stream",
     "text": [
      "CBC 2.10.5: \b\b\b\b\b\b\b\b\b\b\b\bCBC 2.10.5 optimal, objective 6808640.553\n",
      "3 iterations\n",
      "Level [*] :=\n",
      " P1     0\n",
      "P1a  1555.3\n",
      " P2     0\n",
      "P2a     0\n",
      "P2b     0\n",
      " P3   147.465\n",
      "P3c  1889.4\n",
      " P4     0\n",
      ";\n",
      "\n",
      "Demand.dual [*] :=\n",
      "AA1  16.7051\n",
      "AC1   5.44585\n",
      "BC1  57.818\n",
      "BC2   0\n",
      "NA2   0\n",
      "NA3   0\n",
      ";\n",
      "\n"
     ]
    }
   ],
   "source": [
    "%%ampl_eval\n",
    "model econmin.mod;\n",
    "data econ.dat;\n",
    "option solver cbc;\n",
    "solve;\n",
    "display Level;\n",
    "display Demand.dual;"
   ]
  },
  {
   "cell_type": "markdown",
   "metadata": {},
   "source": [
    "### Complementarity model\n",
    "\n",
    "Consider the new variables `Price[i]` for each product, and solve the problem to find an *equilibrium* instead of an optimum solution. The equilibrium is subject to two conditions:\n",
    "\n",
    "* First, for each product, total output must meet demand and price must be nonnegative, and in addition there must be a *complementarity* between these relationships, where production exceeds demand the price must be zero, or equivalently, if the price is positive, the production must equal the demand.\n",
    "\n",
    "```\n",
    "subject to Pri_Compl {i in PROD}:\n",
    "   Price[i] >= 0 complements\n",
    "      sum {j in ACT} io[i,j] * Level[j] >= demand[i];\n",
    "```\n",
    "\n",
    "* Second, for each activity `j`, the value of resulting product `i` is `Price[i]*io[i,j]`, so activity `j` would produce a total value of \n",
    "\n",
    "$$\\sum \\limits_{i \\in PROD} Price[i] \\cdot io[i,j]$$\n",
    "\n",
    "When equilibrium happens, the previous value must not exceed the activity's cost per unit `cost[j]`. Moreover, there is a complementarity between this relationship and the level of activity `j`, where cost exceeds total value the activity must be zero, or, where the activity cost is positive then the total value must be equal to the cost. This can be expressed as:\n",
    "\n",
    "```\n",
    "subject to Lev_Compl {j in ACT}:\n",
    "   Level[j] >= 0 complements\n",
    "      sum {i in PROD} Price[i] * io[i,j] <= cost[j];\n",
    "```"
   ]
  },
  {
   "cell_type": "code",
   "execution_count": 6,
   "metadata": {},
   "outputs": [
    {
     "name": "stdout",
     "output_type": "stream",
     "text": [
      "Writing econ.mod\n"
     ]
    }
   ],
   "source": [
    "%%writefile econ.mod\n",
    "set PROD;   # products\n",
    "set ACT;    # activities\n",
    "\n",
    "param cost {ACT} > 0;      # cost per unit of each activity\n",
    "param demand {PROD} >= 0;  # units of demand for each product\n",
    "param io {PROD,ACT} >= 0;  # units of each product from\n",
    "                           # 1 unit of each activity\n",
    "var Price {i in PROD};\n",
    "var Level {j in ACT};\n",
    "\n",
    "subject to Pri_Compl {i in PROD}:\n",
    "   Price[i] >= 0 complements\n",
    "      sum {j in ACT} io[i,j] * Level[j] >= demand[i];\n",
    "\n",
    "subject to Lev_Compl {j in ACT}:\n",
    "   Level[j] >= 0 complements\n",
    "      sum {i in PROD} Price[i] * io[i,j] <= cost[j];"
   ]
  },
  {
   "cell_type": "markdown",
   "metadata": {},
   "source": [
    "**Remark**: the model is square, as there are $n+m$ variables and $n+m$ constraints ($n$ number of products and $m$ number of activities). Some solvers can take advantage of this to use different solving techniques.\n",
    "\n",
    "Finally, let's see that the equilibrium model gives also the optimal solution for the first classic formulation."
   ]
  },
  {
   "cell_type": "code",
   "execution_count": 7,
   "metadata": {},
   "outputs": [
    {
     "name": "stdout",
     "output_type": "stream",
     "text": [
      "Ipopt 3.12.13: terminate called after throwing an instance of 'Ipopt::IpoptException'\n",
      "error running ipopt:\n",
      "\ttermination code 134; core file written\n",
      "<BREAK>\n"
     ]
    }
   ],
   "source": [
    "%%ampl_eval\n",
    "reset;\n",
    "model econ.mod;\n",
    "data econ.dat;\n",
    "option solver knitro;\n",
    "option knitro_options 'outlev=0';\n",
    "solve;\n",
    "# Show total cost\n",
    "display sum {j in ACT} cost[j] * Level[j];\n",
    "display Level;"
   ]
  }
 ],
 "metadata": {
  "kernelspec": {
   "display_name": "Python 3",
   "language": "python",
   "name": "python3"
  },
  "language_info": {
   "codemirror_mode": {
    "name": "ipython",
    "version": 3
   },
   "file_extension": ".py",
   "mimetype": "text/x-python",
   "name": "python",
   "nbconvert_exporter": "python",
   "pygments_lexer": "ipython3",
   "version": "3.6.9"
  }
 },
 "nbformat": 4,
 "nbformat_minor": 2
}
