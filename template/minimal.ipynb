{
 "cells": [
  {
   "cell_type": "code",
   "execution_count": 1,
   "metadata": {
    "id": "3xDtAc-Fa6An"
   },
   "outputs": [
    {
     "name": "stdout",
     "output_type": "stream",
     "text": [
      "Please provide a valid license UUID. You can use a free https://ampl.com/ce license.\n"
     ]
    },
    {
     "data": {
      "application/vnd.jupyter.widget-view+json": {
       "model_id": "1a109a3e8ac34fe4a0fa2ad7f6d6a160",
       "version_major": 2,
       "version_minor": 0
      },
      "text/plain": [
       "VBox(children=(Output(), HBox(children=(Text(value='', description='License UUID:', style=DescriptionStyle(des…"
      ]
     },
     "metadata": {},
     "output_type": "display_data"
    }
   ],
   "source": [
    "# The only 3 lines you need to install and use AMPL with any solver on Colab\n",
    "!pip install -q amplpy\n",
    "from amplpy import tools\n",
    "ampl = tools.ampl_notebook(\n",
    "    modules=[\"highs\", \"gurobi\"], # pick from over 20 modules including most commercial and open-source solvers\n",
    "    license_uuid=\"your-license-uuid\") # use your AMPL Community Edition License UUID to gain access to commercial solver trials"
   ]
  },
  {
   "cell_type": "code",
   "execution_count": 2,
   "metadata": {
    "id": "4oBfIvMzbnvk"
   },
   "outputs": [],
   "source": [
    "%%ampl_eval\n",
    "reset;\n",
    "set ITEMS;\n",
    "\n",
    "param weight{ITEMS};\n",
    "param value{ITEMS};\n",
    "param max_weight;\n",
    "\n",
    "var x{ITEMS} binary;\n",
    "\n",
    "maximize total_value: sum{i in ITEMS} value[i] * x[i];\n",
    "\n",
    "subject to weight_constraint: sum{i in ITEMS} weight[i] * x[i] <= max_weight;"
   ]
  },
  {
   "cell_type": "code",
   "execution_count": 3,
   "metadata": {
    "colab": {
     "base_uri": "https://localhost:8080/",
     "height": 415
    },
    "id": "plPCDhdhjivI",
    "outputId": "6dc35e3e-e835-4ea7-8f33-8f987bc7bd93"
   },
   "outputs": [
    {
     "name": "stdout",
     "output_type": "stream",
     "text": [
      "HiGHS 1.5.1: HiGHS 1.5.1: optimal solution; objective 1157\n",
      "1 simplex iterations\n",
      "1 branching nodes\n"
     ]
    },
    {
     "data": {
      "text/html": [
       "<div>\n",
       "<style scoped>\n",
       "    .dataframe tbody tr th:only-of-type {\n",
       "        vertical-align: middle;\n",
       "    }\n",
       "\n",
       "    .dataframe tbody tr th {\n",
       "        vertical-align: top;\n",
       "    }\n",
       "\n",
       "    .dataframe thead th {\n",
       "        text-align: right;\n",
       "    }\n",
       "</style>\n",
       "<table border=\"1\" class=\"dataframe\">\n",
       "  <thead>\n",
       "    <tr style=\"text-align: right;\">\n",
       "      <th></th>\n",
       "      <th>x</th>\n",
       "    </tr>\n",
       "  </thead>\n",
       "  <tbody>\n",
       "    <tr>\n",
       "      <th>1.0</th>\n",
       "      <td>0.0</td>\n",
       "    </tr>\n",
       "    <tr>\n",
       "      <th>2.0</th>\n",
       "      <td>1.0</td>\n",
       "    </tr>\n",
       "    <tr>\n",
       "      <th>3.0</th>\n",
       "      <td>1.0</td>\n",
       "    </tr>\n",
       "    <tr>\n",
       "      <th>4.0</th>\n",
       "      <td>1.0</td>\n",
       "    </tr>\n",
       "    <tr>\n",
       "      <th>5.0</th>\n",
       "      <td>1.0</td>\n",
       "    </tr>\n",
       "    <tr>\n",
       "      <th>6.0</th>\n",
       "      <td>0.0</td>\n",
       "    </tr>\n",
       "    <tr>\n",
       "      <th>7.0</th>\n",
       "      <td>1.0</td>\n",
       "    </tr>\n",
       "    <tr>\n",
       "      <th>8.0</th>\n",
       "      <td>1.0</td>\n",
       "    </tr>\n",
       "    <tr>\n",
       "      <th>9.0</th>\n",
       "      <td>1.0</td>\n",
       "    </tr>\n",
       "    <tr>\n",
       "      <th>10.0</th>\n",
       "      <td>0.0</td>\n",
       "    </tr>\n",
       "  </tbody>\n",
       "</table>\n",
       "</div>"
      ],
      "text/plain": [
       "        x\n",
       "1.0   0.0\n",
       "2.0   1.0\n",
       "3.0   1.0\n",
       "4.0   1.0\n",
       "5.0   1.0\n",
       "6.0   0.0\n",
       "7.0   1.0\n",
       "8.0   1.0\n",
       "9.0   1.0\n",
       "10.0  0.0"
      ]
     },
     "execution_count": 3,
     "metadata": {},
     "output_type": "execute_result"
    }
   ],
   "source": [
    "from random import randint\n",
    "items = list(range(1, 10+1))\n",
    "ampl.set['ITEMS'] = items\n",
    "ampl.param['weight'] = {i: randint(10, 20) for i in items}\n",
    "ampl.param['value'] = {i: randint(100, 200) for i in items}\n",
    "ampl.param['max_weight'] = 100\n",
    "ampl.option[\"solver\"] = \"highs\"\n",
    "ampl.solve()\n",
    "ampl.get_data(\"x\").to_pandas()"
   ]
  },
  {
   "cell_type": "markdown",
   "metadata": {},
   "source": [
    "[AMPL Website](https://ampl.com) | [AMPL Colab](https://colab.ampl.com) | [Community Edition]( https://ampl.com/ce/) | [Twitter](https://twitter.com/AMPLopt) | [LinkedIn](https://www.linkedin.com/company/ampl)\n",
    "\n",
    "[![Hits](https://h.ampl.com/https://github.com/ampl/amplcolab/blob/master/template/minimal.ipynb)](https://colab.ampl.com)"
   ]
  }
 ],
 "metadata": {
  "colab": {
   "provenance": []
  },
  "kernelspec": {
   "display_name": "Python 3",
   "language": "python",
   "name": "python3"
  },
  "language_info": {
   "codemirror_mode": {
    "name": "ipython",
    "version": 3
   },
   "file_extension": ".py",
   "mimetype": "text/x-python",
   "name": "python",
   "nbconvert_exporter": "python",
   "pygments_lexer": "ipython3",
   "version": "3.6.9"
  },
  "vscode": {
   "interpreter": {
    "hash": "ee4198aac13dae9b6fccd443041680d99c2643c4956ef7c80ff6dcc0057cb523"
   }
  }
 },
 "nbformat": 4,
 "nbformat_minor": 1
}
