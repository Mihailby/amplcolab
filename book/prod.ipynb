{
  "cells": [
    {
      "cell_type": "markdown",
      "metadata": {
        "id": "3vB4SEL1PmwP"
      },
      "source": [
        "# Production model\n",
        "[![prod.ipynb](https://img.shields.io/badge/github-%23121011.svg?logo=github)](https://github.com/ampl/amplcolab/blob/master/book/prod.ipynb) [![Open In Colab](https://colab.research.google.com/assets/colab-badge.svg)](https://colab.research.google.com/github/ampl/amplcolab/blob/master/book/prod.ipynb) [![Kaggle](https://kaggle.com/static/images/open-in-kaggle.svg)](https://kaggle.com/kernels/welcome?src=https://github.com/ampl/amplcolab/blob/master/book/prod.ipynb) [![Gradient](https://assets.paperspace.io/img/gradient-badge.svg)](https://console.paperspace.com/github/ampl/amplcolab/blob/master/book/prod.ipynb) [![Open In SageMaker Studio Lab](https://studiolab.sagemaker.aws/studiolab.svg)](https://studiolab.sagemaker.aws/import/github/ampl/amplcolab/blob/master/book/prod.ipynb)\n",
        "\n",
        "Description: generic model for production problem\n",
        "\n",
        "Tags: ampl-only, ampl-book\n",
        "\n",
        "Notebook author: N/A\n",
        "\n",
        "Model author: N/A\n"
      ]
    },
    {
      "cell_type": "markdown",
      "source": [
        "This notebook provides the implementation of the production problem described in the book *AMPL: A Modeling Language for Mathematical Programming*\n",
        "by Robert Fourer, David M. Gay, and Brian W. Kernighan.\n",
        "\n",
        "The following cells download the necessary dependences to use the AMPL API for Python (AMPLPY)."
      ],
      "metadata": {
        "id": "cncq8cFAQNff"
      }
    },
    {
      "cell_type": "code",
      "execution_count": null,
      "metadata": {
        "id": "Gc1SNUHoPmwU",
        "colab": {
          "base_uri": "https://localhost:8080/"
        },
        "outputId": "49933691-1a08-428d-de2d-61304eeec241"
      },
      "outputs": [
        {
          "output_type": "stream",
          "name": "stdout",
          "text": [
            "\u001b[K     |████████████████████████████████| 4.1 MB 7.2 MB/s \n",
            "\u001b[?25h  Building wheel for ampltools (setup.py) ... \u001b[?25l\u001b[?25hdone\n"
          ]
        }
      ],
      "source": [
        "# Install dependencies\n",
        "!pip install -q amplpy ampltools"
      ]
    },
    {
      "cell_type": "code",
      "execution_count": null,
      "metadata": {
        "id": "IwXDJwBcPmwW",
        "colab": {
          "base_uri": "https://localhost:8080/",
          "height": 547,
          "referenced_widgets": [
            "b711e7c8d1064b8aae459a857a5d47e5",
            "b600a22c953a4821a2b93b18ee6b8333",
            "9783f43a9c394490a204d854d305db59",
            "734abf70f5fa44adbddf3f5528874128",
            "c3d0bdaaa6d64df3be35076ecf0b4288",
            "49801a6845554e688992cfa698a0a3e1",
            "bbe53cf89bfa4389ade99e6464dbfc28",
            "27575d83457d47919aea94b3545f44e1",
            "efd67390710d4166aab39e628c640de4",
            "9561ca51e02b4639a48fb865a9d3a6bf",
            "60679d7a6d944e19ae482106487b502f",
            "db7b4e5461494a1fbd4285a493eab60e",
            "04342384c3614e5ba405562d0c2b3d56",
            "40a7267b76b14be793b5ffda1560ff74"
          ]
        },
        "outputId": "22e97371-23f8-43ce-de14-256ea69913e7"
      },
      "outputs": [
        {
          "output_type": "stream",
          "name": "stdout",
          "text": [
            "Downloading: https://portal.ampl.com/dl/modules/ampl-module.linux64.tgz\n",
            "> /content/ampl.linux-intel64/ampl.lic (new)\n",
            "> /content/ampl.linux-intel64/eodbc.dll (new)\n",
            "> /content/ampl.linux-intel64/models (new)\n",
            "> /content/ampl.linux-intel64/ampl (new)\n",
            "> /content/ampl.linux-intel64/ampl.env (new)\n",
            "> /content/ampl.linux-intel64/fingerprint (new)\n",
            "> /content/ampl.linux-intel64/amplxl.dll (new)\n",
            "> /content/ampl.linux-intel64/amplkey (new)\n",
            "> /content/ampl.linux-intel64/amplcsv.dll (new)\n",
            "> /content/ampl.linux-intel64/README (new)\n",
            "> /content/ampl.linux-intel64/leasefingerprint (new)\n",
            "> /content/ampl.linux-intel64/docs (new)\n",
            "Downloading: https://portal.ampl.com/dl/modules/coin-module.linux64.tgz\n",
            "> /content/ampl.linux-intel64/bonmin (new)\n",
            "> /content/ampl.linux-intel64/coin-license.txt (new)\n",
            "> /content/ampl.linux-intel64/couenne (new)\n",
            "> /content/ampl.linux-intel64/coin-versions.txt (new)\n",
            "> /content/ampl.linux-intel64/ipopt (new)\n",
            "> /content/ampl.linux-intel64/cbc (new)\n",
            "AMPL License:\n"
          ]
        },
        {
          "output_type": "display_data",
          "data": {
            "text/plain": [
              "VBox(children=(HBox(children=(Button(description='Use demo license', style=ButtonStyle()), Text(value='', desc…"
            ],
            "application/vnd.jupyter.widget-view+json": {
              "version_major": 2,
              "version_minor": 0,
              "model_id": "b711e7c8d1064b8aae459a857a5d47e5"
            }
          },
          "metadata": {}
        }
      ],
      "source": [
        "# Google Colab & Kaggle interagration\n",
        "MODULES=['ampl', 'coin']\n",
        "from ampltools import cloud_platform_name, ampl_notebook\n",
        "from amplpy import AMPL, register_magics\n",
        "if cloud_platform_name() is None:\n",
        "    ampl = AMPL() # Use local installation of AMPL\n",
        "else:\n",
        "    ampl = ampl_notebook(modules=MODULES) # Install AMPL and use it\n",
        "register_magics(ampl_object=ampl) # Evaluate %%ampl_eval cells with ampl.eval()"
      ]
    },
    {
      "cell_type": "markdown",
      "metadata": {
        "id": "zbFZdaPoPmwX"
      },
      "source": [
        "## Example: production model\n",
        "\n",
        "It is usual to adopt mathematical notation as a general and concise way of expressing problems based on variables, constraints, and objectives. We can write a compact description of the general form of a production problem, which we call a *model*, using algebraic notation for the objective and the constraints.\n",
        "\n",
        "### Algebraic formulation\n",
        "\n",
        "Given:\n",
        "\n",
        "* $P$, a set of products\n",
        "* $a_j$ = tons per hour of product $j$, for each $j \\in P$\n",
        "* $b$ = hours available at the mill\n",
        "* $c_j$ = profit per ton of product $j$, for each $j \\in P$\n",
        "* $u_j$ = maximum tons of product $j$, for each $j \\in P$\n",
        "\n",
        "Define variables:   $X_j$ = tons of product $j$ to be made, for each $j \\in P$.\n",
        "\n",
        "Maximize:\n",
        "$$\\sum \\limits_{j \\in P} c_j X_j$$\n",
        "\n",
        "Subject to:\n",
        "$$\\sum \\limits_{j \\in P} \\frac{1}{a_j} X_j \\leq b$$\n",
        "\n",
        "$$0 \\leq X_j \\leq u_j, \\text{ for each }j \\in P$$\n",
        "\n",
        "The model describes an infinite number of related optimization problems. If we provide specific values for data, however, the model becomes a specific problem, or instance of the model, that can be solved. Each different collection of data values defines a different instance.\n"
      ]
    },
    {
      "cell_type": "markdown",
      "source": [
        "### Model implementation\n",
        "\n",
        "The general formulation above can be written with AMPL as follows:"
      ],
      "metadata": {
        "id": "N9X5Dt8OSwcu"
      }
    },
    {
      "cell_type": "code",
      "execution_count": null,
      "metadata": {
        "id": "PvQvJoNbPmwX",
        "colab": {
          "base_uri": "https://localhost:8080/"
        },
        "outputId": "e6254e17-3c94-4cfd-c473-fff074f8a7f0"
      },
      "outputs": [
        {
          "output_type": "stream",
          "name": "stdout",
          "text": [
            "Writing prod.mod\n"
          ]
        }
      ],
      "source": [
        "%%writefile prod.mod\n",
        "# Sets and parameters\n",
        "set P;\n",
        "\n",
        "param a {j in P};\n",
        "param b;\n",
        "param c {j in P};\n",
        "param u {j in P};\n",
        "\n",
        "# Variables\n",
        "var X {j in P};\n",
        "\n",
        "# Objective function\n",
        "maximize Total_Profit: sum {j in P} c[j] * X[j];\n",
        "\n",
        "# Time and Limits constraints\n",
        "subject to Time: sum {j in P} (1/a[j]) * X[j] <= b;\n",
        "\n",
        "subject to Limit {j in P}: 0 <= X[j] <= u[j];"
      ]
    },
    {
      "cell_type": "markdown",
      "source": [
        "### Data\n",
        "\n",
        "Due to the model and data separation, the abstract formulation works for any correct data input we provide to AMPL. A possible instance of the production problem is the following:"
      ],
      "metadata": {
        "id": "bP2E0n0CTJV9"
      }
    },
    {
      "cell_type": "code",
      "execution_count": null,
      "metadata": {
        "id": "LKQR7YZpPmwY",
        "colab": {
          "base_uri": "https://localhost:8080/"
        },
        "outputId": "9c1aa7ad-9797-4a80-a8c2-b8eb874f5165"
      },
      "outputs": [
        {
          "output_type": "stream",
          "name": "stdout",
          "text": [
            "Writing prod.dat\n"
          ]
        }
      ],
      "source": [
        "%%writefile prod.dat\n",
        "\n",
        "set P := bands coils;\n",
        "\n",
        "param:     a     c     u  :=\n",
        "  bands   200   25   6000\n",
        "  coils   140   30   4000 ;\n",
        "\n",
        "param b := 40;"
      ]
    },
    {
      "cell_type": "markdown",
      "source": [
        "### Solve the problem\n",
        "\n",
        "We can load the generated model and data files, and solve them by using a linear solver as CBC. Finally, the solution (values for X) is displayed."
      ],
      "metadata": {
        "id": "o2c2LUgTT0ce"
      }
    },
    {
      "cell_type": "code",
      "execution_count": null,
      "metadata": {
        "id": "0NsiVLLTPmwZ",
        "colab": {
          "base_uri": "https://localhost:8080/"
        },
        "outputId": "87a0e56e-7146-4e51-fab5-98f68f5ba9ac"
      },
      "outputs": [
        {
          "output_type": "stream",
          "name": "stdout",
          "text": [
            "CBC 2.10.5: \b\b\b\b\b\b\b\b\b\b\b\bCBC 2.10.5 optimal, objective 192000\n",
            "1 iterations\n",
            "\n",
            "\"option abs_boundtol 9.094947017729282e-13;\"\n",
            "or \"option rel_boundtol 1.5158245029548803e-16;\"\n",
            "will change deduced dual values.\n",
            "\n",
            "X [*] :=\n",
            "bands  6000\n",
            "coils  1400\n",
            ";\n",
            "\n"
          ]
        }
      ],
      "source": [
        "%%ampl_eval\n",
        "model prod.mod;\n",
        "data prod.dat;\n",
        "option solver cbc;\n",
        "solve;\n",
        "display X;"
      ]
    }
  ],
  "metadata": {
    "kernelspec": {
      "display_name": "Python 3 (ipykernel)",
      "language": "python",
      "name": "python3"
    },
    "language_info": {
      "codemirror_mode": {
        "name": "ipython",
        "version": 3
      },
      "file_extension": ".py",
      "mimetype": "text/x-python",
      "name": "python",
      "nbconvert_exporter": "python",
      "pygments_lexer": "ipython3",
      "version": "3.9.8"
    },
    "colab": {
      "name": "prod.ipynb",
      "provenance": [],
      "collapsed_sections": []
    },
    "widgets": {
      "application/vnd.jupyter.widget-state+json": {
        "b711e7c8d1064b8aae459a857a5d47e5": {
          "model_module": "@jupyter-widgets/controls",
          "model_name": "VBoxModel",
          "model_module_version": "1.5.0",
          "state": {
            "_dom_classes": [],
            "_model_module": "@jupyter-widgets/controls",
            "_model_module_version": "1.5.0",
            "_model_name": "VBoxModel",
            "_view_count": null,
            "_view_module": "@jupyter-widgets/controls",
            "_view_module_version": "1.5.0",
            "_view_name": "VBoxView",
            "box_style": "",
            "children": [
              "IPY_MODEL_b600a22c953a4821a2b93b18ee6b8333",
              "IPY_MODEL_9783f43a9c394490a204d854d305db59",
              "IPY_MODEL_734abf70f5fa44adbddf3f5528874128"
            ],
            "layout": "IPY_MODEL_c3d0bdaaa6d64df3be35076ecf0b4288"
          }
        },
        "b600a22c953a4821a2b93b18ee6b8333": {
          "model_module": "@jupyter-widgets/controls",
          "model_name": "HBoxModel",
          "model_module_version": "1.5.0",
          "state": {
            "_dom_classes": [],
            "_model_module": "@jupyter-widgets/controls",
            "_model_module_version": "1.5.0",
            "_model_name": "HBoxModel",
            "_view_count": null,
            "_view_module": "@jupyter-widgets/controls",
            "_view_module_version": "1.5.0",
            "_view_name": "HBoxView",
            "box_style": "",
            "children": [
              "IPY_MODEL_49801a6845554e688992cfa698a0a3e1",
              "IPY_MODEL_bbe53cf89bfa4389ade99e6464dbfc28"
            ],
            "layout": "IPY_MODEL_27575d83457d47919aea94b3545f44e1"
          }
        },
        "9783f43a9c394490a204d854d305db59": {
          "model_module": "@jupyter-widgets/output",
          "model_name": "OutputModel",
          "model_module_version": "1.0.0",
          "state": {
            "_dom_classes": [],
            "_model_module": "@jupyter-widgets/output",
            "_model_module_version": "1.0.0",
            "_model_name": "OutputModel",
            "_view_count": null,
            "_view_module": "@jupyter-widgets/output",
            "_view_module_version": "1.0.0",
            "_view_name": "OutputView",
            "layout": "IPY_MODEL_04342384c3614e5ba405562d0c2b3d56",
            "msg_id": "",
            "outputs": [
              {
                "output_type": "stream",
                "name": "stdout",
                "text": [
                  "Using demo license.\n"
                ]
              }
            ]
          }
        },
        "734abf70f5fa44adbddf3f5528874128": {
          "model_module": "@jupyter-widgets/output",
          "model_name": "OutputModel",
          "model_module_version": "1.0.0",
          "state": {
            "_dom_classes": [],
            "_model_module": "@jupyter-widgets/output",
            "_model_module_version": "1.0.0",
            "_model_name": "OutputModel",
            "_view_count": null,
            "_view_module": "@jupyter-widgets/output",
            "_view_module_version": "1.0.0",
            "_view_name": "OutputView",
            "layout": "IPY_MODEL_40a7267b76b14be793b5ffda1560ff74",
            "msg_id": "",
            "outputs": [
              {
                "output_type": "stream",
                "name": "stdout",
                "text": [
                  "\n",
                  "AMPL Version 20220323 (Linux-5.4.0-1072-azure, 64-bit)\n",
                  "Demo license with maintenance expiring 20240131.\n",
                  "Using license file \"/content/ampl.linux-intel64/ampl.lic\".\n",
                  "\n"
                ]
              }
            ]
          }
        },
        "c3d0bdaaa6d64df3be35076ecf0b4288": {
          "model_module": "@jupyter-widgets/base",
          "model_name": "LayoutModel",
          "model_module_version": "1.2.0",
          "state": {
            "_model_module": "@jupyter-widgets/base",
            "_model_module_version": "1.2.0",
            "_model_name": "LayoutModel",
            "_view_count": null,
            "_view_module": "@jupyter-widgets/base",
            "_view_module_version": "1.2.0",
            "_view_name": "LayoutView",
            "align_content": null,
            "align_items": null,
            "align_self": null,
            "border": null,
            "bottom": null,
            "display": null,
            "flex": null,
            "flex_flow": null,
            "grid_area": null,
            "grid_auto_columns": null,
            "grid_auto_flow": null,
            "grid_auto_rows": null,
            "grid_column": null,
            "grid_gap": null,
            "grid_row": null,
            "grid_template_areas": null,
            "grid_template_columns": null,
            "grid_template_rows": null,
            "height": null,
            "justify_content": null,
            "justify_items": null,
            "left": null,
            "margin": null,
            "max_height": null,
            "max_width": null,
            "min_height": null,
            "min_width": null,
            "object_fit": null,
            "object_position": null,
            "order": null,
            "overflow": null,
            "overflow_x": null,
            "overflow_y": null,
            "padding": null,
            "right": null,
            "top": null,
            "visibility": null,
            "width": null
          }
        },
        "49801a6845554e688992cfa698a0a3e1": {
          "model_module": "@jupyter-widgets/controls",
          "model_name": "ButtonModel",
          "model_module_version": "1.5.0",
          "state": {
            "_dom_classes": [],
            "_model_module": "@jupyter-widgets/controls",
            "_model_module_version": "1.5.0",
            "_model_name": "ButtonModel",
            "_view_count": null,
            "_view_module": "@jupyter-widgets/controls",
            "_view_module_version": "1.5.0",
            "_view_name": "ButtonView",
            "button_style": "",
            "description": "Use demo license",
            "disabled": false,
            "icon": "",
            "layout": "IPY_MODEL_efd67390710d4166aab39e628c640de4",
            "style": "IPY_MODEL_9561ca51e02b4639a48fb865a9d3a6bf",
            "tooltip": ""
          }
        },
        "bbe53cf89bfa4389ade99e6464dbfc28": {
          "model_module": "@jupyter-widgets/controls",
          "model_name": "TextModel",
          "model_module_version": "1.5.0",
          "state": {
            "_dom_classes": [],
            "_model_module": "@jupyter-widgets/controls",
            "_model_module_version": "1.5.0",
            "_model_name": "TextModel",
            "_view_count": null,
            "_view_module": "@jupyter-widgets/controls",
            "_view_module_version": "1.5.0",
            "_view_name": "TextView",
            "continuous_update": true,
            "description": "UUID:",
            "description_tooltip": null,
            "disabled": false,
            "layout": "IPY_MODEL_60679d7a6d944e19ae482106487b502f",
            "placeholder": "​",
            "style": "IPY_MODEL_db7b4e5461494a1fbd4285a493eab60e",
            "value": ""
          }
        },
        "27575d83457d47919aea94b3545f44e1": {
          "model_module": "@jupyter-widgets/base",
          "model_name": "LayoutModel",
          "model_module_version": "1.2.0",
          "state": {
            "_model_module": "@jupyter-widgets/base",
            "_model_module_version": "1.2.0",
            "_model_name": "LayoutModel",
            "_view_count": null,
            "_view_module": "@jupyter-widgets/base",
            "_view_module_version": "1.2.0",
            "_view_name": "LayoutView",
            "align_content": null,
            "align_items": null,
            "align_self": null,
            "border": null,
            "bottom": null,
            "display": null,
            "flex": null,
            "flex_flow": null,
            "grid_area": null,
            "grid_auto_columns": null,
            "grid_auto_flow": null,
            "grid_auto_rows": null,
            "grid_column": null,
            "grid_gap": null,
            "grid_row": null,
            "grid_template_areas": null,
            "grid_template_columns": null,
            "grid_template_rows": null,
            "height": null,
            "justify_content": null,
            "justify_items": null,
            "left": null,
            "margin": null,
            "max_height": null,
            "max_width": null,
            "min_height": null,
            "min_width": null,
            "object_fit": null,
            "object_position": null,
            "order": null,
            "overflow": null,
            "overflow_x": null,
            "overflow_y": null,
            "padding": null,
            "right": null,
            "top": null,
            "visibility": null,
            "width": null
          }
        },
        "efd67390710d4166aab39e628c640de4": {
          "model_module": "@jupyter-widgets/base",
          "model_name": "LayoutModel",
          "model_module_version": "1.2.0",
          "state": {
            "_model_module": "@jupyter-widgets/base",
            "_model_module_version": "1.2.0",
            "_model_name": "LayoutModel",
            "_view_count": null,
            "_view_module": "@jupyter-widgets/base",
            "_view_module_version": "1.2.0",
            "_view_name": "LayoutView",
            "align_content": null,
            "align_items": null,
            "align_self": null,
            "border": null,
            "bottom": null,
            "display": null,
            "flex": null,
            "flex_flow": null,
            "grid_area": null,
            "grid_auto_columns": null,
            "grid_auto_flow": null,
            "grid_auto_rows": null,
            "grid_column": null,
            "grid_gap": null,
            "grid_row": null,
            "grid_template_areas": null,
            "grid_template_columns": null,
            "grid_template_rows": null,
            "height": null,
            "justify_content": null,
            "justify_items": null,
            "left": null,
            "margin": null,
            "max_height": null,
            "max_width": null,
            "min_height": null,
            "min_width": null,
            "object_fit": null,
            "object_position": null,
            "order": null,
            "overflow": null,
            "overflow_x": null,
            "overflow_y": null,
            "padding": null,
            "right": null,
            "top": null,
            "visibility": null,
            "width": null
          }
        },
        "9561ca51e02b4639a48fb865a9d3a6bf": {
          "model_module": "@jupyter-widgets/controls",
          "model_name": "ButtonStyleModel",
          "model_module_version": "1.5.0",
          "state": {
            "_model_module": "@jupyter-widgets/controls",
            "_model_module_version": "1.5.0",
            "_model_name": "ButtonStyleModel",
            "_view_count": null,
            "_view_module": "@jupyter-widgets/base",
            "_view_module_version": "1.2.0",
            "_view_name": "StyleView",
            "button_color": null,
            "font_weight": ""
          }
        },
        "60679d7a6d944e19ae482106487b502f": {
          "model_module": "@jupyter-widgets/base",
          "model_name": "LayoutModel",
          "model_module_version": "1.2.0",
          "state": {
            "_model_module": "@jupyter-widgets/base",
            "_model_module_version": "1.2.0",
            "_model_name": "LayoutModel",
            "_view_count": null,
            "_view_module": "@jupyter-widgets/base",
            "_view_module_version": "1.2.0",
            "_view_name": "LayoutView",
            "align_content": null,
            "align_items": null,
            "align_self": null,
            "border": null,
            "bottom": null,
            "display": null,
            "flex": null,
            "flex_flow": null,
            "grid_area": null,
            "grid_auto_columns": null,
            "grid_auto_flow": null,
            "grid_auto_rows": null,
            "grid_column": null,
            "grid_gap": null,
            "grid_row": null,
            "grid_template_areas": null,
            "grid_template_columns": null,
            "grid_template_rows": null,
            "height": null,
            "justify_content": null,
            "justify_items": null,
            "left": null,
            "margin": null,
            "max_height": null,
            "max_width": null,
            "min_height": null,
            "min_width": null,
            "object_fit": null,
            "object_position": null,
            "order": null,
            "overflow": null,
            "overflow_x": null,
            "overflow_y": null,
            "padding": null,
            "right": null,
            "top": null,
            "visibility": null,
            "width": null
          }
        },
        "db7b4e5461494a1fbd4285a493eab60e": {
          "model_module": "@jupyter-widgets/controls",
          "model_name": "DescriptionStyleModel",
          "model_module_version": "1.5.0",
          "state": {
            "_model_module": "@jupyter-widgets/controls",
            "_model_module_version": "1.5.0",
            "_model_name": "DescriptionStyleModel",
            "_view_count": null,
            "_view_module": "@jupyter-widgets/base",
            "_view_module_version": "1.2.0",
            "_view_name": "StyleView",
            "description_width": ""
          }
        },
        "04342384c3614e5ba405562d0c2b3d56": {
          "model_module": "@jupyter-widgets/base",
          "model_name": "LayoutModel",
          "model_module_version": "1.2.0",
          "state": {
            "_model_module": "@jupyter-widgets/base",
            "_model_module_version": "1.2.0",
            "_model_name": "LayoutModel",
            "_view_count": null,
            "_view_module": "@jupyter-widgets/base",
            "_view_module_version": "1.2.0",
            "_view_name": "LayoutView",
            "align_content": null,
            "align_items": null,
            "align_self": null,
            "border": null,
            "bottom": null,
            "display": null,
            "flex": null,
            "flex_flow": null,
            "grid_area": null,
            "grid_auto_columns": null,
            "grid_auto_flow": null,
            "grid_auto_rows": null,
            "grid_column": null,
            "grid_gap": null,
            "grid_row": null,
            "grid_template_areas": null,
            "grid_template_columns": null,
            "grid_template_rows": null,
            "height": null,
            "justify_content": null,
            "justify_items": null,
            "left": null,
            "margin": null,
            "max_height": null,
            "max_width": null,
            "min_height": null,
            "min_width": null,
            "object_fit": null,
            "object_position": null,
            "order": null,
            "overflow": null,
            "overflow_x": null,
            "overflow_y": null,
            "padding": null,
            "right": null,
            "top": null,
            "visibility": null,
            "width": null
          }
        },
        "40a7267b76b14be793b5ffda1560ff74": {
          "model_module": "@jupyter-widgets/base",
          "model_name": "LayoutModel",
          "model_module_version": "1.2.0",
          "state": {
            "_model_module": "@jupyter-widgets/base",
            "_model_module_version": "1.2.0",
            "_model_name": "LayoutModel",
            "_view_count": null,
            "_view_module": "@jupyter-widgets/base",
            "_view_module_version": "1.2.0",
            "_view_name": "LayoutView",
            "align_content": null,
            "align_items": null,
            "align_self": null,
            "border": null,
            "bottom": null,
            "display": null,
            "flex": null,
            "flex_flow": null,
            "grid_area": null,
            "grid_auto_columns": null,
            "grid_auto_flow": null,
            "grid_auto_rows": null,
            "grid_column": null,
            "grid_gap": null,
            "grid_row": null,
            "grid_template_areas": null,
            "grid_template_columns": null,
            "grid_template_rows": null,
            "height": null,
            "justify_content": null,
            "justify_items": null,
            "left": null,
            "margin": null,
            "max_height": null,
            "max_width": null,
            "min_height": null,
            "min_width": null,
            "object_fit": null,
            "object_position": null,
            "order": null,
            "overflow": null,
            "overflow_x": null,
            "overflow_y": null,
            "padding": null,
            "right": null,
            "top": null,
            "visibility": null,
            "width": null
          }
        }
      }
    }
  },
  "nbformat": 4,
  "nbformat_minor": 0
}
