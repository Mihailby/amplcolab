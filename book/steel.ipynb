{
  "cells": [
    {
      "cell_type": "markdown",
      "metadata": {
        "id": "-cZxvHCpVDkC"
      },
      "source": [
        "# Steel industry problem\n",
        "[![steel.ipynb](https://img.shields.io/badge/github-%23121011.svg?logo=github)](https://github.com/ampl/amplcolab/blob/master/book/steel.ipynb) [![Open In Colab](https://colab.research.google.com/assets/colab-badge.svg)](https://colab.research.google.com/github/ampl/amplcolab/blob/master/book/steel.ipynb) [![Kaggle](https://kaggle.com/static/images/open-in-kaggle.svg)](https://kaggle.com/kernels/welcome?src=https://github.com/ampl/amplcolab/blob/master/book/steel.ipynb) [![Gradient](https://assets.paperspace.io/img/gradient-badge.svg)](https://console.paperspace.com/github/ampl/amplcolab/blob/master/book/steel.ipynb) [![Open In SageMaker Studio Lab](https://studiolab.sagemaker.aws/studiolab.svg)](https://studiolab.sagemaker.aws/import/github/ampl/amplcolab/blob/master/book/steel.ipynb)\n",
        "\n",
        "Description: model for steel production problem\n",
        "\n",
        "Tags: ampl-only, ampl-book\n",
        "\n",
        "Notebook author: N/A\n",
        "\n",
        "Model author: N/A\n"
      ]
    },
    {
      "cell_type": "markdown",
      "source": [
        "This notebook provides the implementation of the production problem described in the book *AMPL: A Modeling Language for Mathematical Programming*\n",
        "by Robert Fourer, David M. Gay, and Brian W. Kernighan.\n",
        "\n",
        "The following cells download the necessary dependences to use the AMPL API for Python (AMPLPY)."
      ],
      "metadata": {
        "id": "MuWivPRnVqhW"
      }
    },
    {
      "cell_type": "code",
      "execution_count": null,
      "metadata": {
        "id": "W-0s-8VlVDkF"
      },
      "outputs": [],
      "source": [
        "# Install dependencies\n",
        "!pip install -q amplpy ampltools"
      ]
    },
    {
      "cell_type": "code",
      "execution_count": null,
      "metadata": {
        "id": "aGWG11zbVDkH",
        "colab": {
          "base_uri": "https://localhost:8080/",
          "height": 196,
          "referenced_widgets": [
            "ad95703d280b40d79dad3ab6e60b426e",
            "10549898c3ab4b72adb8225d7ff85009",
            "ca2914fe24054b1c9f1785f696e041c3",
            "a7a4fea5da114ce09adacf5ec6f6f672",
            "ade4e56fbf194d5482570c776e623c9e",
            "347ba7170a3d4e1cbf80ae4d04b517bc",
            "9b3f842d5af14953a0a4772db38fc8bd",
            "4f1d1c242b994a3485a5d88833149517",
            "7a92a8c7e7814dd7b7657a5263764b80",
            "52a5975b71e34faa8a85c5dbc6ad712a",
            "49680199d4334c8a8675c478367c116d",
            "dd991faafa194178b2787c4ba5dd4ac3",
            "ce460b127382488f89be79fce3dd5886",
            "e928d6a897c943638c67bfe0d7253c6c"
          ]
        },
        "outputId": "3cc655e1-5c1a-4e4b-8488-edb8782f3463"
      },
      "outputs": [
        {
          "output_type": "stream",
          "name": "stdout",
          "text": [
            "Already installed. Skipping. Set reinstall=True if you want to reinstall.\n",
            "AMPL License:\n"
          ]
        },
        {
          "output_type": "display_data",
          "data": {
            "text/plain": [
              "VBox(children=(HBox(children=(Button(description='Use demo license', style=ButtonStyle()), Text(value='', desc…"
            ],
            "application/vnd.jupyter.widget-view+json": {
              "version_major": 2,
              "version_minor": 0,
              "model_id": "ad95703d280b40d79dad3ab6e60b426e"
            }
          },
          "metadata": {}
        }
      ],
      "source": [
        "# Google Colab & Kaggle interagration\n",
        "MODULES=['ampl', 'coin']\n",
        "from ampltools import cloud_platform_name, ampl_notebook\n",
        "from amplpy import AMPL, register_magics\n",
        "if cloud_platform_name() is None:\n",
        "    ampl = AMPL() # Use local installation of AMPL\n",
        "else:\n",
        "    ampl = ampl_notebook(modules=MODULES) # Install AMPL and use it\n",
        "register_magics(ampl_object=ampl) # Evaluate %%ampl_eval cells with ampl.eval()"
      ]
    },
    {
      "cell_type": "markdown",
      "metadata": {
        "id": "xzWX-iEoVDkI"
      },
      "source": [
        "### Example: steel model\n",
        "\n",
        "This is an application of a generic production formulation described in the AMPL book with the following algebraic description, given:\n",
        "\n",
        "* $P$, a set of products\n",
        "* $a_j$ = tons per hour of product $j$, for each $j \\in P$\n",
        "* $b$ = hours available at the mill\n",
        "* $c_j$ = profit per ton of product $j$, for each $j \\in P$\n",
        "* $u_j$ = maximum tons of product $j$, for each $j \\in P$\n",
        "\n",
        "Define variables:   $X_j$ = tons of product $j$ to be made, for each $j \\in P$.\n",
        "\n",
        "Maximize:\n",
        "$$\\sum \\limits_{j \\in P} c_j X_j$$\n",
        "\n",
        "Subject to:\n",
        "$$\\sum \\limits_{j \\in P} \\frac{1}{a_j} X_j \\leq b$$\n",
        "\n",
        "$$0 \\leq X_j \\leq u_j, \\text{ for each }j \\in P$$\n",
        "\n",
        "We need not feel constrained by all the conventions of algebra, and we can instead consider changes that might make the model easier to work with when writing the model in AMPL. The short \"mathematical\" names for the sets, parameters and variables can be replaced by longer, more meaningful ones. These changes produce the following model:\n"
      ]
    },
    {
      "cell_type": "code",
      "execution_count": null,
      "metadata": {
        "id": "KbRnm0OxVDkI",
        "colab": {
          "base_uri": "https://localhost:8080/"
        },
        "outputId": "9d3e55b3-6820-4572-9856-324ca69a30d9"
      },
      "outputs": [
        {
          "output_type": "stream",
          "name": "stdout",
          "text": [
            "Overwriting steel.mod\n"
          ]
        }
      ],
      "source": [
        "%%writefile steel.mod\n",
        "set PROD;  # products\n",
        "\n",
        "param rate {PROD} > 0;     # tons produced per hour\n",
        "param avail >= 0;          # hours available in week\n",
        "\n",
        "param profit {PROD};       # profit per ton\n",
        "param market {PROD} >= 0;  # limit on tons sold in week\n",
        "\n",
        "var Make {p in PROD} >= 0, <= market[p]; # tons produced\n",
        "\n",
        "maximize Total_Profit: sum {p in PROD} profit[p] * Make[p];\n",
        "\n",
        "               # Objective: total profits from all products\n",
        "\n",
        "subject to Time: sum {p in PROD} (1/rate[p]) * Make[p] <= avail;\n",
        "\n",
        "               # Constraint: total of hours used by all\n",
        "               # products may not exceed hours available\n",
        "\n"
      ]
    },
    {
      "cell_type": "markdown",
      "source": [
        "The indexing expressions have become {p in PROD}, or just {PROD} in those declarations that do not use the index p. The bounds on variables have been placed within their var declaration, rather than in a separate constraint; analogous bounds have been placed on the parameters, to indicate the ones that must be positive or nonnegative in any meaningful linear program derived from the model.\n",
        "\n",
        "Finally, comments have been added to help explain the model. Comments begin with # and end at the end of the line. As in any programming language, judicious use of meaningful names, comments and formatting helps to make AMPL models more readable and understandable.\n",
        "\n",
        "There are always many ways to describe a particular model in AMPL. It is left to the modeler to pick the way that seems clearest or most convenient. Our earlier, mathematical approach is often preferred for working quickly with a familiar model. On the other hand, the second version is more attractive for a model that will be maintained and modified by several people over months or years."
      ],
      "metadata": {
        "id": "ruBfB8YbWdua"
      }
    },
    {
      "cell_type": "code",
      "execution_count": null,
      "metadata": {
        "id": "QQwqSNWgVDkJ",
        "colab": {
          "base_uri": "https://localhost:8080/"
        },
        "outputId": "3ec1cced-e19c-4553-b1ac-1fc37daa8ef9"
      },
      "outputs": [
        {
          "output_type": "stream",
          "name": "stdout",
          "text": [
            "Overwriting steel.dat\n"
          ]
        }
      ],
      "source": [
        "%%writefile steel.dat\n",
        "data;\n",
        "\n",
        "set PROD := bands coils;\n",
        "\n",
        "param:    rate  profit  market :=\n",
        "  bands    200    25     6000\n",
        "  coils    140    30     4000 ;\n",
        "\n",
        "param avail := 40;\n",
        "\n"
      ]
    },
    {
      "cell_type": "code",
      "execution_count": null,
      "metadata": {
        "id": "B4dCauj6VDkK",
        "colab": {
          "base_uri": "https://localhost:8080/"
        },
        "outputId": "d35e8ed0-110f-4949-ecfd-26b44ea08d49"
      },
      "outputs": [
        {
          "output_type": "stream",
          "name": "stdout",
          "text": [
            "CBC 2.10.5: \b\b\b\b\b\b\b\b\b\b\b\bCBC 2.10.5 optimal, objective 192000\n",
            "1 iterations\n",
            "Make [*] :=\n",
            "bands  6000\n",
            "coils  1400\n",
            ";\n",
            "\n"
          ]
        }
      ],
      "source": [
        "%%ampl_eval\n",
        "model steel.mod;\n",
        "data steel.dat;\n",
        "option solver cbc;\n",
        "solve;\n",
        "display Make;\n",
        "\n"
      ]
    },
    {
      "cell_type": "markdown",
      "source": [
        "### Adding lower bounds to the model\n",
        "\n",
        "Once the model and data have been set up, it is a simple matter to change them and then re-solve. Indeed, we would not expect to find an LP application in which the model and data are prepared and solved just once, or even a few times. Most commonly, numerous refinements are introduced as the model is developed, and changes to the data continue for as long as the model is used.\n",
        "\n",
        "Let's conclude this notebook with a few examples of changes and refinements. These examples also highlight some additional features of AMPL.\n",
        "\n",
        "Suppose first that we add another product, steel plate. The model stays the same, but in the data we have to add plate to the list of members for the set PROD, and we have to add a line of parameter values for plate:"
      ],
      "metadata": {
        "id": "emrrgN6bXjx4"
      }
    },
    {
      "cell_type": "code",
      "source": [
        "%%writefile steel2.dat\n",
        "set PROD := bands coils plate;\n",
        "param:        rate    profit     market :=\n",
        " bands        200      25        6000\n",
        " coils        140      30        4000\n",
        " plate        160      29        3500 ;\n",
        "param avail := 40;"
      ],
      "metadata": {
        "colab": {
          "base_uri": "https://localhost:8080/"
        },
        "id": "K4K_DlQJXqAa",
        "outputId": "b86045a9-9545-432c-a794-5ad6d7b55560"
      },
      "execution_count": null,
      "outputs": [
        {
          "output_type": "stream",
          "name": "stdout",
          "text": [
            "Overwriting steel2.dat\n"
          ]
        }
      ]
    },
    {
      "cell_type": "code",
      "source": [
        "%%ampl_eval\n",
        "reset data;\n",
        "data steel2.dat;\n",
        "solve;\n",
        "display Make;"
      ],
      "metadata": {
        "colab": {
          "base_uri": "https://localhost:8080/"
        },
        "id": "hCuHV0VhXyE8",
        "outputId": "a0938afb-f611-4fc8-a96b-74ea2c4887b6"
      },
      "execution_count": null,
      "outputs": [
        {
          "output_type": "stream",
          "name": "stdout",
          "text": [
            "CBC 2.10.5: \b\b\b\b\b\b\b\b\b\b\b\bCBC 2.10.5 optimal, objective 196400\n",
            "1 iterations\n",
            "Make [*] :=\n",
            "bands  6000\n",
            "coils     0\n",
            "plate  1600\n",
            ";\n",
            "\n"
          ]
        }
      ]
    },
    {
      "cell_type": "markdown",
      "source": [
        "Profits have increased compared to the two-variable version, but now it is best to produce no coils at all! On closer examination, this result is not so surprising. Plate yields a profit of \\$4640 per hour, which is less than for bands but more than for coils. Thus plate is produced to absorb the capacity not taken by bands; coils would be produced only if both bands and plate reached their market limits before the available hours were exhausted.\n",
        "\n",
        "In reality, a whole product line cannot be shut down solely to increase weekly profits. The simplest way to reflect this in the model is to add lower bounds on the production amounts. We are declaring a new collection of parameters named commit, to represent the lower bounds on production that are imposed by sales commitments, and we have changed `>= 0` to `>= commit[p]` in the declaration of the variables `Make[p]`."
      ],
      "metadata": {
        "id": "8ouNTRf8X_Aa"
      }
    },
    {
      "cell_type": "code",
      "source": [
        "%%writefile steel3.mod\n",
        "set PROD;                     # products\n",
        "param rate {PROD} > 0;        # produced tons per hour\n",
        "param avail >= 0;             # hours available in week\n",
        "param profit {PROD};          # profit per ton\n",
        "param commit {PROD} >= 0;     # lower limit on tons sold in week\n",
        "param market {PROD} >= 0;     # upper limit on tons sold in week\n",
        "var Make {p in PROD} >= commit[p], <= market[p]; # tons produced\n",
        "maximize Total_Profit: sum {p in PROD} profit[p] * Make[p];\n",
        "\t\t\t\t\t    # Objective: total profits from all products\n",
        "subject to Time: sum {p in PROD} (1/rate[p]) * Make[p] <= avail;\n",
        "\t\t\t\t\t    # Constraint: total of hours used by all\n",
        "\t\t\t\t\t    # products may not exceed hours available"
      ],
      "metadata": {
        "colab": {
          "base_uri": "https://localhost:8080/"
        },
        "id": "qxWKUkKpYN2-",
        "outputId": "a73d218e-46b9-4cd1-f47a-4a149ddd5be2"
      },
      "execution_count": null,
      "outputs": [
        {
          "output_type": "stream",
          "name": "stdout",
          "text": [
            "Writing steel3.mod\n"
          ]
        }
      ]
    },
    {
      "cell_type": "code",
      "source": [
        "%%writefile steel3.dat\n",
        "set PROD := bands coils plate;\n",
        "param:   rate  profit   commit   market :=\n",
        "bands   200    25      1000     6000\n",
        "coils   140    30       500     4000\n",
        "plate   160    29       750     3500 ;\n",
        "param avail := 40;"
      ],
      "metadata": {
        "colab": {
          "base_uri": "https://localhost:8080/"
        },
        "id": "4PF5aaaUYS4M",
        "outputId": "3d6f1c3e-2ad6-410b-fb3e-2b7f67b45bed"
      },
      "execution_count": null,
      "outputs": [
        {
          "output_type": "stream",
          "name": "stdout",
          "text": [
            "Writing steel3.dat\n"
          ]
        }
      ]
    },
    {
      "cell_type": "code",
      "source": [
        "%%ampl_eval\n",
        "reset; # clear the previous model\n",
        "model steel3.mod;\n",
        "data steel3.dat;\n",
        "option solver cbc;\n",
        "solve;\n",
        "display commit, Make, market;"
      ],
      "metadata": {
        "colab": {
          "base_uri": "https://localhost:8080/"
        },
        "id": "LA9QyNiaYb8e",
        "outputId": "430f8aed-3753-4eeb-da88-815ba7ae5ce1"
      },
      "execution_count": null,
      "outputs": [
        {
          "output_type": "stream",
          "name": "stdout",
          "text": [
            "CBC 2.10.5: \b\b\b\b\b\b\b\b\b\b\b\bCBC 2.10.5 optimal, objective 194828.5714\n",
            "1 iterations\n",
            ":     commit    Make   market    :=\n",
            "bands   1000   6000      6000\n",
            "coils    500    500      4000\n",
            "plate    750   1028.57   3500\n",
            ";\n",
            "\n"
          ]
        }
      ]
    },
    {
      "cell_type": "markdown",
      "source": [
        "### Adding resource constraints to the model\n",
        "\n",
        "Processing of steel slabs is not a single operation, but a series of steps that may proceed at different rates. To motivate a more general model, imagine that we divide production into a reheat stage that can process the incoming slabs at 200 tons per hour, and a rolling stage that makes bands, coils or plate at the rates previously given. Further imagine that there are only 35 hours of reheat time, even though there are 40 hours of rolling time.\n",
        "\n",
        "To cover this kind of situation, we can add a set `STAGE` of production stages to our model. The parameter and constraint declarations are modified accordingly. Since there is a potentially different number of hours available in each stage, the parameter `avail` is now indexed over `STAGE`. Since there is a potentially different production rate for each product in each stage, the parameter `rate` is indexed over both `PROD` and `STAGE`. In the `Time` constraint, the production rate for product `p` in stage `s` is referred to as `rate[p,s]`; this is AMPL's version of a doubly subscripted entity like $a_{ps}$ in algebraic notation."
      ],
      "metadata": {
        "id": "tlBKKm5eYzP1"
      }
    },
    {
      "cell_type": "code",
      "source": [
        "%%writefile steel4.mod\n",
        "set PROD;                    # products\n",
        "set STAGE;                   # stages\n",
        "param rate {PROD,STAGE} > 0; # tons per hour in each stage\n",
        "param avail {STAGE} >= 0;    # hours available/week in each stage\n",
        "param profit {PROD};         # profit per ton\n",
        "param commit {PROD} >= 0;    # lower limit on tons sold in week\n",
        "param market {PROD} >= 0;    # upper limit on tons sold in week\n",
        "var Make {p in PROD} >= commit[p], <= market[p]; # tons produced\n",
        "maximize Total_Profit: sum {p in PROD} profit[p] * Make[p];\n",
        "\t\t\t\t\t    # Objective: total profits from all products\n",
        "subject to Time {s in STAGE}:\n",
        "      sum {p in PROD} (1/rate[p,s]) * Make[p] <= avail[s];\n",
        "\t\t\t\t\t    # In each stage: total of hours used by all\n",
        "\t\t\t\t\t    # products may not exceed hours available"
      ],
      "metadata": {
        "colab": {
          "base_uri": "https://localhost:8080/"
        },
        "id": "Bfaur8RPZSp2",
        "outputId": "5698b427-7fcc-4b76-f48e-ed73d564a3f7"
      },
      "execution_count": null,
      "outputs": [
        {
          "output_type": "stream",
          "name": "stdout",
          "text": [
            "Writing steel4.mod\n"
          ]
        }
      ]
    },
    {
      "cell_type": "markdown",
      "source": [
        "The only other change is to the constraint declaration, where we no longer have a single constraint, but a constraint for each stage, imposed by limited time available at that stage. In algebraic notation, this might have been written as\n",
        "\n",
        "*Subject to:*\n",
        "$$\\sum \\limits_{p \\in P} \\frac{1}{a_{ps}} X_p \\leq b_s, \\text{ for each } s \\in S.$$\n",
        "Compare the AMPL version:\n",
        "```\n",
        "subject to Time {s in STAGE}:\n",
        "  sum {p in PROD} (1/rate[p,s]) * Make[p] <= avail[s];\n",
        "```\n",
        "\n",
        "Since rate is now indexed over combinations of two indices, it requires a data table all to itself. The data file must also include the membership for the new set STAGE, and values of avail for both reheat and roll."
      ],
      "metadata": {
        "id": "An8u0HCCZWtV"
      }
    },
    {
      "cell_type": "code",
      "source": [
        "%%writefile steel4.dat\n",
        "set PROD := bands coils plate;\n",
        "set STAGE := reheat roll;\n",
        "param rate:\treheat\troll :=\n",
        "\tbands\t200\t200\n",
        "\tcoils\t200\t140\n",
        "\tplate\t200\t160 ;\n",
        "param:\tprofit\tcommit\tmarket :=\n",
        "\tbands\t25\t1000\t6000\n",
        "\tcoils\t30\t500\t4000\n",
        "\tplate\t29\t750\t3500 ;\n",
        "param avail := reheat 35\troll 40 ;"
      ],
      "metadata": {
        "colab": {
          "base_uri": "https://localhost:8080/"
        },
        "id": "B5dKAiEdaCfq",
        "outputId": "bc7f8c19-010a-4862-9a5c-f00263933c24"
      },
      "execution_count": null,
      "outputs": [
        {
          "output_type": "stream",
          "name": "stdout",
          "text": [
            "Writing steel4.dat\n"
          ]
        }
      ]
    },
    {
      "cell_type": "markdown",
      "source": [
        "After these changes are made, we use AMPL to get another revised solution:"
      ],
      "metadata": {
        "id": "_XvuzIRkaAvr"
      }
    },
    {
      "cell_type": "code",
      "source": [
        "%%ampl_eval\n",
        "reset; # clear the previous model\n",
        "model steel4.mod;\n",
        "data steel4.dat;\n",
        "option solver cbc;\n",
        "solve;\n",
        "display Make.lb, Make, Make.ub, Make.rc;\n",
        "display Time;"
      ],
      "metadata": {
        "colab": {
          "base_uri": "https://localhost:8080/"
        },
        "id": "Nz7STulXaLa9",
        "outputId": "c3abc85a-d254-446d-c178-d30b48a0a737"
      },
      "execution_count": null,
      "outputs": [
        {
          "output_type": "stream",
          "name": "stdout",
          "text": [
            "CBC 2.10.5: \b\b\b\b\b\b\b\b\b\b\b\bCBC 2.10.5 optimal, objective 190071.4286\n",
            "2 iterations\n",
            ":     Make.lb    Make   Make.ub   Make.rc     :=\n",
            "bands   1000    3357.14   6000     0\n",
            "coils    500     500      4000    -1.85714\n",
            "plate    750    3142.86   3500     0\n",
            ";\n",
            "\n",
            "Time [*] :=\n",
            "reheat  1800\n",
            "  roll  3200\n",
            ";\n",
            "\n"
          ]
        }
      ]
    },
    {
      "cell_type": "markdown",
      "source": [
        "At the end of the example above we have displayed the \"marginal values\" (also called \"dual values\" or \"shadow prices\") associated with the Time constraints. The marginal value of a constraint measures how much the value of the objective would improve if the constraint were relaxed by a small amount. For example, here we would expect that up to some point, additional reheat time would produce another \\$1800 of extra profit per hour, and additional rolling time would produce \\$3200 per hour; decreasing these times would decrease the profit correspondingly. In output commands like display, AMPL interprets a constraint's name alone as referring to the associated marginal values.\n",
        "\n",
        "We also display several quantities associated with the variables Make. First there are lower bounds Make.lb and upper bounds Make.ub, which in this case are the same as commit and market. We also show the \"reduced cost\" Make.rc, which has the same meaning with respect to the bounds that the marginal values have with respect to the constraints. Thus we see that, again up to some point, each increase of a ton in the lower bound (or commitment) for coil production should reduce profits by about \\$1.86; each one-ton decrease in the lower bound should improve profits by about \\$1.86. The production levels for bands and plates are between their bounds, so their reduced costs are essentially zero, and changing their levels will have no effect.\n",
        "\n",
        "Comparing this session with our previous one, we see that the additional reheat time restriction reduces profits by about \\$4750, and forces a substantial change in the optimal solution: much higher production of plate and lower production of bands. Moreover, the logic underlying the optimum is no longer so obvious. It is the difficulty of solving LPs by logical reasoning alone that necessitates computer-based systems such as AMPL."
      ],
      "metadata": {
        "id": "2Ad8p6fwauEH"
      }
    },
    {
      "cell_type": "markdown",
      "source": [
        "### Bibliography\n",
        "\n",
        "* Julius S. Aronofsky, John M. Dutton and Michael T. Tayyabkhan, Managerial Planning with Linear Programming: In Process Industry Operations. John Wiley & Sons (New York, NY, 1978). A detailed account of a variety of profit-maximizing applications, with emphasis on the petroleum and petrochemical industries.\n",
        "\n",
        "* Vasek Chvatal, Linear Programming, W. H. Freeman (New York, NY, 1983). A concise and economical introduction to theoretical and algorithmic topics in linear programming.\n",
        "\n",
        "* Tibor Fabian, \"A Linear Programming Model of Integrated Iron and Steel Production.\" Management Science 4 (1958) pp. 415-449. An application to all stages of steelmaking — from coal and ore through finished products — from the early days of linear programming.\n",
        "\n",
        "* Robert Fourer and Goutam Dutta, \"A Survey of Mathematical Programming Applications in Integrated Steel Plants.\" Manufacturing & Service Operations Management 4 (2001) pp. 387-400.\n",
        "\n",
        "* David A. Kendrick, Alexander Meeraus and Jaime Alatorre, The Planning of Investment Programs in the Steel Industry. The Johns Hopkins University Press (Baltimore, MD, 1984). Several detailed mathematical programming models, using the Mexican steel industry as an example.\n",
        "\n",
        "* Robert J. Vanderbei, Linear Programming: Foundations and Extensions (2nd edition). Kluwer Academic Publishers (Dordrecht, The Netherlands, 2001). An updated survey of linear programming theory and methods."
      ],
      "metadata": {
        "id": "648sRTUWbPkv"
      }
    }
  ],
  "metadata": {
    "kernelspec": {
      "display_name": "Python 3 (ipykernel)",
      "language": "python",
      "name": "python3"
    },
    "language_info": {
      "codemirror_mode": {
        "name": "ipython",
        "version": 3
      },
      "file_extension": ".py",
      "mimetype": "text/x-python",
      "name": "python",
      "nbconvert_exporter": "python",
      "pygments_lexer": "ipython3",
      "version": "3.9.8"
    },
    "colab": {
      "name": "Copy of steel.ipynb",
      "provenance": [],
      "collapsed_sections": []
    },
    "widgets": {
      "application/vnd.jupyter.widget-state+json": {
        "ad95703d280b40d79dad3ab6e60b426e": {
          "model_module": "@jupyter-widgets/controls",
          "model_name": "VBoxModel",
          "model_module_version": "1.5.0",
          "state": {
            "_dom_classes": [],
            "_model_module": "@jupyter-widgets/controls",
            "_model_module_version": "1.5.0",
            "_model_name": "VBoxModel",
            "_view_count": null,
            "_view_module": "@jupyter-widgets/controls",
            "_view_module_version": "1.5.0",
            "_view_name": "VBoxView",
            "box_style": "",
            "children": [
              "IPY_MODEL_10549898c3ab4b72adb8225d7ff85009",
              "IPY_MODEL_ca2914fe24054b1c9f1785f696e041c3",
              "IPY_MODEL_a7a4fea5da114ce09adacf5ec6f6f672"
            ],
            "layout": "IPY_MODEL_ade4e56fbf194d5482570c776e623c9e"
          }
        },
        "10549898c3ab4b72adb8225d7ff85009": {
          "model_module": "@jupyter-widgets/controls",
          "model_name": "HBoxModel",
          "model_module_version": "1.5.0",
          "state": {
            "_dom_classes": [],
            "_model_module": "@jupyter-widgets/controls",
            "_model_module_version": "1.5.0",
            "_model_name": "HBoxModel",
            "_view_count": null,
            "_view_module": "@jupyter-widgets/controls",
            "_view_module_version": "1.5.0",
            "_view_name": "HBoxView",
            "box_style": "",
            "children": [
              "IPY_MODEL_347ba7170a3d4e1cbf80ae4d04b517bc",
              "IPY_MODEL_9b3f842d5af14953a0a4772db38fc8bd"
            ],
            "layout": "IPY_MODEL_4f1d1c242b994a3485a5d88833149517"
          }
        },
        "ca2914fe24054b1c9f1785f696e041c3": {
          "model_module": "@jupyter-widgets/output",
          "model_name": "OutputModel",
          "model_module_version": "1.0.0",
          "state": {
            "_dom_classes": [],
            "_model_module": "@jupyter-widgets/output",
            "_model_module_version": "1.0.0",
            "_model_name": "OutputModel",
            "_view_count": null,
            "_view_module": "@jupyter-widgets/output",
            "_view_module_version": "1.0.0",
            "_view_name": "OutputView",
            "layout": "IPY_MODEL_ce460b127382488f89be79fce3dd5886",
            "msg_id": "",
            "outputs": [
              {
                "output_type": "stream",
                "name": "stdout",
                "text": [
                  "Using demo license.\n"
                ]
              }
            ]
          }
        },
        "a7a4fea5da114ce09adacf5ec6f6f672": {
          "model_module": "@jupyter-widgets/output",
          "model_name": "OutputModel",
          "model_module_version": "1.0.0",
          "state": {
            "_dom_classes": [],
            "_model_module": "@jupyter-widgets/output",
            "_model_module_version": "1.0.0",
            "_model_name": "OutputModel",
            "_view_count": null,
            "_view_module": "@jupyter-widgets/output",
            "_view_module_version": "1.0.0",
            "_view_name": "OutputView",
            "layout": "IPY_MODEL_e928d6a897c943638c67bfe0d7253c6c",
            "msg_id": "",
            "outputs": [
              {
                "output_type": "stream",
                "name": "stdout",
                "text": [
                  "\n",
                  "AMPL Version 20220323 (Linux-5.4.0-1072-azure, 64-bit)\n",
                  "Demo license with maintenance expiring 20240131.\n",
                  "Using license file \"/content/ampl.linux-intel64/ampl.lic\".\n",
                  "\n"
                ]
              }
            ]
          }
        },
        "ade4e56fbf194d5482570c776e623c9e": {
          "model_module": "@jupyter-widgets/base",
          "model_name": "LayoutModel",
          "model_module_version": "1.2.0",
          "state": {
            "_model_module": "@jupyter-widgets/base",
            "_model_module_version": "1.2.0",
            "_model_name": "LayoutModel",
            "_view_count": null,
            "_view_module": "@jupyter-widgets/base",
            "_view_module_version": "1.2.0",
            "_view_name": "LayoutView",
            "align_content": null,
            "align_items": null,
            "align_self": null,
            "border": null,
            "bottom": null,
            "display": null,
            "flex": null,
            "flex_flow": null,
            "grid_area": null,
            "grid_auto_columns": null,
            "grid_auto_flow": null,
            "grid_auto_rows": null,
            "grid_column": null,
            "grid_gap": null,
            "grid_row": null,
            "grid_template_areas": null,
            "grid_template_columns": null,
            "grid_template_rows": null,
            "height": null,
            "justify_content": null,
            "justify_items": null,
            "left": null,
            "margin": null,
            "max_height": null,
            "max_width": null,
            "min_height": null,
            "min_width": null,
            "object_fit": null,
            "object_position": null,
            "order": null,
            "overflow": null,
            "overflow_x": null,
            "overflow_y": null,
            "padding": null,
            "right": null,
            "top": null,
            "visibility": null,
            "width": null
          }
        },
        "347ba7170a3d4e1cbf80ae4d04b517bc": {
          "model_module": "@jupyter-widgets/controls",
          "model_name": "ButtonModel",
          "model_module_version": "1.5.0",
          "state": {
            "_dom_classes": [],
            "_model_module": "@jupyter-widgets/controls",
            "_model_module_version": "1.5.0",
            "_model_name": "ButtonModel",
            "_view_count": null,
            "_view_module": "@jupyter-widgets/controls",
            "_view_module_version": "1.5.0",
            "_view_name": "ButtonView",
            "button_style": "",
            "description": "Use demo license",
            "disabled": false,
            "icon": "",
            "layout": "IPY_MODEL_7a92a8c7e7814dd7b7657a5263764b80",
            "style": "IPY_MODEL_52a5975b71e34faa8a85c5dbc6ad712a",
            "tooltip": ""
          }
        },
        "9b3f842d5af14953a0a4772db38fc8bd": {
          "model_module": "@jupyter-widgets/controls",
          "model_name": "TextModel",
          "model_module_version": "1.5.0",
          "state": {
            "_dom_classes": [],
            "_model_module": "@jupyter-widgets/controls",
            "_model_module_version": "1.5.0",
            "_model_name": "TextModel",
            "_view_count": null,
            "_view_module": "@jupyter-widgets/controls",
            "_view_module_version": "1.5.0",
            "_view_name": "TextView",
            "continuous_update": true,
            "description": "UUID:",
            "description_tooltip": null,
            "disabled": false,
            "layout": "IPY_MODEL_49680199d4334c8a8675c478367c116d",
            "placeholder": "​",
            "style": "IPY_MODEL_dd991faafa194178b2787c4ba5dd4ac3",
            "value": ""
          }
        },
        "4f1d1c242b994a3485a5d88833149517": {
          "model_module": "@jupyter-widgets/base",
          "model_name": "LayoutModel",
          "model_module_version": "1.2.0",
          "state": {
            "_model_module": "@jupyter-widgets/base",
            "_model_module_version": "1.2.0",
            "_model_name": "LayoutModel",
            "_view_count": null,
            "_view_module": "@jupyter-widgets/base",
            "_view_module_version": "1.2.0",
            "_view_name": "LayoutView",
            "align_content": null,
            "align_items": null,
            "align_self": null,
            "border": null,
            "bottom": null,
            "display": null,
            "flex": null,
            "flex_flow": null,
            "grid_area": null,
            "grid_auto_columns": null,
            "grid_auto_flow": null,
            "grid_auto_rows": null,
            "grid_column": null,
            "grid_gap": null,
            "grid_row": null,
            "grid_template_areas": null,
            "grid_template_columns": null,
            "grid_template_rows": null,
            "height": null,
            "justify_content": null,
            "justify_items": null,
            "left": null,
            "margin": null,
            "max_height": null,
            "max_width": null,
            "min_height": null,
            "min_width": null,
            "object_fit": null,
            "object_position": null,
            "order": null,
            "overflow": null,
            "overflow_x": null,
            "overflow_y": null,
            "padding": null,
            "right": null,
            "top": null,
            "visibility": null,
            "width": null
          }
        },
        "7a92a8c7e7814dd7b7657a5263764b80": {
          "model_module": "@jupyter-widgets/base",
          "model_name": "LayoutModel",
          "model_module_version": "1.2.0",
          "state": {
            "_model_module": "@jupyter-widgets/base",
            "_model_module_version": "1.2.0",
            "_model_name": "LayoutModel",
            "_view_count": null,
            "_view_module": "@jupyter-widgets/base",
            "_view_module_version": "1.2.0",
            "_view_name": "LayoutView",
            "align_content": null,
            "align_items": null,
            "align_self": null,
            "border": null,
            "bottom": null,
            "display": null,
            "flex": null,
            "flex_flow": null,
            "grid_area": null,
            "grid_auto_columns": null,
            "grid_auto_flow": null,
            "grid_auto_rows": null,
            "grid_column": null,
            "grid_gap": null,
            "grid_row": null,
            "grid_template_areas": null,
            "grid_template_columns": null,
            "grid_template_rows": null,
            "height": null,
            "justify_content": null,
            "justify_items": null,
            "left": null,
            "margin": null,
            "max_height": null,
            "max_width": null,
            "min_height": null,
            "min_width": null,
            "object_fit": null,
            "object_position": null,
            "order": null,
            "overflow": null,
            "overflow_x": null,
            "overflow_y": null,
            "padding": null,
            "right": null,
            "top": null,
            "visibility": null,
            "width": null
          }
        },
        "52a5975b71e34faa8a85c5dbc6ad712a": {
          "model_module": "@jupyter-widgets/controls",
          "model_name": "ButtonStyleModel",
          "model_module_version": "1.5.0",
          "state": {
            "_model_module": "@jupyter-widgets/controls",
            "_model_module_version": "1.5.0",
            "_model_name": "ButtonStyleModel",
            "_view_count": null,
            "_view_module": "@jupyter-widgets/base",
            "_view_module_version": "1.2.0",
            "_view_name": "StyleView",
            "button_color": null,
            "font_weight": ""
          }
        },
        "49680199d4334c8a8675c478367c116d": {
          "model_module": "@jupyter-widgets/base",
          "model_name": "LayoutModel",
          "model_module_version": "1.2.0",
          "state": {
            "_model_module": "@jupyter-widgets/base",
            "_model_module_version": "1.2.0",
            "_model_name": "LayoutModel",
            "_view_count": null,
            "_view_module": "@jupyter-widgets/base",
            "_view_module_version": "1.2.0",
            "_view_name": "LayoutView",
            "align_content": null,
            "align_items": null,
            "align_self": null,
            "border": null,
            "bottom": null,
            "display": null,
            "flex": null,
            "flex_flow": null,
            "grid_area": null,
            "grid_auto_columns": null,
            "grid_auto_flow": null,
            "grid_auto_rows": null,
            "grid_column": null,
            "grid_gap": null,
            "grid_row": null,
            "grid_template_areas": null,
            "grid_template_columns": null,
            "grid_template_rows": null,
            "height": null,
            "justify_content": null,
            "justify_items": null,
            "left": null,
            "margin": null,
            "max_height": null,
            "max_width": null,
            "min_height": null,
            "min_width": null,
            "object_fit": null,
            "object_position": null,
            "order": null,
            "overflow": null,
            "overflow_x": null,
            "overflow_y": null,
            "padding": null,
            "right": null,
            "top": null,
            "visibility": null,
            "width": null
          }
        },
        "dd991faafa194178b2787c4ba5dd4ac3": {
          "model_module": "@jupyter-widgets/controls",
          "model_name": "DescriptionStyleModel",
          "model_module_version": "1.5.0",
          "state": {
            "_model_module": "@jupyter-widgets/controls",
            "_model_module_version": "1.5.0",
            "_model_name": "DescriptionStyleModel",
            "_view_count": null,
            "_view_module": "@jupyter-widgets/base",
            "_view_module_version": "1.2.0",
            "_view_name": "StyleView",
            "description_width": ""
          }
        },
        "ce460b127382488f89be79fce3dd5886": {
          "model_module": "@jupyter-widgets/base",
          "model_name": "LayoutModel",
          "model_module_version": "1.2.0",
          "state": {
            "_model_module": "@jupyter-widgets/base",
            "_model_module_version": "1.2.0",
            "_model_name": "LayoutModel",
            "_view_count": null,
            "_view_module": "@jupyter-widgets/base",
            "_view_module_version": "1.2.0",
            "_view_name": "LayoutView",
            "align_content": null,
            "align_items": null,
            "align_self": null,
            "border": null,
            "bottom": null,
            "display": null,
            "flex": null,
            "flex_flow": null,
            "grid_area": null,
            "grid_auto_columns": null,
            "grid_auto_flow": null,
            "grid_auto_rows": null,
            "grid_column": null,
            "grid_gap": null,
            "grid_row": null,
            "grid_template_areas": null,
            "grid_template_columns": null,
            "grid_template_rows": null,
            "height": null,
            "justify_content": null,
            "justify_items": null,
            "left": null,
            "margin": null,
            "max_height": null,
            "max_width": null,
            "min_height": null,
            "min_width": null,
            "object_fit": null,
            "object_position": null,
            "order": null,
            "overflow": null,
            "overflow_x": null,
            "overflow_y": null,
            "padding": null,
            "right": null,
            "top": null,
            "visibility": null,
            "width": null
          }
        },
        "e928d6a897c943638c67bfe0d7253c6c": {
          "model_module": "@jupyter-widgets/base",
          "model_name": "LayoutModel",
          "model_module_version": "1.2.0",
          "state": {
            "_model_module": "@jupyter-widgets/base",
            "_model_module_version": "1.2.0",
            "_model_name": "LayoutModel",
            "_view_count": null,
            "_view_module": "@jupyter-widgets/base",
            "_view_module_version": "1.2.0",
            "_view_name": "LayoutView",
            "align_content": null,
            "align_items": null,
            "align_self": null,
            "border": null,
            "bottom": null,
            "display": null,
            "flex": null,
            "flex_flow": null,
            "grid_area": null,
            "grid_auto_columns": null,
            "grid_auto_flow": null,
            "grid_auto_rows": null,
            "grid_column": null,
            "grid_gap": null,
            "grid_row": null,
            "grid_template_areas": null,
            "grid_template_columns": null,
            "grid_template_rows": null,
            "height": null,
            "justify_content": null,
            "justify_items": null,
            "left": null,
            "margin": null,
            "max_height": null,
            "max_width": null,
            "min_height": null,
            "min_width": null,
            "object_fit": null,
            "object_position": null,
            "order": null,
            "overflow": null,
            "overflow_x": null,
            "overflow_y": null,
            "padding": null,
            "right": null,
            "top": null,
            "visibility": null,
            "width": null
          }
        }
      }
    }
  },
  "nbformat": 4,
  "nbformat_minor": 0
}